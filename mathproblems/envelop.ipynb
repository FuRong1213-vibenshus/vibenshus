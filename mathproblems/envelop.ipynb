{
  "cells": [
    {
      "cell_type": "markdown",
      "metadata": {
        "colab_type": "text",
        "id": "view-in-github"
      },
      "source": [
        "<a href=\"https://colab.research.google.com/github/FuRong1213-vibenshus/vibenshus/blob/master/envelop.ipynb\" target=\"_parent\"><img src=\"https://colab.research.google.com/assets/colab-badge.svg\" alt=\"Open In Colab\"/></a>"
      ]
    },
    {
      "cell_type": "markdown",
      "metadata": {
        "id": "Fbhjt8jaCSM9"
      },
      "source": [
        "###Break down the problem of simulating the envelope game to determine if the strategy of rejecting a little over a third of the envelope and then following the rest of the protocol gets you the highest value about a third of the time. These subtasks can include things like generating a sequence of envelopes, rejecting a fraction p of them, and sequentially picking envelopes till one higher than a specific value is found. For each subtask, identify the inputs, outputs and the method."
      ]
    },
    {
      "cell_type": "markdown",
      "metadata": {
        "id": "QsE1GStuCnOT"
      },
      "source": [
        "> Generating a sequence of envelopes"
      ]
    },
    {
      "cell_type": "markdown",
      "metadata": {
        "id": "nyX7B9lmDFZz"
      },
      "source": [
        "> Rejecting a fraction p of them"
      ]
    },
    {
      "cell_type": "markdown",
      "metadata": {
        "id": "AVYtGtbBD-Sk"
      },
      "source": [
        ">Sequentially picking up the evenlops until the value is higher than the record."
      ]
    },
    {
      "cell_type": "code",
      "execution_count": 6,
      "metadata": {
        "colab": {
          "base_uri": "https://localhost:8080/"
        },
        "id": "tT-QIgVOCJmU",
        "outputId": "28ad48fe-a5cd-4f83-b0d7-2c5ecca36c8e"
      },
      "outputs": [
        {
          "name": "stdout",
          "output_type": "stream",
          "text": [
            "sucessful rate is : 0.363\n"
          ]
        }
      ],
      "source": [
        "import random\n",
        "NUM_OF_TEST = 2000\n",
        "MAX_VALUE=1000\n",
        "REJECT_FRACTION=0.3\n",
        "DROP_IDX=int(MAX_VALUE*REJECT_FRACTION)\n",
        "class Envelop():\n",
        "  def __init__(self, value):\n",
        "    \"\"\" Initialize the value of envelops. \"\"\"\n",
        "    self.value = value\n",
        "  \n",
        "class MaxValued():\n",
        "  def __init__(self, maxvalue=0):\n",
        "    self.maxvalue = maxvalue\n",
        "  def get_max_value(self, enevlop):\n",
        "    if self.maxvalue < enevlop.value:\n",
        "      self.maxvalue = enevlop.value\n",
        "\n",
        "num_of_sucess = 0\n",
        "envelop_list = []\n",
        "record = MaxValued();\n",
        "\n",
        "for i in range(NUM_OF_TEST):\n",
        "  record.maxvalue=0;\n",
        "  envelop_list[:] = []\n",
        "  for j in range(MAX_VALUE):\n",
        "    envelop_list.append(Envelop(j+1))\n",
        "\n",
        "  for l in range(MAX_VALUE, 0, -1):\n",
        "    idx = random.randint(0, l-1)\n",
        "    a_envelop = envelop_list[idx]\n",
        "  \n",
        "    if (a_envelop.value == MAX_VALUE) and \\\n",
        "       (l>=MAX_VALUE-DROP_IDX):\n",
        "       break\n",
        "    elif (l< MAX_VALUE-DROP_IDX) and \\\n",
        "       a_envelop.value > record.maxvalue and \\\n",
        "       a_envelop.value < MAX_VALUE:\n",
        "       break\n",
        "    elif (l< MAX_VALUE-DROP_IDX) and \\\n",
        "       (a_envelop.value == MAX_VALUE):\n",
        "       num_of_sucess +=1\n",
        "       break\n",
        "    else:\n",
        "      record.get_max_value(a_envelop)\n",
        "      del envelop_list[idx]\n",
        "print(\"sucessful rate is :\", num_of_sucess/float(NUM_OF_TEST))"
      ]
    },
    {
      "cell_type": "code",
      "execution_count": 7,
      "metadata": {
        "colab": {
          "base_uri": "https://localhost:8080/"
        },
        "id": "FgdRBneamUwE",
        "outputId": "9703860b-672b-4b26-dfc1-4ff738e0b120"
      },
      "outputs": [
        {
          "name": "stdout",
          "output_type": "stream",
          "text": [
            "sucessful rate for  0.1 0.248\n",
            "sucessful rate for  0.12 0.263\n",
            "sucessful rate for  0.14 0.288\n",
            "sucessful rate for  0.16 0.288\n",
            "sucessful rate for  0.18 0.3055\n",
            "sucessful rate for  0.2 0.323\n",
            "sucessful rate for  0.22 0.3375\n",
            "sucessful rate for  0.24 0.3475\n",
            "sucessful rate for  0.26 0.3515\n",
            "sucessful rate for  0.28 0.368\n",
            "sucessful rate for  0.3 0.3575\n",
            "sucessful rate for  0.32 0.369\n",
            "sucessful rate for  0.34 0.3595\n",
            "sucessful rate for  0.36 0.368\n",
            "sucessful rate for  0.38 0.346\n",
            "sucessful rate for  0.4 0.3585\n",
            "sucessful rate for  0.42 0.374\n",
            "sucessful rate for  0.44 0.3705\n",
            "sucessful rate for  0.46 0.3685\n",
            "sucessful rate for  0.48 0.3705\n",
            "sucessful rate for  0.5 0.3335\n",
            "sucessful rate for  0.52 0.34\n",
            "sucessful rate for  0.54 0.318\n",
            "sucessful rate for  0.56 0.318\n",
            "sucessful rate for  0.58 0.305\n",
            "sucessful rate for  0.6 0.3205\n",
            "sucessful rate for  0.62 0.296\n",
            "sucessful rate for  0.64 0.2765\n",
            "sucessful rate for  0.66 0.2885\n",
            "sucessful rate for  0.68 0.258\n"
          ]
        }
      ],
      "source": [
        "import numpy as np\n",
        "num_of_sucess = 0\n",
        "for drop_fraction in range(10,70, 2):\n",
        "  DROP_IDX=int(MAX_VALUE*drop_fraction/100.0)\n",
        "  for i in range(NUM_OF_TEST):\n",
        "    random_list = random.sample(range(1, MAX_VALUE+1), MAX_VALUE)\n",
        "    droped_list = np.array(random_list[0:DROP_IDX])\n",
        "    keeped_list = np.array(random_list[DROP_IDX:])\n",
        "    rejected_max = droped_list.max()\n",
        "    if (rejected_max == MAX_VALUE):\n",
        "      continue\n",
        "    elif keeped_list[keeped_list>rejected_max][0] == MAX_VALUE :\n",
        "      num_of_sucess +=1\n",
        "  print(\"sucessful rate for \", drop_fraction/100.0 , num_of_sucess/float(NUM_OF_TEST))\n",
        "  num_of_sucess = 0\n"
      ]
    },
    {
      "cell_type": "code",
      "execution_count": 12,
      "metadata": {
        "colab": {
          "base_uri": "https://localhost:8080/"
        },
        "id": "sEYkSQOkHLEh",
        "outputId": "86ff254e-41b4-4c6c-8083-038994d7ab86"
      },
      "outputs": [
        {
          "data": {
            "text/plain": [
              "1000"
            ]
          },
          "execution_count": 12,
          "metadata": {},
          "output_type": "execute_result"
        }
      ],
      "source": [
        "droped_list.max()"
      ]
    },
    {
      "cell_type": "code",
      "execution_count": null,
      "metadata": {
        "id": "WKpHjFjZLUQ5"
      },
      "outputs": [],
      "source": []
    }
  ],
  "metadata": {
    "colab": {
      "authorship_tag": "ABX9TyMJg4oDGd4H6kTImEF5eCeU",
      "collapsed_sections": [],
      "include_colab_link": true,
      "provenance": []
    },
    "kernelspec": {
      "display_name": "Python 3",
      "language": "python",
      "name": "python3"
    },
    "language_info": {
      "name": "python",
      "version": "3.10.10"
    },
    "vscode": {
      "interpreter": {
        "hash": "4b18ff9e223cafbbe040b07115946483b62b3d76b6e5877ada2a230580d0bfae"
      }
    }
  },
  "nbformat": 4,
  "nbformat_minor": 0
}
