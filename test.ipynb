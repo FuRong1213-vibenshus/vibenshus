{
  "cells": [
    {
      "cell_type": "markdown",
      "metadata": {
        "colab_type": "text",
        "id": "view-in-github"
      },
      "source": [
        "<a href=\"https://colab.research.google.com/github/FuRong1213-vibenshus/vibenshus/blob/master/test.ipynb\" target=\"_parent\"><img src=\"https://colab.research.google.com/assets/colab-badge.svg\" alt=\"Open In Colab\"/></a>"
      ]
    },
    {
      "cell_type": "markdown",
      "metadata": {
        "id": "Fbhjt8jaCSM9"
      },
      "source": [
        "###Break down the problem of simulating the envelope game to determine if the strategy of rejecting a little over a third of the envelope and then following the rest of the protocol gets you the highest value about a third of the time. These subtasks can include things like generating a sequence of envelopes, rejecting a fraction p of them, and sequentially picking envelopes till one higher than a specific value is found. For each subtask, identify the inputs, outputs and the method."
      ]
    },
    {
      "cell_type": "markdown",
      "metadata": {
        "id": "QsE1GStuCnOT"
      },
      "source": [
        "> Generating a sequence of envelopes"
      ]
    },
    {
      "cell_type": "code",
      "execution_count": null,
      "metadata": {
        "id": "ivwIn37oEgE9"
      },
      "outputs": [],
      "source": [
        "class Envelop():\n",
        "  def __init__(self, value, index):\n",
        "    \"\"\" Initialize the value of envelops. \"\"\"\n",
        "    self.value = value\n",
        "    self.index = index"
      ]
    },
    {
      "cell_type": "markdown",
      "metadata": {
        "id": "E2Sv257vDyL0"
      },
      "source": [
        "> Record the highest value of the opened evenlopes"
      ]
    },
    {
      "cell_type": "code",
      "execution_count": null,
      "metadata": {
        "id": "COofsx91FLPN"
      },
      "outputs": [],
      "source": [
        "class MaxValued():\n",
        "  def __init__(self, maxvalue=0):\n",
        "    self.maxvalue = maxvalue\n",
        "  def get_max_value(self, enevlop):\n",
        "    if self.maxvalue < enevlop.value:\n",
        "      self.maxvalue = enevlop.value\n",
        "\n"
      ]
    },
    {
      "cell_type": "markdown",
      "metadata": {
        "id": "nyX7B9lmDFZz"
      },
      "source": [
        "> Rejecting a fraction p of them"
      ]
    },
    {
      "cell_type": "markdown",
      "metadata": {
        "id": "AVYtGtbBD-Sk"
      },
      "source": [
        ">Sequentially picking up the evenlops until the value is higher than the record."
      ]
    },
    {
      "cell_type": "code",
      "execution_count": null,
      "metadata": {
        "colab": {
          "base_uri": "https://localhost:8080/",
          "height": 133
        },
        "id": "RaqaqDV-CW3p",
        "outputId": "dd7b66f8-d5e5-497d-a894-352eba66c03d"
      },
      "outputs": [
        {
          "ename": "SyntaxError",
          "evalue": "ignored",
          "output_type": "error",
          "traceback": [
            "\u001b[0;36m  File \u001b[0;32m\"<ipython-input-1-398f560ababc>\"\u001b[0;36m, line \u001b[0;32m1\u001b[0m\n\u001b[0;31m    rejecting a fraction p of them\u001b[0m\n\u001b[0m              ^\u001b[0m\n\u001b[0;31mSyntaxError\u001b[0m\u001b[0;31m:\u001b[0m invalid syntax\n"
          ]
        }
      ],
      "source": []
    },
    {
      "cell_type": "code",
      "execution_count": null,
      "metadata": {
        "id": "tT-QIgVOCJmU"
      },
      "outputs": [],
      "source": []
    }
  ],
  "metadata": {
    "colab": {
      "authorship_tag": "ABX9TyMRv56K4ln5zJa3N18ih3rC",
      "collapsed_sections": [],
      "include_colab_link": true,
      "provenance": []
    },
    "kernelspec": {
      "display_name": "Python 3.10.6 64-bit (microsoft store)",
      "language": "python",
      "name": "python3"
    },
    "language_info": {
      "name": "python",
      "version": "3.10.6"
    },
    "vscode": {
      "interpreter": {
        "hash": "4b18ff9e223cafbbe040b07115946483b62b3d76b6e5877ada2a230580d0bfae"
      }
    }
  },
  "nbformat": 4,
  "nbformat_minor": 0
}
