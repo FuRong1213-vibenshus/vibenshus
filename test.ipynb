{
  "nbformat": 4,
  "nbformat_minor": 0,
  "metadata": {
    "colab": {
      "provenance": [],
      "collapsed_sections": [],
      "authorship_tag": "ABX9TyMRv56K4ln5zJa3N18ih3rC",
      "include_colab_link": true
    },
    "kernelspec": {
      "name": "python3",
      "display_name": "Python 3"
    },
    "language_info": {
      "name": "python"
    }
  },
  "cells": [
    {
      "cell_type": "markdown",
      "metadata": {
        "id": "view-in-github",
        "colab_type": "text"
      },
      "source": [
        "<a href=\"https://colab.research.google.com/github/FuRong1213-vibenshus/vibenshus/blob/master/test.ipynb\" target=\"_parent\"><img src=\"https://colab.research.google.com/assets/colab-badge.svg\" alt=\"Open In Colab\"/></a>"
      ]
    },
    {
      "cell_type": "markdown",
      "source": [
        "###Break down the problem of simulating the envelope game to determine if the strategy of rejecting a little over a third of the envelope and then following the rest of the protocol gets you the highest value about a third of the time. These subtasks can include things like generating a sequence of envelopes, rejecting a fraction p of them, and sequentially picking envelopes till one higher than a specific value is found. For each subtask, identify the inputs, outputs and the method."
      ],
      "metadata": {
        "id": "Fbhjt8jaCSM9"
      }
    },
    {
      "cell_type": "markdown",
      "source": [
        "> Generating a sequence of envelopes"
      ],
      "metadata": {
        "id": "QsE1GStuCnOT"
      }
    },
    {
      "cell_type": "code",
      "source": [
        "class Envelop():\n",
        "  def __init__(self, value, index):\n",
        "    \"\"\" Initialize the value of envelops. \"\"\"\n",
        "    self.value = value\n",
        "    self.index = index"
      ],
      "metadata": {
        "id": "ivwIn37oEgE9"
      },
      "execution_count": null,
      "outputs": []
    },
    {
      "cell_type": "markdown",
      "source": [
        "> Record the highest value of the opened evenlopes"
      ],
      "metadata": {
        "id": "E2Sv257vDyL0"
      }
    },
    {
      "cell_type": "code",
      "source": [
        "class MaxValued():\n",
        "  def __init__(self, maxvalue=0):\n",
        "    self.maxvalue = maxvalue\n",
        "  def get_max_value(self, enevlop):\n",
        "    if self.maxvalue < enevlop.value:\n",
        "      self.maxvalue = enevlop.value\n",
        "\n"
      ],
      "metadata": {
        "id": "COofsx91FLPN"
      },
      "execution_count": null,
      "outputs": []
    },
    {
      "cell_type": "markdown",
      "source": [
        "> Rejecting a fraction p of them"
      ],
      "metadata": {
        "id": "nyX7B9lmDFZz"
      }
    },
    {
      "cell_type": "markdown",
      "source": [
        ">Sequentially picking up the evenlops until the value is higher than the record."
      ],
      "metadata": {
        "id": "AVYtGtbBD-Sk"
      }
    },
    {
      "cell_type": "code",
      "source": [],
      "metadata": {
        "colab": {
          "base_uri": "https://localhost:8080/",
          "height": 133
        },
        "id": "RaqaqDV-CW3p",
        "outputId": "dd7b66f8-d5e5-497d-a894-352eba66c03d"
      },
      "execution_count": null,
      "outputs": [
        {
          "output_type": "error",
          "ename": "SyntaxError",
          "evalue": "ignored",
          "traceback": [
            "\u001b[0;36m  File \u001b[0;32m\"<ipython-input-1-398f560ababc>\"\u001b[0;36m, line \u001b[0;32m1\u001b[0m\n\u001b[0;31m    rejecting a fraction p of them\u001b[0m\n\u001b[0m              ^\u001b[0m\n\u001b[0;31mSyntaxError\u001b[0m\u001b[0;31m:\u001b[0m invalid syntax\n"
          ]
        }
      ]
    },
    {
      "cell_type": "code",
      "execution_count": null,
      "metadata": {
        "id": "tT-QIgVOCJmU"
      },
      "outputs": [],
      "source": []
    }
  ]
}