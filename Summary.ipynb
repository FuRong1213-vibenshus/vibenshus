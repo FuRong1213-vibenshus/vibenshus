{
  "nbformat": 4,
  "nbformat_minor": 0,
  "metadata": {
    "colab": {
      "provenance": [],
      "authorship_tag": "ABX9TyP9P60bPWTje4trasko8bsz",
      "include_colab_link": true
    },
    "kernelspec": {
      "name": "python3",
      "display_name": "Python 3"
    },
    "language_info": {
      "name": "python"
    }
  },
  "cells": [
    {
      "cell_type": "markdown",
      "metadata": {
        "id": "view-in-github",
        "colab_type": "text"
      },
      "source": [
        "<a href=\"https://colab.research.google.com/github/FuRong1213-vibenshus/vibenshus/blob/master/Summary.ipynb\" target=\"_parent\"><img src=\"https://colab.research.google.com/assets/colab-badge.svg\" alt=\"Open In Colab\"/></a>"
      ]
    },
    {
      "cell_type": "markdown",
      "source": [
        "# Faglig formål\n",
        "- bruge programmering til at undersøge et emne eller problemområde, med henblik på via pro\u0002grammets funktion at skabe ny indsigt eller til at løse et problem.\n",
        "- behandle problemstillinger i samspil med andre fag.\n",
        "- anvende avancerede konstruktioner i et programmeringssprog.\n",
        "- redegøre for arkitekturen af programmer på forskellige abstraktionsniveauer, herunder relationen \n",
        "mellem brug og funktion.\n",
        "- redegøre for simple specifikationsmodeller og realisere disse i simple velstrukturerede programmer \n",
        "samt teste disse. \n",
        "- rette, tilpasse og udvide avancerede programmer. \n",
        "- demonstrere viden om fagets identitet og metoder. \n",
        "- arbejde inkrementelt og systematisk i programmeringsprocessen. "
      ],
      "metadata": {
        "id": "Iymi3jpqC3-N"
      }
    },
    {
      "cell_type": "markdown",
      "source": [
        "# Kernestof\n",
        "- programmeringssprog og elementer i programmers opbygning, herunder variabler, typer, udtryk, \n",
        "kontrolstrukturer, parametrisering/abstraktionsmekanismer, rekursion, polymorfi og algoritmemønstre\n",
        "- arkitekturen for programmers interaktion med omgivelserne med henblik på hændelsesstyret interaktion og interaktion mellem systemer\n",
        "- generiske programdele og biblioteksmoduler\n",
        "- arbejdsgange og systematik i programmeringsprocessen, herunder test og fejlfinding"
      ],
      "metadata": {
        "id": "BiqtBvzcMD_G"
      }
    },
    {
      "cell_type": "markdown",
      "source": [
        "## Variabler, typer, udtryk, kontrolstrukturer, Data structure \n",
        "  - Numbers, String, List, Tuple, Dictionary, \n",
        "  - Map, Array, Series, DataFrame\n",
        "  - Numpy, pandas, matplotlib"
      ],
      "metadata": {
        "id": "K1eWUVy1ctGT"
      }
    },
    {
      "cell_type": "markdown",
      "source": [
        "## Parametrisering/abstraktionsmekanismer, rekursion og algoritmemønstre\n",
        "  - Flowchart, UML Diagram. \n",
        "  - Pseudocode\n",
        "  - Rekursion"
      ],
      "metadata": {
        "id": "h0vUu316dOdV"
      }
    },
    {
      "cell_type": "markdown",
      "source": [
        "## Polymorfi\n",
        "  - Class"
      ],
      "metadata": {
        "id": "oziFurQWdUol"
      }
    },
    {
      "cell_type": "markdown",
      "source": [
        "## Arkitekturen for programmers interaktion med omgivelserne.\n",
        "  - Tre-lags modellen\n",
        "  - Matplotlib\n",
        "  - GUI"
      ],
      "metadata": {
        "id": "hA7P3Cb4dcwm"
      }
    },
    {
      "cell_type": "markdown",
      "source": [
        "## Generiske programdele og biblioteksmoduler\n",
        "  - modules and packages"
      ],
      "metadata": {
        "id": "gHUqXZsJdojH"
      }
    },
    {
      "cell_type": "markdown",
      "source": [
        "## Arbejdsgange og systematik i programmeringsprocessen, herunder test og fejlfinding\n",
        "  - Brugertest"
      ],
      "metadata": {
        "id": "d6EEBt-Cdt1D"
      }
    },
    {
      "cell_type": "markdown",
      "source": [],
      "metadata": {
        "id": "dvIzKQkrdqgW"
      }
    },
    {
      "cell_type": "code",
      "execution_count": null,
      "metadata": {
        "id": "WznrFqP9C1If"
      },
      "outputs": [],
      "source": []
    }
  ]
}