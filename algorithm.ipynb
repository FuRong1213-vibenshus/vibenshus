{
  "cells": [
    {
      "cell_type": "markdown",
      "metadata": {
        "colab_type": "text",
        "id": "view-in-github"
      },
      "source": [
        "<a href=\"https://colab.research.google.com/github/FuRong1213-vibenshus/vibenshus/blob/master/algorithm.ipynb\" target=\"_parent\"><img src=\"https://colab.research.google.com/assets/colab-badge.svg\" alt=\"Open In Colab\"/></a>"
      ]
    },
    {
      "cell_type": "markdown",
      "metadata": {
        "id": "IG7gApEGrAvV"
      },
      "source": [
        "# From Algorithm to code\n",
        "## Repetition:\n",
        "  - Algoritme:\n",
        "En metode med instrukser til at løse et problem, så et output beregnes ud fra et input. En algoritme skal altså beregne et output ud fra et input, lige som en matematisk funktion. Forskellen er, at en algoritme ydermere skal beskrive metoden til at beregne dets output.\n",
        "  - **Exercise 1**: Herunder ses et eksempel på Euklids algoritme https://da.wikipedia.org/wiki/Euklids_algoritme, som beregner den største fælles divisor af to tal. For eksempel er 14 den største fælles divisor af 70 og 252, fordi tallet går op i begge tal (divisor) og er det største af alle fælles divisorer (1, 2, 7, 14). \n"
      ]
    },
    {
      "cell_type": "code",
      "execution_count": null,
      "metadata": {
        "colab": {
          "base_uri": "https://localhost:8080/",
          "height": 133
        },
        "id": "1Rvz5z8wwbPs",
        "outputId": "59ddfdba-d79a-440c-d40b-6f7e2bef3dff"
      },
      "outputs": [
        {
          "ename": "SyntaxError",
          "evalue": "ignored",
          "output_type": "error",
          "traceback": [
            "\u001b[0;36m  File \u001b[0;32m\"<ipython-input-6-ebd27e070a9d>\"\u001b[0;36m, line \u001b[0;32m2\u001b[0m\n\u001b[0;31m    heltal euklid (positivt heltal A, positivt heltal B) {\u001b[0m\n\u001b[0m           ^\u001b[0m\n\u001b[0;31mSyntaxError\u001b[0m\u001b[0;31m:\u001b[0m invalid syntax\n"
          ]
        }
      ],
      "source": [
        "# Pseudocode\n",
        "heltal euklid (positivt heltal A, positivt heltal B) {\n",
        "    så længe (B != 0) {\n",
        "        hvis (A > B) så A ← A - B;\n",
        "        ellers B ← B - A;\n",
        "    }\n",
        "    returner A;\n",
        "}"
      ]
    },
    {
      "cell_type": "code",
      "execution_count": 10,
      "metadata": {
        "colab": {
          "base_uri": "https://localhost:8080/"
        },
        "id": "EzhYgzINyx0o",
        "outputId": "d682e180-5e79-4cd9-f49a-5c71cbdc55af"
      },
      "outputs": [
        {
          "data": {
            "text/plain": [
              "23"
            ]
          },
          "execution_count": 10,
          "metadata": {},
          "output_type": "execute_result"
        }
      ],
      "source": [
        "# Great common division\n",
        "def gcd(A, B):\n",
        "  \n",
        "  return A\n",
        "\n",
        "gcd(70, 252)"
      ]
    },
    {
      "cell_type": "markdown",
      "metadata": {
        "id": "niRwOCFQ1Gi0"
      },
      "source": [
        "- **Exercise 2 (G)**: The least common multiple (lcm) of a and b is their product divided by their greatest common divisor (gcd) ( i.e. lcm(a, b) = ab/gcd(a,b))\n",
        ". \n",
        "\n"
      ]
    },
    {
      "cell_type": "code",
      "execution_count": null,
      "metadata": {
        "id": "zSsRO6jnzmHH"
      },
      "outputs": [],
      "source": [
        "# Least Common multiple\n",
        "def lcm(A, B):\n",
        "  ## Din implementation\n",
        "  return C"
      ]
    },
    {
      "cell_type": "markdown",
      "metadata": {
        "id": "XhSJX-EewZIi"
      },
      "source": [
        "\n",
        "## Algorithmic technique:\n",
        "### Exhaustive Enumeration\n",
        "We enumerate all possibilities until we get to the right answer or exhaust the space of possibilities. \n"
      ]
    },
    {
      "cell_type": "code",
      "execution_count": null,
      "metadata": {
        "colab": {
          "base_uri": "https://localhost:8080/"
        },
        "id": "BgV4ss4Lqu6O",
        "outputId": "f073c257-6316-4f5d-995b-77cfb8bd4ffd"
      },
      "outputs": [
        {
          "name": "stdout",
          "output_type": "stream",
          "text": [
            "2\n"
          ]
        }
      ],
      "source": [
        "# Using exhaustive enumeration to find the cube root\n",
        "def find_cube_root(X):\n",
        "    ans = 0\n",
        "    while ans**3<abs(X):\n",
        "      ans = ans +1\n",
        "    if ans**3 != abs(X):\n",
        "      print(X, 'is not a perfect cube')\n",
        "      ans = None\n",
        "    else:\n",
        "      if X<0:\n",
        "        ans = -ans\n",
        "    return ans\n",
        "\n",
        "print(find_cube_root(8))"
      ]
    },
    {
      "cell_type": "markdown",
      "metadata": {
        "id": "kxqSjMMD6x67"
      },
      "source": [
        "- **Exercise 3 (G)**: Write a program that asks the user to enter an integer and prints two integers, root and pwr, such that 1 < pwr < 6 and root**pwr is equal to the integer entered by the user. if no such pair of integers exists, it should print a message to that effect "
      ]
    },
    {
      "cell_type": "code",
      "execution_count": null,
      "metadata": {
        "id": "FOBQ976-c580"
      },
      "outputs": [],
      "source": [
        "def get_root_pwr():\n",
        "  root = 1\n",
        "  pwr = 1\n",
        "  ## implementation her\n",
        "  return root, pwr"
      ]
    },
    {
      "cell_type": "markdown",
      "metadata": {
        "id": "RSOqMbob9J5O"
      },
      "source": [
        "### Approximate Solutions\n",
        "Imagine that if you are asked to write a program that finds the square root of any nonnegative number, what should you do? -- The right thing to have asked for is a program that finds an approximation to the square root -- i.e. an answer that is close enough to the actual square root to be useful. \n",
        "- ** Exercise 4 (G/Y)**:\n",
        "find the square root of non-integer\n",
        " "
      ]
    },
    {
      "cell_type": "code",
      "execution_count": null,
      "metadata": {
        "colab": {
          "base_uri": "https://localhost:8080/"
        },
        "id": "aoVscN2QDq_2",
        "outputId": "f4ceb3e8-4a43-4f2c-cbfb-b9f4b2debad7"
      },
      "outputs": [
        {
          "name": "stdout",
          "output_type": "stream",
          "text": [
            "4.47213595500161\n"
          ]
        }
      ],
      "source": [
        "def findRoot(x, epsilon):\n",
        "  \"\"\"input:    \n",
        "          x: whose the square root is desired\n",
        "          epsilon: the maximum difference between X and root.\n",
        "     output:   \n",
        "          root: the correct square root of X.\n",
        "     1. N<-X.\n",
        "     2. root = 0.5 * (X + (N / X)) \n",
        "        where N is any guess which can be assumed to be N or 1. \n",
        "     3. Check for the difference between the assumed X and calculated root, \n",
        "        if not yet inside tolerance then update root and continue. \n",
        "     4. Return the root \n",
        "  \"\"\"\n",
        "  n = x\n",
        "  root = 1\n",
        "  while (1) :\n",
        "    # your implementation\n",
        "    break\n",
        "  return root\n",
        "\n",
        "print(findRoot(20, 0.0001))\n"
      ]
    },
    {
      "cell_type": "markdown",
      "metadata": {
        "id": "kMYitWXLFtaF"
      },
      "source": [
        "### Recursion\n",
        "https://programmering.systime.dk/?id=242\n"
      ]
    },
    {
      "cell_type": "code",
      "execution_count": 11,
      "metadata": {
        "colab": {
          "base_uri": "https://localhost:8080/"
        },
        "id": "n12VXqX5vzlX",
        "outputId": "338cbdc2-f1d7-4a84-f7ad-b503cc451e0d"
      },
      "outputs": [
        {
          "name": "stdout",
          "output_type": "stream",
          "text": [
            "(Bent () Else () Erna (Lotte (Hugo () Harald () ) ) ) \n",
            "Bent: True\n",
            "Hugo: True\n",
            "Jesper: False\n"
          ]
        }
      ],
      "source": [
        "class Node(object):\n",
        "    def __init__(self, data):\n",
        "        self.data = data\n",
        "        self.children = []\n",
        "\n",
        "    def addChild(self, obj):\n",
        "        self.children.append(obj)\n",
        "\n",
        "    def displayDescendants(self):\n",
        "        print('(', end='')\n",
        "        for c in self.children:\n",
        "            # Grundlæggende tilfælde\n",
        "            print(c.data + ' ', end='')\n",
        "            # Rekursivt tilfælde\n",
        "            c.displayDescendants()\n",
        "        print(') ', end='')\n",
        "\n",
        "    def isAncestorOf(self, item):\n",
        "        for c in self.children:\n",
        "            # Grundlæggende tilfælde\n",
        "            if c.data == item: return True\n",
        "            # Rekursivt tilfælde\n",
        "            elif c.isAncestorOf(item): return True\n",
        "        return False\n",
        "\n",
        "esther = Node(\"Esther\")\n",
        "esther.addChild(Node(\"Bent\"))\n",
        "esther.addChild(Node(\"Else\"))\n",
        "erna = Node(\"Erna\")\n",
        "esther.addChild(erna)\n",
        "lotte = Node(\"Lotte\")\n",
        "erna.addChild(lotte)\n",
        "lotte.addChild(Node(\"Hugo\"))\n",
        "lotte.addChild(Node(\"Harald\"))\n",
        "esther.displayDescendants()\n",
        "print()\n",
        "print(\"Bent: \" + str(esther.isAncestorOf(\"Bent\")))\n",
        "print(\"Hugo: \" + str(esther.isAncestorOf(\"Hugo\")))\n",
        "print(\"Jesper: \" + str(esther.isAncestorOf(\"Jesper\")))"
      ]
    },
    {
      "cell_type": "markdown",
      "metadata": {
        "id": "OwRpYpqI3Wk2"
      },
      "source": [
        "### Binary Tree ###\n",
        "A binary Search Tree is a node-based binary tree data structure which has the following properties:  \n",
        "\n",
        "- The left subtree of a node contains only nodes with keys lesser than the node’s key.\n",
        "- The right subtree of a node contains only nodes with keys greater than the node’s key.\n",
        "- The left and right subtree each must also be a binary search tree. \n",
        "- There must be no duplicate nodes."
      ]
    },
    {
      "cell_type": "markdown",
      "metadata": {
        "id": "f5VDOYrx-Rk9"
      },
      "source": [
        "- **Exercise(G)** A palindrome is a word, number, phrase, or other sequence of symbols that reads the same backwards as forwards, such as the words madam or racecar, the date and time 12/21/33 12:21, and the sentence: \"A man, a plan, a canal – Panama\". \n"
      ]
    },
    {
      "cell_type": "code",
      "execution_count": 15,
      "metadata": {
        "colab": {
          "base_uri": "https://localhost:8080/"
        },
        "id": "DiTQ9wVZ1SbY",
        "outputId": "9fe2c9a9-922e-431c-f42b-01e5d5e8b408"
      },
      "outputs": [
        {
          "data": {
            "text/plain": [
              "True"
            ]
          },
          "execution_count": 15,
          "metadata": {},
          "output_type": "execute_result"
        }
      ],
      "source": [
        "def isPalindrone(s):\n",
        "\n",
        "\n",
        "  \"\"\" Input: s is a str \n",
        "      Returns True if letters in s from a palindrone; \n",
        "      false otherwise\n",
        "  \"\"\"\n",
        "\n",
        "  "
      ]
    },
    {
      "cell_type": "markdown",
      "metadata": {
        "id": "Sa3l9MGr8NyS"
      },
      "source": []
    }
  ],
  "metadata": {
    "colab": {
      "authorship_tag": "ABX9TyMQ1P7iwOjyNY79efENkB5i",
      "include_colab_link": true,
      "provenance": []
    },
    "kernelspec": {
      "display_name": "Python 3",
      "language": "python",
      "name": "python3"
    },
    "language_info": {
      "name": "python",
      "version": "3.10.10"
    },
    "vscode": {
      "interpreter": {
        "hash": "4b18ff9e223cafbbe040b07115946483b62b3d76b6e5877ada2a230580d0bfae"
      }
    }
  },
  "nbformat": 4,
  "nbformat_minor": 0
}
