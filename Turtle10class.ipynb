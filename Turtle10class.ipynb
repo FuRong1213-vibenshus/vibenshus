{
  "nbformat": 4,
  "nbformat_minor": 0,
  "metadata": {
    "colab": {
      "provenance": [],
      "include_colab_link": true
    },
    "kernelspec": {
      "name": "python3",
      "display_name": "Python 3"
    }
  },
  "cells": [
    {
      "cell_type": "markdown",
      "metadata": {
        "id": "view-in-github",
        "colab_type": "text"
      },
      "source": [
        "<a href=\"https://colab.research.google.com/github/FuRong1213-vibenshus/vibenshus/blob/master/Turtle10class.ipynb\" target=\"_parent\"><img src=\"https://colab.research.google.com/assets/colab-badge.svg\" alt=\"Open In Colab\"/></a>"
      ]
    },
    {
      "cell_type": "code",
      "source": [
        "import random\n",
        "  \n",
        "# Generates a random number between\n",
        "# a given positive range\n",
        "r1 = random.randint(5, 15)\n",
        "print(\"Random number between 5 and 15 is % s\" % (r1))\n",
        "  \n",
        "# Generates a random number between\n",
        "# two given negative range\n",
        "r2 = random.randint(-10, -2)\n",
        "print(\"Random number between -10 and -2 is % d\" % (r2))"
      ],
      "metadata": {
        "id": "6ITwR6-3PDnf",
        "outputId": "4f7ad778-bc2a-4fd6-fe51-4465cfcaa311",
        "colab": {
          "base_uri": "https://localhost:8080/"
        }
      },
      "execution_count": 24,
      "outputs": [
        {
          "output_type": "stream",
          "name": "stdout",
          "text": [
            "Random number between 5 and 15 is 12\n",
            "Random number between -10 and -2 is -6\n"
          ]
        }
      ]
    },
    {
      "cell_type": "markdown",
      "metadata": {
        "id": "nOSrhhuI-v6N"
      },
      "source": [
        "<br/><br/>\n",
        "Next, we're going to learn about *for loops*. For loops are super important in computer science. They tell the computer to repeat something *for* a certain number of times.\n",
        "\n",
        "Below is an example for loop. What do you think it does? Run the cell to find out! You can change `10` or `hi` if you want (but if you change `hi` make sure that you keep the quotation marks around whatever you type instead!).\n"
      ]
    },
    {
      "cell_type": "code",
      "metadata": {
        "id": "K3aMDAzXAAjV",
        "outputId": "b13f4f09-a654-4f35-b8a4-c773b4a8c6a7",
        "colab": {
          "base_uri": "https://localhost:8080/"
        }
      },
      "source": [
        "for i in range(10):\n",
        "  print(\"hi\")"
      ],
      "execution_count": 4,
      "outputs": [
        {
          "output_type": "stream",
          "name": "stdout",
          "text": [
            "hi\n",
            "hi\n",
            "hi\n",
            "hi\n",
            "hi\n",
            "hi\n",
            "hi\n",
            "hi\n",
            "hi\n",
            "hi\n"
          ]
        }
      ]
    },
    {
      "cell_type": "markdown",
      "metadata": {
        "id": "QFdlSukoAE7l"
      },
      "source": [
        "<br/><br/>\n",
        "Now that we know about for loops, we're going to see how to use a for loop to draw a square with our turtle.\n",
        "\n",
        "What shape do you think this for loop will draw? Can you change the numbers to draw a different shape?"
      ]
    },
    {
      "cell_type": "markdown",
      "metadata": {
        "id": "y3V3jYm8ATjr"
      },
      "source": [
        "<br/><br/>\n",
        "This is *almost* the same for loop that we saw above. Now we have this new line that says `num_sides = 0`. Change the `num_sides` variable from `0` to whatever number of sides you want your shape to have.\n",
        "\n",
        "Can you change the code so that it uses the `num_sides` variable to draw your shape?"
      ]
    },
    {
      "cell_type": "code",
      "source": [
        "!pip install ColabTurtlePlus==1.5"
      ],
      "metadata": {
        "id": "qhjTTDOT--vY",
        "outputId": "71990f0a-b6d7-426e-8cde-436cdcc7dc46",
        "colab": {
          "base_uri": "https://localhost:8080/"
        }
      },
      "execution_count": 9,
      "outputs": [
        {
          "output_type": "stream",
          "name": "stdout",
          "text": [
            "Looking in indexes: https://pypi.org/simple, https://us-python.pkg.dev/colab-wheels/public/simple/\n",
            "Collecting ColabTurtlePlus==1.5\n",
            "  Downloading ColabTurtlePlus-1.5-py3-none-any.whl (28 kB)\n",
            "Installing collected packages: ColabTurtlePlus\n",
            "Successfully installed ColabTurtlePlus-1.5\n"
          ]
        }
      ]
    },
    {
      "cell_type": "code",
      "source": [
        "import ColabTurtlePlus.Turtle as turtle\n",
        "CANVAS_SIZE = 500\n",
        "DENSITY = 12\n",
        "turtle.initializeTurtle(window=(CANVAS_SIZE, CANVAS_SIZE), speed=6)\n",
        "turtle.pen(pensize = 5)\n",
        "side_length = 100\n",
        "\n",
        "num_sides = 4\n",
        "angle = 360/num_sides\n",
        "\n",
        "for i in range(num_sides):\n",
        "  turtle.forward(side_length)\n",
        "  turtle.right(angle)\n",
        "turtle.clear()"
      ],
      "metadata": {
        "id": "IQD3-wo-_BqT",
        "outputId": "dc081389-d931-41e3-f568-6ff9ab6575c7",
        "colab": {
          "base_uri": "https://localhost:8080/",
          "height": 521
        }
      },
      "execution_count": 42,
      "outputs": [
        {
          "output_type": "display_data",
          "data": {
            "text/plain": [
              "<IPython.core.display.HTML object>"
            ],
            "text/html": [
              "\n",
              "      <svg width=\"500\" height=\"500\">  \n",
              "        <rect width=\"100%\" height=\"100%\" style=\"fill:white;stroke:;stroke-width:1\"/>\n",
              "        \n",
              "        \n",
              "        \n",
              "        \n",
              "        <g id=\"classic\" visibility=\"visible\" transform=\"rotate(-90.0,250.0,250.0) translate(250.0, 250.0)\">\n",
              "<polygon points=\"-5,-4.5 0,-2.5 5,-4.5 0,4.5\" transform=\"skewX(0) scale(1,1)\" style=\"stroke:black;fill:black;stroke-width:1\" />\n",
              "</g>\n",
              "      </svg>\n",
              "    "
            ]
          },
          "metadata": {}
        }
      ]
    },
    {
      "cell_type": "code",
      "source": [
        "turtle.penup()\n",
        "\n",
        "def draw_line_1(row, col):\n",
        "    pass\n",
        "\n",
        "for row in range(DENSITY):\n",
        "    for col in range(DENSITY):\n",
        "        draw_line_1(row, col)"
      ],
      "metadata": {
        "id": "Yo0oqrkFGctW"
      },
      "execution_count": 17,
      "outputs": []
    },
    {
      "cell_type": "code",
      "source": [
        "def draw_line_2(row, col):\n",
        "    lower_left = (\n",
        "        (col * CANVAS_SIZE / DENSITY) - CANVAS_SIZE / 2,\n",
        "        (row * CANVAS_SIZE / DENSITY) - CANVAS_SIZE / 2\n",
        "    )\n",
        "    upper_right = (\n",
        "        ((col + 1) * CANVAS_SIZE / DENSITY) - CANVAS_SIZE / 2,\n",
        "        ((row + 1) * CANVAS_SIZE / DENSITY) - CANVAS_SIZE / 2\n",
        "    )\n",
        "\n",
        "    turtle.goto(lower_left)\n",
        "    turtle.pendown()\n",
        "    turtle.goto(upper_right)\n",
        "    turtle.penup()\n",
        "  "
      ],
      "metadata": {
        "id": "SczCZP-KGzZB"
      },
      "execution_count": 15,
      "outputs": []
    },
    {
      "cell_type": "code",
      "source": [
        "import random\n",
        "def draw_line_3(row, col):\n",
        "    lower_left = (\n",
        "        (col * CANVAS_SIZE / DENSITY) - CANVAS_SIZE / 2,\n",
        "        (row * CANVAS_SIZE / DENSITY) - CANVAS_SIZE / 2\n",
        "    )\n",
        "    upper_right = (\n",
        "        ((col + 1) * CANVAS_SIZE / DENSITY) - CANVAS_SIZE / 2,\n",
        "        ((row + 1) * CANVAS_SIZE / DENSITY) - CANVAS_SIZE / 2\n",
        "    )\n",
        "    lower_right = (\n",
        "        ((col + 1) * CANVAS_SIZE / DENSITY) - CANVAS_SIZE / 2,\n",
        "        (row * CANVAS_SIZE / DENSITY) - CANVAS_SIZE / 2\n",
        "    )\n",
        "    upper_left = (\n",
        "        (col * CANVAS_SIZE / DENSITY) - CANVAS_SIZE / 2,\n",
        "        ((row + 1) * CANVAS_SIZE / DENSITY) - CANVAS_SIZE / 2\n",
        "    )\n",
        "\n",
        "    res = random.randint(0, 1)\n",
        "\n",
        "    if res == 0:\n",
        "        turtle.goto(upper_left)\n",
        "        turtle.pendown()\n",
        "        turtle.goto(lower_right)\n",
        "        turtle.penup()\n",
        "    else:\n",
        "        turtle.goto(lower_left)\n",
        "        turtle.pendown()\n",
        "        turtle.goto(upper_right)\n",
        "        turtle.penup()"
      ],
      "metadata": {
        "id": "HK-H1Fx5HAXP"
      },
      "execution_count": 28,
      "outputs": []
    },
    {
      "cell_type": "code",
      "source": [
        "turtle.clear()\n",
        "turtle.penup()\n",
        "for row in range(DENSITY):\n",
        "    for col in range(DENSITY):\n",
        "        turtle.pencolor(random.randint(0, 255),random.randint(0, 255), random.randint(0, 255)) \n",
        "        draw_line_3(row, col)\n",
        "turtle.done()"
      ],
      "metadata": {
        "id": "nkZbtwW0LHql",
        "outputId": "2755646d-3838-4093-cf4e-38c63de4a15b",
        "colab": {
          "base_uri": "https://localhost:8080/",
          "height": 521
        }
      },
      "execution_count": 43,
      "outputs": [
        {
          "output_type": "display_data",
          "data": {
            "text/plain": [
              "<IPython.core.display.HTML object>"
            ],
            "text/html": [
              "\n",
              "      <svg width=\"500\" height=\"500\">  \n",
              "        <rect width=\"100%\" height=\"100%\" style=\"fill:white;stroke:;stroke-width:1\"/>\n",
              "        \n",
              "        <line x1=\"0.0\" y1=\"458.333\" x2=\"41.667\" y2=\"500.0\" stroke-linecap=\"round\" style=\"stroke:rgb(59,59,165);stroke-width:5\" /><line x1=\"41.667\" y1=\"458.333\" x2=\"83.333\" y2=\"500.0\" stroke-linecap=\"round\" style=\"stroke:rgb(67,43,183);stroke-width:5\" /><line x1=\"83.333\" y1=\"458.333\" x2=\"125.0\" y2=\"500.0\" stroke-linecap=\"round\" style=\"stroke:rgb(86,62,10);stroke-width:5\" /><line x1=\"125.0\" y1=\"500.0\" x2=\"166.667\" y2=\"458.333\" stroke-linecap=\"round\" style=\"stroke:rgb(52,14,92);stroke-width:5\" /><line x1=\"166.667\" y1=\"458.333\" x2=\"208.333\" y2=\"500.0\" stroke-linecap=\"round\" style=\"stroke:rgb(167,165,190);stroke-width:5\" /><line x1=\"208.333\" y1=\"458.333\" x2=\"250.0\" y2=\"500.0\" stroke-linecap=\"round\" style=\"stroke:rgb(183,199,167);stroke-width:5\" /><line x1=\"250.0\" y1=\"458.333\" x2=\"291.667\" y2=\"500.0\" stroke-linecap=\"round\" style=\"stroke:rgb(214,104,247);stroke-width:5\" /><line x1=\"291.667\" y1=\"500.0\" x2=\"333.333\" y2=\"458.333\" stroke-linecap=\"round\" style=\"stroke:rgb(131,85,158);stroke-width:5\" /><line x1=\"333.333\" y1=\"500.0\" x2=\"375.0\" y2=\"458.333\" stroke-linecap=\"round\" style=\"stroke:rgb(47,16,98);stroke-width:5\" /><line x1=\"375.0\" y1=\"500.0\" x2=\"416.667\" y2=\"458.333\" stroke-linecap=\"round\" style=\"stroke:rgb(226,41,59);stroke-width:5\" /><line x1=\"416.667\" y1=\"500.0\" x2=\"458.333\" y2=\"458.333\" stroke-linecap=\"round\" style=\"stroke:rgb(211,140,244);stroke-width:5\" /><line x1=\"458.333\" y1=\"458.333\" x2=\"500.0\" y2=\"500.0\" stroke-linecap=\"round\" style=\"stroke:rgb(92,117,190);stroke-width:5\" /><line x1=\"0.0\" y1=\"416.667\" x2=\"41.667\" y2=\"458.333\" stroke-linecap=\"round\" style=\"stroke:rgb(40,87,77);stroke-width:5\" /><line x1=\"41.667\" y1=\"458.333\" x2=\"83.333\" y2=\"416.667\" stroke-linecap=\"round\" style=\"stroke:rgb(192,156,13);stroke-width:5\" /><line x1=\"83.333\" y1=\"458.333\" x2=\"125.0\" y2=\"416.667\" stroke-linecap=\"round\" style=\"stroke:rgb(184,114,255);stroke-width:5\" /><line x1=\"125.0\" y1=\"416.667\" x2=\"166.667\" y2=\"458.333\" stroke-linecap=\"round\" style=\"stroke:rgb(181,172,34);stroke-width:5\" /><line x1=\"166.667\" y1=\"416.667\" x2=\"208.333\" y2=\"458.333\" stroke-linecap=\"round\" style=\"stroke:rgb(40,154,94);stroke-width:5\" /><line x1=\"208.333\" y1=\"458.333\" x2=\"250.0\" y2=\"416.667\" stroke-linecap=\"round\" style=\"stroke:rgb(3,216,153);stroke-width:5\" /><line x1=\"250.0\" y1=\"458.333\" x2=\"291.667\" y2=\"416.667\" stroke-linecap=\"round\" style=\"stroke:rgb(227,211,255);stroke-width:5\" /><line x1=\"291.667\" y1=\"458.333\" x2=\"333.333\" y2=\"416.667\" stroke-linecap=\"round\" style=\"stroke:rgb(38,207,22);stroke-width:5\" /><line x1=\"333.333\" y1=\"458.333\" x2=\"375.0\" y2=\"416.667\" stroke-linecap=\"round\" style=\"stroke:rgb(41,130,30);stroke-width:5\" /><line x1=\"375.0\" y1=\"458.333\" x2=\"416.667\" y2=\"416.667\" stroke-linecap=\"round\" style=\"stroke:rgb(53,103,96);stroke-width:5\" /><line x1=\"416.667\" y1=\"416.667\" x2=\"458.333\" y2=\"458.333\" stroke-linecap=\"round\" style=\"stroke:rgb(207,101,157);stroke-width:5\" /><line x1=\"458.333\" y1=\"458.333\" x2=\"500.0\" y2=\"416.667\" stroke-linecap=\"round\" style=\"stroke:rgb(192,94,244);stroke-width:5\" /><line x1=\"0.0\" y1=\"416.667\" x2=\"41.667\" y2=\"375.0\" stroke-linecap=\"round\" style=\"stroke:rgb(100,33,208);stroke-width:5\" /><line x1=\"41.667\" y1=\"375.0\" x2=\"83.333\" y2=\"416.667\" stroke-linecap=\"round\" style=\"stroke:rgb(233,235,73);stroke-width:5\" /><line x1=\"83.333\" y1=\"375.0\" x2=\"125.0\" y2=\"416.667\" stroke-linecap=\"round\" style=\"stroke:rgb(204,111,156);stroke-width:5\" /><line x1=\"125.0\" y1=\"375.0\" x2=\"166.667\" y2=\"416.667\" stroke-linecap=\"round\" style=\"stroke:rgb(180,215,167);stroke-width:5\" /><line x1=\"166.667\" y1=\"375.0\" x2=\"208.333\" y2=\"416.667\" stroke-linecap=\"round\" style=\"stroke:rgb(132,91,153);stroke-width:5\" /><line x1=\"208.333\" y1=\"416.667\" x2=\"250.0\" y2=\"375.0\" stroke-linecap=\"round\" style=\"stroke:rgb(14,18,163);stroke-width:5\" /><line x1=\"250.0\" y1=\"416.667\" x2=\"291.667\" y2=\"375.0\" stroke-linecap=\"round\" style=\"stroke:rgb(171,38,246);stroke-width:5\" /><line x1=\"291.667\" y1=\"375.0\" x2=\"333.333\" y2=\"416.667\" stroke-linecap=\"round\" style=\"stroke:rgb(238,6,254);stroke-width:5\" /><line x1=\"333.333\" y1=\"375.0\" x2=\"375.0\" y2=\"416.667\" stroke-linecap=\"round\" style=\"stroke:rgb(251,165,5);stroke-width:5\" /><line x1=\"375.0\" y1=\"416.667\" x2=\"416.667\" y2=\"375.0\" stroke-linecap=\"round\" style=\"stroke:rgb(198,71,146);stroke-width:5\" /><line x1=\"416.667\" y1=\"416.667\" x2=\"458.333\" y2=\"375.0\" stroke-linecap=\"round\" style=\"stroke:rgb(25,147,51);stroke-width:5\" /><line x1=\"458.333\" y1=\"416.667\" x2=\"500.0\" y2=\"375.0\" stroke-linecap=\"round\" style=\"stroke:rgb(17,210,77);stroke-width:5\" /><line x1=\"0.0\" y1=\"333.333\" x2=\"41.667\" y2=\"375.0\" stroke-linecap=\"round\" style=\"stroke:rgb(50,255,134);stroke-width:5\" /><line x1=\"41.667\" y1=\"333.333\" x2=\"83.333\" y2=\"375.0\" stroke-linecap=\"round\" style=\"stroke:rgb(203,174,64);stroke-width:5\" /><line x1=\"83.333\" y1=\"333.333\" x2=\"125.0\" y2=\"375.0\" stroke-linecap=\"round\" style=\"stroke:rgb(250,113,180);stroke-width:5\" /><line x1=\"125.0\" y1=\"333.333\" x2=\"166.667\" y2=\"375.0\" stroke-linecap=\"round\" style=\"stroke:rgb(153,135,234);stroke-width:5\" /><line x1=\"166.667\" y1=\"333.333\" x2=\"208.333\" y2=\"375.0\" stroke-linecap=\"round\" style=\"stroke:rgb(54,174,4);stroke-width:5\" /><line x1=\"208.333\" y1=\"375.0\" x2=\"250.0\" y2=\"333.333\" stroke-linecap=\"round\" style=\"stroke:rgb(133,226,128);stroke-width:5\" /><line x1=\"250.0\" y1=\"375.0\" x2=\"291.667\" y2=\"333.333\" stroke-linecap=\"round\" style=\"stroke:rgb(68,64,251);stroke-width:5\" /><line x1=\"291.667\" y1=\"333.333\" x2=\"333.333\" y2=\"375.0\" stroke-linecap=\"round\" style=\"stroke:rgb(127,244,3);stroke-width:5\" /><line x1=\"333.333\" y1=\"333.333\" x2=\"375.0\" y2=\"375.0\" stroke-linecap=\"round\" style=\"stroke:rgb(12,153,190);stroke-width:5\" /><line x1=\"375.0\" y1=\"375.0\" x2=\"416.667\" y2=\"333.333\" stroke-linecap=\"round\" style=\"stroke:rgb(249,241,87);stroke-width:5\" /><line x1=\"416.667\" y1=\"375.0\" x2=\"458.333\" y2=\"333.333\" stroke-linecap=\"round\" style=\"stroke:rgb(122,2,199);stroke-width:5\" /><line x1=\"458.333\" y1=\"333.333\" x2=\"500.0\" y2=\"375.0\" stroke-linecap=\"round\" style=\"stroke:rgb(244,98,13);stroke-width:5\" /><line x1=\"0.0\" y1=\"333.333\" x2=\"41.667\" y2=\"291.667\" stroke-linecap=\"round\" style=\"stroke:rgb(240,104,209);stroke-width:5\" /><line x1=\"41.667\" y1=\"333.333\" x2=\"83.333\" y2=\"291.667\" stroke-linecap=\"round\" style=\"stroke:rgb(29,232,226);stroke-width:5\" /><line x1=\"83.333\" y1=\"291.667\" x2=\"125.0\" y2=\"333.333\" stroke-linecap=\"round\" style=\"stroke:rgb(81,221,77);stroke-width:5\" /><line x1=\"125.0\" y1=\"333.333\" x2=\"166.667\" y2=\"291.667\" stroke-linecap=\"round\" style=\"stroke:rgb(15,209,127);stroke-width:5\" /><line x1=\"166.667\" y1=\"333.333\" x2=\"208.333\" y2=\"291.667\" stroke-linecap=\"round\" style=\"stroke:rgb(38,235,21);stroke-width:5\" /><line x1=\"208.333\" y1=\"333.333\" x2=\"250.0\" y2=\"291.667\" stroke-linecap=\"round\" style=\"stroke:rgb(244,39,201);stroke-width:5\" /><line x1=\"250.0\" y1=\"291.667\" x2=\"291.667\" y2=\"333.333\" stroke-linecap=\"round\" style=\"stroke:rgb(238,43,242);stroke-width:5\" /><line x1=\"291.667\" y1=\"291.667\" x2=\"333.333\" y2=\"333.333\" stroke-linecap=\"round\" style=\"stroke:rgb(235,66,142);stroke-width:5\" /><line x1=\"333.333\" y1=\"291.667\" x2=\"375.0\" y2=\"333.333\" stroke-linecap=\"round\" style=\"stroke:rgb(71,188,243);stroke-width:5\" /><line x1=\"375.0\" y1=\"291.667\" x2=\"416.667\" y2=\"333.333\" stroke-linecap=\"round\" style=\"stroke:rgb(145,22,132);stroke-width:5\" /><line x1=\"416.667\" y1=\"333.333\" x2=\"458.333\" y2=\"291.667\" stroke-linecap=\"round\" style=\"stroke:rgb(208,83,114);stroke-width:5\" /><line x1=\"458.333\" y1=\"291.667\" x2=\"500.0\" y2=\"333.333\" stroke-linecap=\"round\" style=\"stroke:rgb(132,49,117);stroke-width:5\" /><line x1=\"0.0\" y1=\"291.667\" x2=\"41.667\" y2=\"250.0\" stroke-linecap=\"round\" style=\"stroke:rgb(244,42,108);stroke-width:5\" /><line x1=\"41.667\" y1=\"250.0\" x2=\"83.333\" y2=\"291.667\" stroke-linecap=\"round\" style=\"stroke:rgb(103,43,109);stroke-width:5\" /><line x1=\"83.333\" y1=\"250.0\" x2=\"125.0\" y2=\"291.667\" stroke-linecap=\"round\" style=\"stroke:rgb(148,223,174);stroke-width:5\" /><line x1=\"125.0\" y1=\"291.667\" x2=\"166.667\" y2=\"250.0\" stroke-linecap=\"round\" style=\"stroke:rgb(93,19,230);stroke-width:5\" /><line x1=\"166.667\" y1=\"250.0\" x2=\"208.333\" y2=\"291.667\" stroke-linecap=\"round\" style=\"stroke:rgb(143,173,169);stroke-width:5\" /><line x1=\"208.333\" y1=\"291.667\" x2=\"250.0\" y2=\"250.0\" stroke-linecap=\"round\" style=\"stroke:rgb(181,150,173);stroke-width:5\" /><line x1=\"250.0\" y1=\"250.0\" x2=\"291.667\" y2=\"291.667\" stroke-linecap=\"round\" style=\"stroke:rgb(251,230,101);stroke-width:5\" /><line x1=\"291.667\" y1=\"250.0\" x2=\"333.333\" y2=\"291.667\" stroke-linecap=\"round\" style=\"stroke:rgb(67,172,116);stroke-width:5\" /><line x1=\"333.333\" y1=\"291.667\" x2=\"375.0\" y2=\"250.0\" stroke-linecap=\"round\" style=\"stroke:rgb(145,182,73);stroke-width:5\" /><line x1=\"375.0\" y1=\"250.0\" x2=\"416.667\" y2=\"291.667\" stroke-linecap=\"round\" style=\"stroke:rgb(211,22,91);stroke-width:5\" /><line x1=\"416.667\" y1=\"250.0\" x2=\"458.333\" y2=\"291.667\" stroke-linecap=\"round\" style=\"stroke:rgb(72,159,254);stroke-width:5\" /><line x1=\"458.333\" y1=\"291.667\" x2=\"500.0\" y2=\"250.0\" stroke-linecap=\"round\" style=\"stroke:rgb(43,19,101);stroke-width:5\" /><line x1=\"0.0\" y1=\"250.0\" x2=\"41.667\" y2=\"208.333\" stroke-linecap=\"round\" style=\"stroke:rgb(103,244,213);stroke-width:5\" /><line x1=\"41.667\" y1=\"208.333\" x2=\"83.333\" y2=\"250.0\" stroke-linecap=\"round\" style=\"stroke:rgb(43,4,176);stroke-width:5\" /><line x1=\"83.333\" y1=\"250.0\" x2=\"125.0\" y2=\"208.333\" stroke-linecap=\"round\" style=\"stroke:rgb(215,149,77);stroke-width:5\" /><line x1=\"125.0\" y1=\"250.0\" x2=\"166.667\" y2=\"208.333\" stroke-linecap=\"round\" style=\"stroke:rgb(76,15,5);stroke-width:5\" /><line x1=\"166.667\" y1=\"208.333\" x2=\"208.333\" y2=\"250.0\" stroke-linecap=\"round\" style=\"stroke:rgb(100,163,144);stroke-width:5\" /><line x1=\"208.333\" y1=\"250.0\" x2=\"250.0\" y2=\"208.333\" stroke-linecap=\"round\" style=\"stroke:rgb(9,242,6);stroke-width:5\" /><line x1=\"250.0\" y1=\"208.333\" x2=\"291.667\" y2=\"250.0\" stroke-linecap=\"round\" style=\"stroke:rgb(220,246,171);stroke-width:5\" /><line x1=\"291.667\" y1=\"208.333\" x2=\"333.333\" y2=\"250.0\" stroke-linecap=\"round\" style=\"stroke:rgb(32,151,87);stroke-width:5\" /><line x1=\"333.333\" y1=\"208.333\" x2=\"375.0\" y2=\"250.0\" stroke-linecap=\"round\" style=\"stroke:rgb(2,216,216);stroke-width:5\" /><line x1=\"375.0\" y1=\"208.333\" x2=\"416.667\" y2=\"250.0\" stroke-linecap=\"round\" style=\"stroke:rgb(148,30,1);stroke-width:5\" /><line x1=\"416.667\" y1=\"208.333\" x2=\"458.333\" y2=\"250.0\" stroke-linecap=\"round\" style=\"stroke:rgb(135,16,201);stroke-width:5\" /><line x1=\"458.333\" y1=\"208.333\" x2=\"500.0\" y2=\"250.0\" stroke-linecap=\"round\" style=\"stroke:rgb(158,75,161);stroke-width:5\" /><line x1=\"0.0\" y1=\"208.333\" x2=\"41.667\" y2=\"166.667\" stroke-linecap=\"round\" style=\"stroke:rgb(233,55,100);stroke-width:5\" /><line x1=\"41.667\" y1=\"166.667\" x2=\"83.333\" y2=\"208.333\" stroke-linecap=\"round\" style=\"stroke:rgb(91,98,234);stroke-width:5\" /><line x1=\"83.333\" y1=\"166.667\" x2=\"125.0\" y2=\"208.333\" stroke-linecap=\"round\" style=\"stroke:rgb(102,120,253);stroke-width:5\" /><line x1=\"125.0\" y1=\"166.667\" x2=\"166.667\" y2=\"208.333\" stroke-linecap=\"round\" style=\"stroke:rgb(226,152,119);stroke-width:5\" /><line x1=\"166.667\" y1=\"166.667\" x2=\"208.333\" y2=\"208.333\" stroke-linecap=\"round\" style=\"stroke:rgb(96,142,173);stroke-width:5\" /><line x1=\"208.333\" y1=\"208.333\" x2=\"250.0\" y2=\"166.667\" stroke-linecap=\"round\" style=\"stroke:rgb(238,208,179);stroke-width:5\" /><line x1=\"250.0\" y1=\"208.333\" x2=\"291.667\" y2=\"166.667\" stroke-linecap=\"round\" style=\"stroke:rgb(87,255,216);stroke-width:5\" /><line x1=\"291.667\" y1=\"208.333\" x2=\"333.333\" y2=\"166.667\" stroke-linecap=\"round\" style=\"stroke:rgb(159,44,116);stroke-width:5\" /><line x1=\"333.333\" y1=\"208.333\" x2=\"375.0\" y2=\"166.667\" stroke-linecap=\"round\" style=\"stroke:rgb(105,43,0);stroke-width:5\" /><line x1=\"375.0\" y1=\"208.333\" x2=\"416.667\" y2=\"166.667\" stroke-linecap=\"round\" style=\"stroke:rgb(159,101,196);stroke-width:5\" /><line x1=\"416.667\" y1=\"166.667\" x2=\"458.333\" y2=\"208.333\" stroke-linecap=\"round\" style=\"stroke:rgb(206,173,57);stroke-width:5\" /><line x1=\"458.333\" y1=\"208.333\" x2=\"500.0\" y2=\"166.667\" stroke-linecap=\"round\" style=\"stroke:rgb(69,227,234);stroke-width:5\" /><line x1=\"0.0\" y1=\"166.667\" x2=\"41.667\" y2=\"125.0\" stroke-linecap=\"round\" style=\"stroke:rgb(172,85,134);stroke-width:5\" /><line x1=\"41.667\" y1=\"125.0\" x2=\"83.333\" y2=\"166.667\" stroke-linecap=\"round\" style=\"stroke:rgb(85,55,211);stroke-width:5\" /><line x1=\"83.333\" y1=\"166.667\" x2=\"125.0\" y2=\"125.0\" stroke-linecap=\"round\" style=\"stroke:rgb(103,225,202);stroke-width:5\" /><line x1=\"125.0\" y1=\"166.667\" x2=\"166.667\" y2=\"125.0\" stroke-linecap=\"round\" style=\"stroke:rgb(219,55,35);stroke-width:5\" /><line x1=\"166.667\" y1=\"125.0\" x2=\"208.333\" y2=\"166.667\" stroke-linecap=\"round\" style=\"stroke:rgb(95,88,109);stroke-width:5\" /><line x1=\"208.333\" y1=\"166.667\" x2=\"250.0\" y2=\"125.0\" stroke-linecap=\"round\" style=\"stroke:rgb(10,74,123);stroke-width:5\" /><line x1=\"250.0\" y1=\"166.667\" x2=\"291.667\" y2=\"125.0\" stroke-linecap=\"round\" style=\"stroke:rgb(59,115,210);stroke-width:5\" /><line x1=\"291.667\" y1=\"166.667\" x2=\"333.333\" y2=\"125.0\" stroke-linecap=\"round\" style=\"stroke:rgb(252,101,196);stroke-width:5\" /><line x1=\"333.333\" y1=\"166.667\" x2=\"375.0\" y2=\"125.0\" stroke-linecap=\"round\" style=\"stroke:rgb(82,154,205);stroke-width:5\" /><line x1=\"375.0\" y1=\"125.0\" x2=\"416.667\" y2=\"166.667\" stroke-linecap=\"round\" style=\"stroke:rgb(247,29,70);stroke-width:5\" /><line x1=\"416.667\" y1=\"125.0\" x2=\"458.333\" y2=\"166.667\" stroke-linecap=\"round\" style=\"stroke:rgb(237,98,203);stroke-width:5\" /><line x1=\"458.333\" y1=\"125.0\" x2=\"500.0\" y2=\"166.667\" stroke-linecap=\"round\" style=\"stroke:rgb(70,225,84);stroke-width:5\" /><line x1=\"0.0\" y1=\"125.0\" x2=\"41.667\" y2=\"83.333\" stroke-linecap=\"round\" style=\"stroke:rgb(2,101,104);stroke-width:5\" /><line x1=\"41.667\" y1=\"125.0\" x2=\"83.333\" y2=\"83.333\" stroke-linecap=\"round\" style=\"stroke:rgb(90,175,89);stroke-width:5\" /><line x1=\"83.333\" y1=\"83.333\" x2=\"125.0\" y2=\"125.0\" stroke-linecap=\"round\" style=\"stroke:rgb(160,185,159);stroke-width:5\" /><line x1=\"125.0\" y1=\"125.0\" x2=\"166.667\" y2=\"83.333\" stroke-linecap=\"round\" style=\"stroke:rgb(224,124,164);stroke-width:5\" /><line x1=\"166.667\" y1=\"125.0\" x2=\"208.333\" y2=\"83.333\" stroke-linecap=\"round\" style=\"stroke:rgb(107,10,44);stroke-width:5\" /><line x1=\"208.333\" y1=\"125.0\" x2=\"250.0\" y2=\"83.333\" stroke-linecap=\"round\" style=\"stroke:rgb(97,2,252);stroke-width:5\" /><line x1=\"250.0\" y1=\"83.333\" x2=\"291.667\" y2=\"125.0\" stroke-linecap=\"round\" style=\"stroke:rgb(14,253,252);stroke-width:5\" /><line x1=\"291.667\" y1=\"83.333\" x2=\"333.333\" y2=\"125.0\" stroke-linecap=\"round\" style=\"stroke:rgb(130,42,166);stroke-width:5\" /><line x1=\"333.333\" y1=\"125.0\" x2=\"375.0\" y2=\"83.333\" stroke-linecap=\"round\" style=\"stroke:rgb(80,51,85);stroke-width:5\" /><line x1=\"375.0\" y1=\"125.0\" x2=\"416.667\" y2=\"83.333\" stroke-linecap=\"round\" style=\"stroke:rgb(228,8,15);stroke-width:5\" /><line x1=\"416.667\" y1=\"125.0\" x2=\"458.333\" y2=\"83.333\" stroke-linecap=\"round\" style=\"stroke:rgb(173,178,26);stroke-width:5\" /><line x1=\"458.333\" y1=\"83.333\" x2=\"500.0\" y2=\"125.0\" stroke-linecap=\"round\" style=\"stroke:rgb(156,245,210);stroke-width:5\" /><line x1=\"0.0\" y1=\"83.333\" x2=\"41.667\" y2=\"41.667\" stroke-linecap=\"round\" style=\"stroke:rgb(9,40,170);stroke-width:5\" /><line x1=\"41.667\" y1=\"83.333\" x2=\"83.333\" y2=\"41.667\" stroke-linecap=\"round\" style=\"stroke:rgb(233,24,156);stroke-width:5\" /><line x1=\"83.333\" y1=\"41.667\" x2=\"125.0\" y2=\"83.333\" stroke-linecap=\"round\" style=\"stroke:rgb(54,9,222);stroke-width:5\" /><line x1=\"125.0\" y1=\"41.667\" x2=\"166.667\" y2=\"83.333\" stroke-linecap=\"round\" style=\"stroke:rgb(179,75,143);stroke-width:5\" /><line x1=\"166.667\" y1=\"41.667\" x2=\"208.333\" y2=\"83.333\" stroke-linecap=\"round\" style=\"stroke:rgb(48,250,162);stroke-width:5\" /><line x1=\"208.333\" y1=\"41.667\" x2=\"250.0\" y2=\"83.333\" stroke-linecap=\"round\" style=\"stroke:rgb(214,205,217);stroke-width:5\" /><line x1=\"250.0\" y1=\"83.333\" x2=\"291.667\" y2=\"41.667\" stroke-linecap=\"round\" style=\"stroke:rgb(72,207,59);stroke-width:5\" /><line x1=\"291.667\" y1=\"41.667\" x2=\"333.333\" y2=\"83.333\" stroke-linecap=\"round\" style=\"stroke:rgb(240,227,23);stroke-width:5\" /><line x1=\"333.333\" y1=\"41.667\" x2=\"375.0\" y2=\"83.333\" stroke-linecap=\"round\" style=\"stroke:rgb(113,85,162);stroke-width:5\" /><line x1=\"375.0\" y1=\"83.333\" x2=\"416.667\" y2=\"41.667\" stroke-linecap=\"round\" style=\"stroke:rgb(176,3,2);stroke-width:5\" /><line x1=\"416.667\" y1=\"41.667\" x2=\"458.333\" y2=\"83.333\" stroke-linecap=\"round\" style=\"stroke:rgb(207,63,207);stroke-width:5\" /><line x1=\"458.333\" y1=\"41.667\" x2=\"500.0\" y2=\"83.333\" stroke-linecap=\"round\" style=\"stroke:rgb(250,40,89);stroke-width:5\" /><line x1=\"0.0\" y1=\"0.0\" x2=\"41.667\" y2=\"41.667\" stroke-linecap=\"round\" style=\"stroke:rgb(93,44,4);stroke-width:5\" /><line x1=\"41.667\" y1=\"0.0\" x2=\"83.333\" y2=\"41.667\" stroke-linecap=\"round\" style=\"stroke:rgb(152,88,67);stroke-width:5\" /><line x1=\"83.333\" y1=\"0.0\" x2=\"125.0\" y2=\"41.667\" stroke-linecap=\"round\" style=\"stroke:rgb(209,132,62);stroke-width:5\" /><line x1=\"125.0\" y1=\"0.0\" x2=\"166.667\" y2=\"41.667\" stroke-linecap=\"round\" style=\"stroke:rgb(162,106,29);stroke-width:5\" /><line x1=\"166.667\" y1=\"0.0\" x2=\"208.333\" y2=\"41.667\" stroke-linecap=\"round\" style=\"stroke:rgb(95,102,84);stroke-width:5\" /><line x1=\"208.333\" y1=\"0.0\" x2=\"250.0\" y2=\"41.667\" stroke-linecap=\"round\" style=\"stroke:rgb(121,87,125);stroke-width:5\" /><line x1=\"250.0\" y1=\"41.667\" x2=\"291.667\" y2=\"0.0\" stroke-linecap=\"round\" style=\"stroke:rgb(69,11,142);stroke-width:5\" /><line x1=\"291.667\" y1=\"0.0\" x2=\"333.333\" y2=\"41.667\" stroke-linecap=\"round\" style=\"stroke:rgb(114,2,239);stroke-width:5\" /><line x1=\"333.333\" y1=\"41.667\" x2=\"375.0\" y2=\"0.0\" stroke-linecap=\"round\" style=\"stroke:rgb(162,151,157);stroke-width:5\" /><line x1=\"375.0\" y1=\"41.667\" x2=\"416.667\" y2=\"0.0\" stroke-linecap=\"round\" style=\"stroke:rgb(36,191,215);stroke-width:5\" /><line x1=\"416.667\" y1=\"0.0\" x2=\"458.333\" y2=\"41.667\" stroke-linecap=\"round\" style=\"stroke:rgb(20,167,126);stroke-width:5\" /><line x1=\"458.333\" y1=\"41.667\" x2=\"500.0\" y2=\"0.0\" stroke-linecap=\"round\" style=\"stroke:rgb(179,69,120);stroke-width:5\" />\n",
              "        \n",
              "        \n",
              "        <g id=\"classic\" visibility=\"visible\" transform=\"rotate(-90.0,500.0,0.0) translate(500.0, 0.0)\">\n",
              "<polygon points=\"-5,-4.5 0,-2.5 5,-4.5 0,4.5\" transform=\"skewX(0) scale(1,1)\" style=\"stroke:rgb(179,69,120);fill:black;stroke-width:1\" />\n",
              "</g>\n",
              "      </svg>\n",
              "    "
            ]
          },
          "metadata": {}
        }
      ]
    },
    {
      "cell_type": "code",
      "source": [],
      "metadata": {
        "id": "NOnuxOhFLlmR"
      },
      "execution_count": null,
      "outputs": []
    }
  ]
}