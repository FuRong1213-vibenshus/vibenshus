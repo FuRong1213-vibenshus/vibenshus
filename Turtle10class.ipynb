{
  "nbformat": 4,
  "nbformat_minor": 0,
  "metadata": {
    "colab": {
      "provenance": [],
      "include_colab_link": true
    },
    "kernelspec": {
      "name": "python3",
      "display_name": "Python 3"
    }
  },
  "cells": [
    {
      "cell_type": "markdown",
      "metadata": {
        "id": "view-in-github",
        "colab_type": "text"
      },
      "source": [
        "<a href=\"https://colab.research.google.com/github/FuRong1213-vibenshus/vibenshus/blob/master/Turtle10class.ipynb\" target=\"_parent\"><img src=\"https://colab.research.google.com/assets/colab-badge.svg\" alt=\"Open In Colab\"/></a>"
      ]
    },
    {
      "cell_type": "code",
      "metadata": {
        "id": "2ISLuNPF2LKE"
      },
      "source": [
        "!pip3 install ColabTurtle\n",
        "from ColabTurtle.Turtle import *"
      ],
      "execution_count": null,
      "outputs": []
    },
    {
      "cell_type": "markdown",
      "metadata": {
        "id": "uWENJXy0-fkU"
      },
      "source": [
        "<br/><br/>\n",
        "The `initializeTurtle()` function call will create a turtle for us!\n",
        "\n",
        "If you already have a turtle, the `intializeTurtle()` function will erase your turtle's history so that you can start over."
      ]
    },
    {
      "cell_type": "code",
      "metadata": {
        "id": "fZ4V9cYZuYJy"
      },
      "source": [
        "initializeTurtle()"
      ],
      "execution_count": null,
      "outputs": []
    },
    {
      "cell_type": "markdown",
      "metadata": {
        "id": "nOSrhhuI-v6N"
      },
      "source": [
        "<br/><br/>\n",
        "Next, we're going to learn about *for loops*. For loops are super important in computer science. They tell the computer to repeat something *for* a certain number of times.\n",
        "\n",
        "Below is an example for loop. What do you think it does? Run the cell to find out! You can change `10` or `hi` if you want (but if you change `hi` make sure that you keep the quotation marks around whatever you type instead!).\n"
      ]
    },
    {
      "cell_type": "code",
      "metadata": {
        "id": "K3aMDAzXAAjV"
      },
      "source": [
        "for i in range(10):\n",
        "  print(\"hi\")"
      ],
      "execution_count": null,
      "outputs": []
    },
    {
      "cell_type": "markdown",
      "metadata": {
        "id": "QFdlSukoAE7l"
      },
      "source": [
        "<br/><br/>\n",
        "Now that we know about for loops, we're going to see how to use a for loop to draw a square with our turtle.\n",
        "\n",
        "What shape do you think this for loop will draw? Can you change the numbers to draw a different shape?"
      ]
    },
    {
      "cell_type": "code",
      "metadata": {
        "id": "ssD7GteDVvTO"
      },
      "source": [
        "side_length = 100\n",
        "angle = 360/4\n",
        "\n",
        "for i in range(4):\n",
        "  forward(side_length)\n",
        "  right(angle)"
      ],
      "execution_count": null,
      "outputs": []
    },
    {
      "cell_type": "markdown",
      "metadata": {
        "id": "y3V3jYm8ATjr"
      },
      "source": [
        "<br/><br/>\n",
        "This is *almost* the same for loop that we saw above. Now we have this new line that says `num_sides = 0`. Change the `num_sides` variable from `0` to whatever number of sides you want your shape to have.\n",
        "\n",
        "Can you change the code so that it uses the `num_sides` variable to draw your shape?"
      ]
    },
    {
      "cell_type": "code",
      "metadata": {
        "id": "7D52X8JNAt6c"
      },
      "source": [
        "side_length = 100\n",
        "angle = 360/4\n",
        "num_sides = 0\n",
        "\n",
        "for i in range(4):\n",
        "  forward(side_length)\n",
        "  right(angle)"
      ],
      "execution_count": null,
      "outputs": []
    }
  ]
}