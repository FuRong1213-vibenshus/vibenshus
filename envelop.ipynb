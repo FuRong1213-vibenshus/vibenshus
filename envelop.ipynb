{
  "nbformat": 4,
  "nbformat_minor": 0,
  "metadata": {
    "colab": {
      "provenance": [],
      "collapsed_sections": [],
      "authorship_tag": "ABX9TyMfN3q6stQeJkepjtWWJB1l",
      "include_colab_link": true
    },
    "kernelspec": {
      "name": "python3",
      "display_name": "Python 3"
    },
    "language_info": {
      "name": "python"
    }
  },
  "cells": [
    {
      "cell_type": "markdown",
      "metadata": {
        "id": "view-in-github",
        "colab_type": "text"
      },
      "source": [
        "<a href=\"https://colab.research.google.com/github/FuRong1213-vibenshus/vibenshus/blob/master/envelop.ipynb\" target=\"_parent\"><img src=\"https://colab.research.google.com/assets/colab-badge.svg\" alt=\"Open In Colab\"/></a>"
      ]
    },
    {
      "cell_type": "markdown",
      "source": [
        "###Break down the problem of simulating the envelope game to determine if the strategy of rejecting a little over a third of the envelope and then following the rest of the protocol gets you the highest value about a third of the time. These subtasks can include things like generating a sequence of envelopes, rejecting a fraction p of them, and sequentially picking envelopes till one higher than a specific value is found. For each subtask, identify the inputs, outputs and the method."
      ],
      "metadata": {
        "id": "Fbhjt8jaCSM9"
      }
    },
    {
      "cell_type": "markdown",
      "source": [
        "> Generating a sequence of envelopes"
      ],
      "metadata": {
        "id": "QsE1GStuCnOT"
      }
    },
    {
      "cell_type": "markdown",
      "source": [
        "> Rejecting a fraction p of them"
      ],
      "metadata": {
        "id": "nyX7B9lmDFZz"
      }
    },
    {
      "cell_type": "markdown",
      "source": [
        ">Sequentially picking up the evenlops until the value is higher than the record."
      ],
      "metadata": {
        "id": "AVYtGtbBD-Sk"
      }
    },
    {
      "cell_type": "code",
      "execution_count": 12,
      "metadata": {
        "id": "tT-QIgVOCJmU",
        "colab": {
          "base_uri": "https://localhost:8080/"
        },
        "outputId": "da9083d0-c0d8-4564-e6d8-a97755ce5ee7"
      },
      "outputs": [
        {
          "output_type": "stream",
          "name": "stdout",
          "text": [
            "sucessful rate is : 0.3765\n"
          ]
        }
      ],
      "source": [
        "import random\n",
        "NUM_OF_TEST = 2000\n",
        "MAX_VALUE=1000\n",
        "REJECT_FRACTION=0.3678\n",
        "DROP_IDX=int(MAX_VALUE*REJECT_FRACTION)\n",
        "class Envelop():\n",
        "  def __init__(self, value):\n",
        "    \"\"\" Initialize the value of envelops. \"\"\"\n",
        "    self.value = value\n",
        "  \n",
        "class MaxValued():\n",
        "  def __init__(self, maxvalue=0):\n",
        "    self.maxvalue = maxvalue\n",
        "  def get_max_value(self, enevlop):\n",
        "    if self.maxvalue < enevlop.value:\n",
        "      self.maxvalue = enevlop.value\n",
        "\n",
        "num_of_sucess = 0\n",
        "envelop_list = []\n",
        "record = MaxValued();\n",
        "\n",
        "for i in range(NUM_OF_TEST):\n",
        "  record.maxvalue=0;\n",
        "  envelop_list[:] = []\n",
        "  for j in range(MAX_VALUE):\n",
        "    envelop_list.append(Envelop(j+1))\n",
        "\n",
        "  for l in range(MAX_VALUE, 0, -1):\n",
        "    idx = random.randint(0, l-1)\n",
        "    a_envelop = envelop_list[idx]\n",
        "  \n",
        "    if (a_envelop.value == MAX_VALUE) and \\\n",
        "       (l>=MAX_VALUE-DROP_IDX):\n",
        "       break\n",
        "    elif (l< MAX_VALUE-DROP_IDX) and \\\n",
        "       a_envelop.value > record.maxvalue and \\\n",
        "       a_envelop.value < MAX_VALUE:\n",
        "       break\n",
        "    elif (l< MAX_VALUE-DROP_IDX) and \\\n",
        "       (a_envelop.value == MAX_VALUE):\n",
        "       num_of_sucess +=1\n",
        "       break\n",
        "    else:\n",
        "      record.get_max_value(a_envelop)\n",
        "      del envelop_list[idx]\n",
        "print(\"sucessful rate is :\", num_of_sucess/float(NUM_OF_TEST))"
      ]
    },
    {
      "cell_type": "code",
      "source": [
        "import numpy as np\n",
        "num_of_sucess = 0\n",
        "for drop_fraction in range(10,70, 2):\n",
        "  DROP_IDX=int(MAX_VALUE*drop_fraction/100.0)\n",
        "  for i in range(NUM_OF_TEST):\n",
        "    random_list = random.sample(range(1, MAX_VALUE+1), MAX_VALUE)\n",
        "    droped_list = np.array(random_list[0:DROP_IDX])\n",
        "    keeped_list = np.array(random_list[DROP_IDX:])\n",
        "    rejected_max = droped_list.max()\n",
        "    if (rejected_max == MAX_VALUE):\n",
        "      continue\n",
        "    elif keeped_list[keeped_list>rejected_max][0] == MAX_VALUE :\n",
        "      num_of_sucess +=1\n",
        "  print(\"sucessful rate for \", drop_fraction/100.0 , num_of_sucess/float(NUM_OF_TEST))\n",
        "  num_of_sucess = 0\n"
      ],
      "metadata": {
        "colab": {
          "base_uri": "https://localhost:8080/"
        },
        "id": "FgdRBneamUwE",
        "outputId": "5d26b8ff-20f9-4c1b-bbd1-929ab0756429"
      },
      "execution_count": 13,
      "outputs": [
        {
          "output_type": "stream",
          "name": "stdout",
          "text": [
            "sucessful rate for  0.1 0.211\n",
            "sucessful rate for  0.12 0.244\n",
            "sucessful rate for  0.14 0.273\n",
            "sucessful rate for  0.16 0.293\n",
            "sucessful rate for  0.18 0.306\n",
            "sucessful rate for  0.2 0.324\n",
            "sucessful rate for  0.22 0.324\n",
            "sucessful rate for  0.24 0.3485\n",
            "sucessful rate for  0.26 0.3495\n",
            "sucessful rate for  0.28 0.362\n",
            "sucessful rate for  0.3 0.3685\n",
            "sucessful rate for  0.32 0.364\n",
            "sucessful rate for  0.34 0.369\n",
            "sucessful rate for  0.36 0.391\n",
            "sucessful rate for  0.38 0.374\n",
            "sucessful rate for  0.4 0.385\n",
            "sucessful rate for  0.42 0.373\n",
            "sucessful rate for  0.44 0.3575\n",
            "sucessful rate for  0.46 0.37\n",
            "sucessful rate for  0.48 0.3525\n",
            "sucessful rate for  0.5 0.3515\n",
            "sucessful rate for  0.52 0.338\n",
            "sucessful rate for  0.54 0.36\n",
            "sucessful rate for  0.56 0.3315\n",
            "sucessful rate for  0.58 0.316\n",
            "sucessful rate for  0.6 0.291\n",
            "sucessful rate for  0.62 0.3015\n",
            "sucessful rate for  0.64 0.282\n",
            "sucessful rate for  0.66 0.2905\n",
            "sucessful rate for  0.68 0.2875\n"
          ]
        }
      ]
    },
    {
      "cell_type": "code",
      "source": [],
      "metadata": {
        "id": "sEYkSQOkHLEh"
      },
      "execution_count": null,
      "outputs": []
    }
  ]
}