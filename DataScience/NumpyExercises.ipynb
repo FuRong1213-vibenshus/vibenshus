{
  "nbformat": 4,
  "nbformat_minor": 0,
  "metadata": {
    "colab": {
      "name": "Untitled4.ipynb",
      "provenance": [],
      "collapsed_sections": [],
      "authorship_tag": "ABX9TyPTZX3oV3xnkwV177tlv2zU",
      "include_colab_link": true
    },
    "kernelspec": {
      "name": "python3",
      "display_name": "Python 3"
    },
    "language_info": {
      "name": "python"
    }
  },
  "cells": [
    {
      "cell_type": "markdown",
      "metadata": {
        "id": "view-in-github",
        "colab_type": "text"
      },
      "source": [
        "<a href=\"https://colab.research.google.com/github/FuRong1213-vibenshus/vibenshus/blob/master/NumpyExercises.ipynb\" target=\"_parent\"><img src=\"https://colab.research.google.com/assets/colab-badge.svg\" alt=\"Open In Colab\"/></a>"
      ]
    },
    {
      "cell_type": "code",
      "execution_count": null,
      "metadata": {
        "id": "9Vadms29sk2z"
      },
      "outputs": [],
      "source": [
        ""
      ]
    },
    {
      "cell_type": "markdown",
      "source": [
        "*Exercise 1: Create a 4X2 integer array and Prints its attributes*\n",
        "\n",
        "**Note: The element must be a type of unsigned int16. And print the following Attributes:** \n",
        "\n",
        "-The shape of an array.\n",
        "\n",
        "-Array dimensions.\n",
        "\n",
        "-The Length of each element of the array in bytes."
      ],
      "metadata": {
        "id": "4E5GvaFDspNP"
      }
    },
    {
      "cell_type": "code",
      "source": [
        "import numpy as np\n",
        "a = np.arange(8).reshape(4,2)\n",
        "print(a)\n",
        "print(\"the shape of array is \", a.shape)\n",
        "print(\"the dimention of array is \", a.ndim)\n",
        "print(\"the item size is \", a.itemsize)\n",
        "\n"
      ],
      "metadata": {
        "colab": {
          "base_uri": "https://localhost:8080/"
        },
        "id": "febKO4QVtBNL",
        "outputId": "bbff4d16-c684-450f-a709-eccb22d52675"
      },
      "execution_count": 6,
      "outputs": [
        {
          "output_type": "stream",
          "name": "stdout",
          "text": [
            "[[0 1]\n",
            " [2 3]\n",
            " [4 5]\n",
            " [6 7]]\n",
            "the shape of array is  (4, 2)\n",
            "the dimention of array is  2\n",
            "the item size is  8\n"
          ]
        }
      ]
    },
    {
      "cell_type": "markdown",
      "source": [
        "*Exercise 2: Create a 5X2 integer array from a range between 100 to 200 such that the difference between each element is 10*"
      ],
      "metadata": {
        "id": "XwrQmMgMuHCd"
      }
    },
    {
      "cell_type": "code",
      "source": [
        "b = np.arange(100, 200,10).reshape(5,2)\n",
        "b"
      ],
      "metadata": {
        "colab": {
          "base_uri": "https://localhost:8080/"
        },
        "id": "ipjF3f7vtL50",
        "outputId": "19b8362a-415a-4814-9515-ef1bcb7ed08d"
      },
      "execution_count": 9,
      "outputs": [
        {
          "output_type": "execute_result",
          "data": {
            "text/plain": [
              "array([[100, 110],\n",
              "       [120, 130],\n",
              "       [140, 150],\n",
              "       [160, 170],\n",
              "       [180, 190]])"
            ]
          },
          "metadata": {},
          "execution_count": 9
        }
      ]
    },
    {
      "cell_type": "markdown",
      "source": [
        "*Exercise 3: Following is the provided numPy array. Return array of items by taking the third column from all rows*"
      ],
      "metadata": {
        "id": "ochRZrZ2uwDv"
      }
    },
    {
      "cell_type": "code",
      "source": [
        "sampleArray = np.array([[11 ,22, 33], [44, 55, 66], [77, 88, 99]])\n",
        "sampleArray"
      ],
      "metadata": {
        "colab": {
          "base_uri": "https://localhost:8080/"
        },
        "id": "FqECMbEWuY_N",
        "outputId": "e1244356-acd1-4e81-97ad-4f2ec1af87fe"
      },
      "execution_count": 12,
      "outputs": [
        {
          "output_type": "execute_result",
          "data": {
            "text/plain": [
              "array([[11, 22, 33],\n",
              "       [44, 55, 66],\n",
              "       [77, 88, 99]])"
            ]
          },
          "metadata": {},
          "execution_count": 12
        }
      ]
    },
    {
      "cell_type": "code",
      "source": [
        "sampleArray[:,2]"
      ],
      "metadata": {
        "colab": {
          "base_uri": "https://localhost:8080/"
        },
        "id": "Ou6ABUuJu4h-",
        "outputId": "33b56cdb-faa4-41fa-9dca-dd4eafa6b60c"
      },
      "execution_count": 14,
      "outputs": [
        {
          "output_type": "execute_result",
          "data": {
            "text/plain": [
              "array([33, 66, 99])"
            ]
          },
          "metadata": {},
          "execution_count": 14
        }
      ]
    },
    {
      "cell_type": "markdown",
      "source": [
        "*Exercise 4: Return array of odd rows and even columns from below numpy array*"
      ],
      "metadata": {
        "id": "N1lclZOzvOgn"
      }
    },
    {
      "cell_type": "code",
      "source": [
        "sampleArray = np.array([[3 ,6, 9, 12], [15 ,18, 21, 24], [27 ,30, 33, 36], [39 ,42, 45, 48], [51 ,54, 57, 60]])"
      ],
      "metadata": {
        "id": "ALXsSS6NvBfy"
      },
      "execution_count": 15,
      "outputs": []
    },
    {
      "cell_type": "code",
      "source": [
        "sampleArray"
      ],
      "metadata": {
        "colab": {
          "base_uri": "https://localhost:8080/"
        },
        "id": "sQ31G5ktvWd-",
        "outputId": "e5ced277-a98b-49ab-f95f-ac98c24d125a"
      },
      "execution_count": 16,
      "outputs": [
        {
          "output_type": "execute_result",
          "data": {
            "text/plain": [
              "array([[ 3,  6,  9, 12],\n",
              "       [15, 18, 21, 24],\n",
              "       [27, 30, 33, 36],\n",
              "       [39, 42, 45, 48],\n",
              "       [51, 54, 57, 60]])"
            ]
          },
          "metadata": {},
          "execution_count": 16
        }
      ]
    },
    {
      "cell_type": "code",
      "source": [
        "sampleArray[0::2, 1::2]"
      ],
      "metadata": {
        "colab": {
          "base_uri": "https://localhost:8080/"
        },
        "id": "ZGCxus4YvXe8",
        "outputId": "cf432d86-6662-4cc5-af80-d73b857aa2f4"
      },
      "execution_count": 18,
      "outputs": [
        {
          "output_type": "execute_result",
          "data": {
            "text/plain": [
              "array([[ 6, 12],\n",
              "       [30, 36],\n",
              "       [54, 60]])"
            ]
          },
          "metadata": {},
          "execution_count": 18
        }
      ]
    },
    {
      "cell_type": "markdown",
      "source": [
        "*Exercise 5: Create a result array by adding the following two NumPy arrays. Next, modify the result array by calculating the square of each element*"
      ],
      "metadata": {
        "id": "Ic1jKLQowgML"
      }
    },
    {
      "cell_type": "code",
      "source": [
        "arrayOne = np.array([[5, 6, 9], [21 ,18, 27]])\n",
        "arrayTwo = np.array([[15 ,33, 24], [4 ,7, 1]])"
      ],
      "metadata": {
        "id": "nj0MUCJjvqyQ"
      },
      "execution_count": 20,
      "outputs": []
    },
    {
      "cell_type": "code",
      "source": [
        "c = arrayOne+arrayTwo\n",
        "np.multiply(c,c)"
      ],
      "metadata": {
        "colab": {
          "base_uri": "https://localhost:8080/"
        },
        "id": "ToKuHNQnwnAe",
        "outputId": "a1220fb1-ab03-496d-e4b2-e1a5e9562a2d"
      },
      "execution_count": 25,
      "outputs": [
        {
          "output_type": "execute_result",
          "data": {
            "text/plain": [
              "array([[ 400, 1521, 1089],\n",
              "       [ 625,  625,  784]])"
            ]
          },
          "metadata": {},
          "execution_count": 25
        }
      ]
    },
    {
      "cell_type": "markdown",
      "source": [
        "*Exercise 6: Split the array into four equal-sized sub-arrays*\n",
        "\n",
        "**Note: Create an 8X3 integer array from a range between 10 to 34 such that the difference between each element is 1 and then Split the array into four equal-sized sub-arrays.**\n",
        "\n"
      ],
      "metadata": {
        "id": "pl409G2Jxwqk"
      }
    },
    {
      "cell_type": "code",
      "source": [
        "d = np.arange(10,34).reshape(8,3)\n",
        "subArrays = np.split(d, 4) \n",
        "subArrays\n"
      ],
      "metadata": {
        "colab": {
          "base_uri": "https://localhost:8080/"
        },
        "id": "ml_tTvt2ws_l",
        "outputId": "3a928eef-85f3-4b6a-e50f-4af3a2f99c64"
      },
      "execution_count": 28,
      "outputs": [
        {
          "output_type": "execute_result",
          "data": {
            "text/plain": [
              "[array([[10, 11, 12],\n",
              "        [13, 14, 15]]), array([[16, 17, 18],\n",
              "        [19, 20, 21]]), array([[22, 23, 24],\n",
              "        [25, 26, 27]]), array([[28, 29, 30],\n",
              "        [31, 32, 33]])]"
            ]
          },
          "metadata": {},
          "execution_count": 28
        }
      ]
    },
    {
      "cell_type": "markdown",
      "source": [
        "*Exercise 7: Sort following NumPy array*\n",
        "\n",
        "-Case 1: Sort array by the second row\n",
        "\n",
        "-Case 2: Sort the array by the second column"
      ],
      "metadata": {
        "id": "AkhaNLoGyV24"
      }
    },
    {
      "cell_type": "code",
      "source": [
        "sampleArray = np.array([[34,43,73],[82,22,12],[53,94,66]])\n",
        "sampleArray\n"
      ],
      "metadata": {
        "colab": {
          "base_uri": "https://localhost:8080/"
        },
        "id": "9bVRANZBx-4l",
        "outputId": "82dfd158-0192-4add-cfa7-3b4b7ba17c78"
      },
      "execution_count": 36,
      "outputs": [
        {
          "output_type": "execute_result",
          "data": {
            "text/plain": [
              "array([[34, 43, 73],\n",
              "       [82, 22, 12],\n",
              "       [53, 94, 66]])"
            ]
          },
          "metadata": {},
          "execution_count": 36
        }
      ]
    },
    {
      "cell_type": "code",
      "source": [
        "sampleArray[ :,sampleArray[1,:].argsort()]\n"
      ],
      "metadata": {
        "colab": {
          "base_uri": "https://localhost:8080/"
        },
        "id": "_myIWsfTyiTZ",
        "outputId": "00686a6a-dd57-4edc-ba6b-0b5767713f43"
      },
      "execution_count": 39,
      "outputs": [
        {
          "output_type": "execute_result",
          "data": {
            "text/plain": [
              "array([[73, 43, 34],\n",
              "       [12, 22, 82],\n",
              "       [66, 94, 53]])"
            ]
          },
          "metadata": {},
          "execution_count": 39
        }
      ]
    },
    {
      "cell_type": "code",
      "source": [
        "sampleArray[sampleArray[:1].argsort()]"
      ],
      "metadata": {
        "colab": {
          "base_uri": "https://localhost:8080/"
        },
        "id": "wKKORQ1oyo1P",
        "outputId": "01070d2a-0e20-4cb1-afe3-73b78bff1434"
      },
      "execution_count": 35,
      "outputs": [
        {
          "output_type": "execute_result",
          "data": {
            "text/plain": [
              "array([[[82, 94, 73],\n",
              "        [53, 43, 66],\n",
              "        [34, 22, 12]]])"
            ]
          },
          "metadata": {},
          "execution_count": 35
        }
      ]
    },
    {
      "cell_type": "code",
      "source": [
        "import numpy\n",
        "import matplotlib.pyplot as plt\n",
        "sampleArray = numpy.array([[34,43,73],[82,22,12],[53,94,66]]) \n",
        "plt.matshow(sampleArray)\n"
      ],
      "metadata": {
        "colab": {
          "base_uri": "https://localhost:8080/",
          "height": 292
        },
        "id": "mBokdmlxzVHf",
        "outputId": "53a5bef6-f416-4744-e293-b26b54dac29a"
      },
      "execution_count": 40,
      "outputs": [
        {
          "output_type": "execute_result",
          "data": {
            "text/plain": [
              "<matplotlib.image.AxesImage at 0x7f338bfc9850>"
            ]
          },
          "metadata": {},
          "execution_count": 40
        },
        {
          "output_type": "display_data",
          "data": {
            "text/plain": [
              "<Figure size 288x288 with 1 Axes>"
            ],
            "image/png": "[encoded data removed]"
          },
          "metadata": {
            "needs_background": "light"
          }
        }
      ]
    },
    {
      "cell_type": "code",
      "source": [
        ""
      ],
      "metadata": {
        "id": "gcNiiidr0vTA"
      },
      "execution_count": null,
      "outputs": []
    }
  ]
}
