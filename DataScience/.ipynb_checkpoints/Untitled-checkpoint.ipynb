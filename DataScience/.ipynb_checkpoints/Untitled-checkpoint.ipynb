{
 "cells": [
  {
   "cell_type": "markdown",
   "id": "a238c573",
   "metadata": {},
   "source": [
    "For this task we will investigate how to retrieve and filter data from a CSV file to perform a goals analysis of the 2018 Football World Cup.\n",
    "\n",
    "We have collated a CSV files of all the goals scored during this world cup and stored this information in a CSV file, using the semi-colon as a separator. The data is formatted as follows:\n",
    "                ***player;country;time;***\n",
    "\n",
    "On this data, time represents the minute in the game when the goal was scored.\n",
    "\n",
    "- I Undersøg koden og tegn et flowdiagram over programmets behandling af data fra filen.\n",
    "- I udvid programmet med funktioner som udskriver: \n",
    "    - H: alle spiller der står i listen\n",
    "    - I: alle land der deltager i VM kampen. \n",
    "- I Udvid programmet med funktioner som producere en graf  du synes er passende for et sæt målepunkter fra fysiktimerne."
   ]
  },
  {
   "cell_type": "code",
   "execution_count": null,
   "id": "dfbc682b",
   "metadata": {},
   "outputs": [],
   "source": [
    "#2018 Football World Cup Challenge -  www.101computing.net/2018-world-cup-goals-analysis/\n",
    "import time\n",
    "\n",
    "def menu():\n",
    "  print(\"*********************************************\")\n",
    "  print(\"*                                           *\")\n",
    "  print(\"*      2018 World Cup: Goals Analysis       *\")\n",
    "  print(\"*                                           *\")\n",
    "  print(\"*********************************************\")\n",
    "  print(\"\")\n",
    "  print(\"> Select an option:\")\n",
    "  print(\"       > A: Total number of goals scored by a given country\")\n",
    "  print(\"       > B: Total number of goals scored by a given player\")\n",
    "  print(\"       > C: List the name of all the players who scored for a given country\")\n",
    "  print(\"       > D: Total number of goals by all countries\")\n",
    "  print(\"       > E: Total number of goals scored during the first half (45 minutes)\")\n",
    "  print(\"       > F: Total number of goals scored during the second half (45 minutes to 90 minutes)\")\n",
    "  print(\"       > G: Total number of goals scored during extra time (after 90 minutes of play)\")\n",
    "  print(\"       > X: Exit\")\n",
    "  print(\"\")\n",
    "  \n",
    "#A Procedure to count the number of goals scored by a given country during the 2018 world cup\n",
    "def goalsPerCountry():\n",
    "  userInput = input(\"> Enter country:\").title()\n",
    "  \n",
    "  file = open(\"goals.txt\",\"r\")\n",
    "  goals = 0\n",
    "  for line in file:\n",
    "    data = line.split(\";\")\n",
    "    player = data[0]\n",
    "    country = data[1]\n",
    "    minutes = int(data[2])\n",
    "    if country == userInput:\n",
    "       goals = goals + 1\n",
    "  file.close()\n",
    "  print(\"\\n> \" + userInput + \" scored \" + str(goals) + \" goal(s) in the 2018 world cup.\")\n",
    "\n",
    "def goalsPerPlayer():\n",
    "    userInput = input\n",
    "\n",
    "##################### Main Program Starts Here ##############################\n",
    "userChoice=\"\"\n",
    "while userChoice!=\"X\":\n",
    "  menu()\n",
    "  userChoice = input(\"> Select an option from the menu (A to G) or X to exit:\").upper()\n",
    "  if userChoice==\"A\":\n",
    "    goalsPerCountry()\n",
    "  elif userChoice==\"B\":\n",
    "    print(\"To be completed...\")\n",
    "  #...\n",
    "  time.sleep(3)\n",
    "  print(\"\\n\\n\\n\")\n",
    "print(\"Good bye!\")    "
   ]
  }
 ],
 "metadata": {
  "kernelspec": {
   "display_name": "Python 3 (ipykernel)",
   "language": "python",
   "name": "python3"
  },
  "language_info": {
   "codemirror_mode": {
    "name": "ipython",
    "version": 3
   },
   "file_extension": ".py",
   "mimetype": "text/x-python",
   "name": "python",
   "nbconvert_exporter": "python",
   "pygments_lexer": "ipython3",
   "version": "3.9.13"
  }
 },
 "nbformat": 4,
 "nbformat_minor": 5
}
