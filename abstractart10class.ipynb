{
  "nbformat": 4,
  "nbformat_minor": 0,
  "metadata": {
    "colab": {
      "provenance": [],
      "authorship_tag": "ABX9TyNh2LwGcNv1CRYF9QvJROkB",
      "include_colab_link": true
    },
    "kernelspec": {
      "name": "python3",
      "display_name": "Python 3"
    },
    "language_info": {
      "name": "python"
    }
  },
  "cells": [
    {
      "cell_type": "markdown",
      "metadata": {
        "id": "view-in-github",
        "colab_type": "text"
      },
      "source": [
        "<a href=\"https://colab.research.google.com/github/FuRong1213-vibenshus/vibenshus/blob/master/abstractart10class.ipynb\" target=\"_parent\"><img src=\"https://colab.research.google.com/assets/colab-badge.svg\" alt=\"Open In Colab\"/></a>"
      ]
    },
    {
      "cell_type": "markdown",
      "source": [
        "##Make the environment ready\n",
        "  - Install ColabturtlePlus "
      ],
      "metadata": {
        "id": "kk7g01cHH0HT"
      }
    },
    {
      "cell_type": "code",
      "execution_count": 1,
      "metadata": {
        "colab": {
          "base_uri": "https://localhost:8080/"
        },
        "id": "2GNMHonxHjfb",
        "outputId": "a4e354cb-e60c-47c9-9ea2-8e163a12506b"
      },
      "outputs": [
        {
          "output_type": "stream",
          "name": "stdout",
          "text": [
            "Looking in indexes: https://pypi.org/simple, https://us-python.pkg.dev/colab-wheels/public/simple/\n",
            "Collecting ColabTurtlePlus==1.5\n",
            "  Downloading ColabTurtlePlus-1.5-py3-none-any.whl (28 kB)\n",
            "Installing collected packages: ColabTurtlePlus\n",
            "Successfully installed ColabTurtlePlus-1.5\n"
          ]
        }
      ],
      "source": [
        "!pip install ColabTurtlePlus==1.5"
      ]
    },
    {
      "cell_type": "markdown",
      "source": [
        " - In any code cell, import the package:"
      ],
      "metadata": {
        "id": "piTueXOUICrz"
      }
    },
    {
      "cell_type": "code",
      "source": [
        "import ColabTurtlePlus.Turtle as turtle"
      ],
      "metadata": {
        "id": "W5VX8BAdIKZD"
      },
      "execution_count": 2,
      "outputs": []
    },
    {
      "cell_type": "markdown",
      "source": [
        "- Make a turtle for your plot"
      ],
      "metadata": {
        "id": "lS1js1_9ISCa"
      }
    },
    {
      "cell_type": "markdown",
      "source": [
        "## Make a move\n",
        "- **forward(units)** -> Moves the turtle in the direction it is facing, by units pixels\n",
        "- **backward(units)** -> Moves the turtle in the opposite of the direction it is facing, by units pixels\n",
        "- **right(degrees)** -> Turns the turtle to right by the given degrees\n",
        "-**left(degrees)** -> Turns the turtle to left by the given degrees\n",
        "-**goto(x,y)** ->Moves the turtle to the point defined by x,y. The coordinates can be given separately, or in a single tuple.\n",
        "-**setx(x)** -> Moves the turtle to the given x position, the y coordinate of the turtle stays the same.\n",
        "-**sety(y)** -> Moves the turtle to the given y position, the x coordinate of the turtle stays the same.\n",
        "-**home()** -> Returns the turtle to the beginning position and angle. The turtle will continue drawing during this operation if the pen is down.\n",
        "-**circle(radius, extent, steps)** -> Draws a circle of radius radius covering an extent of extent degrees.\n",
        "\n"
      ],
      "metadata": {
        "id": "JYshtDiCIkYb"
      }
    },
    {
      "cell_type": "code",
      "source": [
        "CANVAS_SIZE = 500\n",
        "DENSITY = 12\n",
        "turtle.initializeTurtle(window=(CANVAS_SIZE, CANVAS_SIZE), speed=6)\n",
        "turtle.pen(pensize = 5)\n",
        "side_length = 100\n",
        "\n",
        "num_sides = 4\n",
        "angle = 360/num_sides\n",
        "\n",
        "for i in range(num_sides):\n",
        "  turtle.forward(side_length)\n",
        "  turtle.right(angle)\n",
        "#turtle.clear()"
      ],
      "metadata": {
        "colab": {
          "base_uri": "https://localhost:8080/",
          "height": 521
        },
        "id": "E9OBJ9P4P_Ug",
        "outputId": "7399af18-c0d3-437b-b0df-c4e55c220886"
      },
      "execution_count": 4,
      "outputs": [
        {
          "output_type": "display_data",
          "data": {
            "text/plain": [
              "<IPython.core.display.HTML object>"
            ],
            "text/html": [
              "\n",
              "      <svg width=\"500\" height=\"500\">  \n",
              "        <rect width=\"100%\" height=\"100%\" style=\"fill:white;stroke:;stroke-width:1\"/>\n",
              "        \n",
              "        <line x1=\"250.0\" y1=\"250.0\" x2=\"350.0\" y2=\"250.0\" stroke-linecap=\"round\" style=\"stroke:black;stroke-width:5\" /><line x1=\"350.0\" y1=\"250.0\" x2=\"350.0\" y2=\"350.0\" stroke-linecap=\"round\" style=\"stroke:black;stroke-width:5\" /><line x1=\"350.0\" y1=\"350.0\" x2=\"250.0\" y2=\"350.0\" stroke-linecap=\"round\" style=\"stroke:black;stroke-width:5\" /><line x1=\"250.0\" y1=\"350.0\" x2=\"250.0\" y2=\"250.0\" stroke-linecap=\"round\" style=\"stroke:black;stroke-width:5\" />\n",
              "        \n",
              "        \n",
              "        <g id=\"classic\" visibility=\"visible\" transform=\"rotate(180.0,250.0,250.0) translate(250.0, 250.0)\">\n",
              "<polygon points=\"-5,-4.5 0,-2.5 5,-4.5 0,4.5\" transform=\"skewX(0) scale(1,1)\" style=\"stroke:black;fill:black;stroke-width:1\" />\n",
              "<animateTransform id = \"one\" attributeName=\"transform\" \n",
              "                      type=\"scale\"\n",
              "                      from=\"1 1\" to=\"1 1\"\n",
              "                      begin=\"0s\" dur=\"0.01s\"\n",
              "                      repeatCount=\"1\"\n",
              "                      additive=\"sum\"\n",
              "                      fill=\"freeze\"\n",
              "            /><animateTransform attributeName=\"transform\"\n",
              "                    type=\"rotate\"\n",
              "                    from=\"0 0 0\" to =\"90.0 0 0\"\n",
              "                    begin=\"one.end\" dur=\"0.2s\"\n",
              "                    repeatCount=\"1\"\n",
              "                    additive=\"sum\"\n",
              "                    fill=\"freeze\"\n",
              "          /></g>\n",
              "      </svg>\n",
              "    "
            ]
          },
          "metadata": {}
        }
      ]
    },
    {
      "cell_type": "markdown",
      "source": [
        "## Pen Control - Drawing State\n",
        "- **pendown()** -> Puts the pen down, causing the turtle movements to start drawing again.\n",
        "- **penup()** -> Lifts the pen, turtles movement will not draw anything after this function is called.\n",
        "- **pen(pen, ****pendict)**-> Return or set the pen's attributes.\n",
        "  - **pensize** -> Changes the width of the pen. If the parameter is omitted, returns the current pen width.\n",
        "\n",
        "## Pen Control - Color Control\n",
        "- **color()** -> Return the current pencolor and the current fillcolor\n",
        "- **color(colorstring), color((r,g,b)** -> set both fillcolor and pencolor to the given value. "
      ],
      "metadata": {
        "id": "Mq8h1bB_J8Qi"
      }
    },
    {
      "cell_type": "markdown",
      "source": [
        "## Pen Control - More Drawing Control\n",
        "- **reset()** -> Reset most (but not all) of the default values. Clears the drawing and moves turtle back to the middle of the drawing window.\n",
        "- **clear()** -> Clear any drawing on the screen."
      ],
      "metadata": {
        "id": "-ryNmv12O2qZ"
      }
    },
    {
      "cell_type": "markdown",
      "source": [
        "## Random and Range"
      ],
      "metadata": {
        "id": "uurqgCcHTgDj"
      }
    },
    {
      "cell_type": "code",
      "source": [
        "turtle.penup()\n",
        "\n",
        "def draw_line_1(row, col):\n",
        "    pass\n",
        "\n",
        "for row in range(DENSITY):\n",
        "    for col in range(DENSITY):\n",
        "        draw_line_1(row, col)"
      ],
      "metadata": {
        "id": "mb3www2RWlRB"
      },
      "execution_count": 5,
      "outputs": []
    },
    {
      "cell_type": "code",
      "source": [
        "def draw_line_2(row, col):\n",
        "    lower_left = (\n",
        "        (col * CANVAS_SIZE / DENSITY) - CANVAS_SIZE / 2,\n",
        "        (row * CANVAS_SIZE / DENSITY) - CANVAS_SIZE / 2\n",
        "    )\n",
        "    upper_right = (\n",
        "        ((col + 1) * CANVAS_SIZE / DENSITY) - CANVAS_SIZE / 2,\n",
        "        ((row + 1) * CANVAS_SIZE / DENSITY) - CANVAS_SIZE / 2\n",
        "    )\n",
        "\n",
        "    turtle.goto(lower_left)\n",
        "    turtle.pendown()\n",
        "    turtle.goto(upper_right)\n",
        "    turtle.penup()\n",
        "turtle.clear()\n",
        "turtle.penup()\n",
        "for row in range(DENSITY):\n",
        "    for col in range(DENSITY):\n",
        "        draw_line_2(row, col)\n",
        "turtle.done()"
      ],
      "metadata": {
        "colab": {
          "base_uri": "https://localhost:8080/",
          "height": 521
        },
        "id": "uCDhL1MHb4pg",
        "outputId": "917dbfb2-1137-4f87-815c-de3bdfa33ee2"
      },
      "execution_count": 7,
      "outputs": [
        {
          "output_type": "display_data",
          "data": {
            "text/plain": [
              "<IPython.core.display.HTML object>"
            ],
            "text/html": [
              "\n",
              "      <svg width=\"500\" height=\"500\">  \n",
              "        <rect width=\"100%\" height=\"100%\" style=\"fill:white;stroke:;stroke-width:1\"/>\n",
              "        \n",
              "        <line x1=\"0.0\" y1=\"500.0\" x2=\"41.667\" y2=\"458.333\" stroke-linecap=\"round\" style=\"stroke:black;stroke-width:5\" /><line x1=\"41.667\" y1=\"500.0\" x2=\"83.333\" y2=\"458.333\" stroke-linecap=\"round\" style=\"stroke:black;stroke-width:5\" /><line x1=\"83.333\" y1=\"500.0\" x2=\"125.0\" y2=\"458.333\" stroke-linecap=\"round\" style=\"stroke:black;stroke-width:5\" /><line x1=\"125.0\" y1=\"500.0\" x2=\"166.667\" y2=\"458.333\" stroke-linecap=\"round\" style=\"stroke:black;stroke-width:5\" /><line x1=\"166.667\" y1=\"500.0\" x2=\"208.333\" y2=\"458.333\" stroke-linecap=\"round\" style=\"stroke:black;stroke-width:5\" /><line x1=\"208.333\" y1=\"500.0\" x2=\"250.0\" y2=\"458.333\" stroke-linecap=\"round\" style=\"stroke:black;stroke-width:5\" /><line x1=\"250.0\" y1=\"500.0\" x2=\"291.667\" y2=\"458.333\" stroke-linecap=\"round\" style=\"stroke:black;stroke-width:5\" /><line x1=\"291.667\" y1=\"500.0\" x2=\"333.333\" y2=\"458.333\" stroke-linecap=\"round\" style=\"stroke:black;stroke-width:5\" /><line x1=\"333.333\" y1=\"500.0\" x2=\"375.0\" y2=\"458.333\" stroke-linecap=\"round\" style=\"stroke:black;stroke-width:5\" /><line x1=\"375.0\" y1=\"500.0\" x2=\"416.667\" y2=\"458.333\" stroke-linecap=\"round\" style=\"stroke:black;stroke-width:5\" /><line x1=\"416.667\" y1=\"500.0\" x2=\"458.333\" y2=\"458.333\" stroke-linecap=\"round\" style=\"stroke:black;stroke-width:5\" /><line x1=\"458.333\" y1=\"500.0\" x2=\"500.0\" y2=\"458.333\" stroke-linecap=\"round\" style=\"stroke:black;stroke-width:5\" /><line x1=\"0.0\" y1=\"458.333\" x2=\"41.667\" y2=\"416.667\" stroke-linecap=\"round\" style=\"stroke:black;stroke-width:5\" /><line x1=\"41.667\" y1=\"458.333\" x2=\"83.333\" y2=\"416.667\" stroke-linecap=\"round\" style=\"stroke:black;stroke-width:5\" /><line x1=\"83.333\" y1=\"458.333\" x2=\"125.0\" y2=\"416.667\" stroke-linecap=\"round\" style=\"stroke:black;stroke-width:5\" /><line x1=\"125.0\" y1=\"458.333\" x2=\"166.667\" y2=\"416.667\" stroke-linecap=\"round\" style=\"stroke:black;stroke-width:5\" /><line x1=\"166.667\" y1=\"458.333\" x2=\"208.333\" y2=\"416.667\" stroke-linecap=\"round\" style=\"stroke:black;stroke-width:5\" /><line x1=\"208.333\" y1=\"458.333\" x2=\"250.0\" y2=\"416.667\" stroke-linecap=\"round\" style=\"stroke:black;stroke-width:5\" /><line x1=\"250.0\" y1=\"458.333\" x2=\"291.667\" y2=\"416.667\" stroke-linecap=\"round\" style=\"stroke:black;stroke-width:5\" /><line x1=\"291.667\" y1=\"458.333\" x2=\"333.333\" y2=\"416.667\" stroke-linecap=\"round\" style=\"stroke:black;stroke-width:5\" /><line x1=\"333.333\" y1=\"458.333\" x2=\"375.0\" y2=\"416.667\" stroke-linecap=\"round\" style=\"stroke:black;stroke-width:5\" /><line x1=\"375.0\" y1=\"458.333\" x2=\"416.667\" y2=\"416.667\" stroke-linecap=\"round\" style=\"stroke:black;stroke-width:5\" /><line x1=\"416.667\" y1=\"458.333\" x2=\"458.333\" y2=\"416.667\" stroke-linecap=\"round\" style=\"stroke:black;stroke-width:5\" /><line x1=\"458.333\" y1=\"458.333\" x2=\"500.0\" y2=\"416.667\" stroke-linecap=\"round\" style=\"stroke:black;stroke-width:5\" /><line x1=\"0.0\" y1=\"416.667\" x2=\"41.667\" y2=\"375.0\" stroke-linecap=\"round\" style=\"stroke:black;stroke-width:5\" /><line x1=\"41.667\" y1=\"416.667\" x2=\"83.333\" y2=\"375.0\" stroke-linecap=\"round\" style=\"stroke:black;stroke-width:5\" /><line x1=\"83.333\" y1=\"416.667\" x2=\"125.0\" y2=\"375.0\" stroke-linecap=\"round\" style=\"stroke:black;stroke-width:5\" /><line x1=\"125.0\" y1=\"416.667\" x2=\"166.667\" y2=\"375.0\" stroke-linecap=\"round\" style=\"stroke:black;stroke-width:5\" /><line x1=\"166.667\" y1=\"416.667\" x2=\"208.333\" y2=\"375.0\" stroke-linecap=\"round\" style=\"stroke:black;stroke-width:5\" /><line x1=\"208.333\" y1=\"416.667\" x2=\"250.0\" y2=\"375.0\" stroke-linecap=\"round\" style=\"stroke:black;stroke-width:5\" /><line x1=\"250.0\" y1=\"416.667\" x2=\"291.667\" y2=\"375.0\" stroke-linecap=\"round\" style=\"stroke:black;stroke-width:5\" /><line x1=\"291.667\" y1=\"416.667\" x2=\"333.333\" y2=\"375.0\" stroke-linecap=\"round\" style=\"stroke:black;stroke-width:5\" /><line x1=\"333.333\" y1=\"416.667\" x2=\"375.0\" y2=\"375.0\" stroke-linecap=\"round\" style=\"stroke:black;stroke-width:5\" /><line x1=\"375.0\" y1=\"416.667\" x2=\"416.667\" y2=\"375.0\" stroke-linecap=\"round\" style=\"stroke:black;stroke-width:5\" /><line x1=\"416.667\" y1=\"416.667\" x2=\"458.333\" y2=\"375.0\" stroke-linecap=\"round\" style=\"stroke:black;stroke-width:5\" /><line x1=\"458.333\" y1=\"416.667\" x2=\"500.0\" y2=\"375.0\" stroke-linecap=\"round\" style=\"stroke:black;stroke-width:5\" /><line x1=\"0.0\" y1=\"375.0\" x2=\"41.667\" y2=\"333.333\" stroke-linecap=\"round\" style=\"stroke:black;stroke-width:5\" /><line x1=\"41.667\" y1=\"375.0\" x2=\"83.333\" y2=\"333.333\" stroke-linecap=\"round\" style=\"stroke:black;stroke-width:5\" /><line x1=\"83.333\" y1=\"375.0\" x2=\"125.0\" y2=\"333.333\" stroke-linecap=\"round\" style=\"stroke:black;stroke-width:5\" /><line x1=\"125.0\" y1=\"375.0\" x2=\"166.667\" y2=\"333.333\" stroke-linecap=\"round\" style=\"stroke:black;stroke-width:5\" /><line x1=\"166.667\" y1=\"375.0\" x2=\"208.333\" y2=\"333.333\" stroke-linecap=\"round\" style=\"stroke:black;stroke-width:5\" /><line x1=\"208.333\" y1=\"375.0\" x2=\"250.0\" y2=\"333.333\" stroke-linecap=\"round\" style=\"stroke:black;stroke-width:5\" /><line x1=\"250.0\" y1=\"375.0\" x2=\"291.667\" y2=\"333.333\" stroke-linecap=\"round\" style=\"stroke:black;stroke-width:5\" /><line x1=\"291.667\" y1=\"375.0\" x2=\"333.333\" y2=\"333.333\" stroke-linecap=\"round\" style=\"stroke:black;stroke-width:5\" /><line x1=\"333.333\" y1=\"375.0\" x2=\"375.0\" y2=\"333.333\" stroke-linecap=\"round\" style=\"stroke:black;stroke-width:5\" /><line x1=\"375.0\" y1=\"375.0\" x2=\"416.667\" y2=\"333.333\" stroke-linecap=\"round\" style=\"stroke:black;stroke-width:5\" /><line x1=\"416.667\" y1=\"375.0\" x2=\"458.333\" y2=\"333.333\" stroke-linecap=\"round\" style=\"stroke:black;stroke-width:5\" /><line x1=\"458.333\" y1=\"375.0\" x2=\"500.0\" y2=\"333.333\" stroke-linecap=\"round\" style=\"stroke:black;stroke-width:5\" /><line x1=\"0.0\" y1=\"333.333\" x2=\"41.667\" y2=\"291.667\" stroke-linecap=\"round\" style=\"stroke:black;stroke-width:5\" /><line x1=\"41.667\" y1=\"333.333\" x2=\"83.333\" y2=\"291.667\" stroke-linecap=\"round\" style=\"stroke:black;stroke-width:5\" /><line x1=\"83.333\" y1=\"333.333\" x2=\"125.0\" y2=\"291.667\" stroke-linecap=\"round\" style=\"stroke:black;stroke-width:5\" /><line x1=\"125.0\" y1=\"333.333\" x2=\"166.667\" y2=\"291.667\" stroke-linecap=\"round\" style=\"stroke:black;stroke-width:5\" /><line x1=\"166.667\" y1=\"333.333\" x2=\"208.333\" y2=\"291.667\" stroke-linecap=\"round\" style=\"stroke:black;stroke-width:5\" /><line x1=\"208.333\" y1=\"333.333\" x2=\"250.0\" y2=\"291.667\" stroke-linecap=\"round\" style=\"stroke:black;stroke-width:5\" /><line x1=\"250.0\" y1=\"333.333\" x2=\"291.667\" y2=\"291.667\" stroke-linecap=\"round\" style=\"stroke:black;stroke-width:5\" /><line x1=\"291.667\" y1=\"333.333\" x2=\"333.333\" y2=\"291.667\" stroke-linecap=\"round\" style=\"stroke:black;stroke-width:5\" /><line x1=\"333.333\" y1=\"333.333\" x2=\"375.0\" y2=\"291.667\" stroke-linecap=\"round\" style=\"stroke:black;stroke-width:5\" /><line x1=\"375.0\" y1=\"333.333\" x2=\"416.667\" y2=\"291.667\" stroke-linecap=\"round\" style=\"stroke:black;stroke-width:5\" /><line x1=\"416.667\" y1=\"333.333\" x2=\"458.333\" y2=\"291.667\" stroke-linecap=\"round\" style=\"stroke:black;stroke-width:5\" /><line x1=\"458.333\" y1=\"333.333\" x2=\"500.0\" y2=\"291.667\" stroke-linecap=\"round\" style=\"stroke:black;stroke-width:5\" /><line x1=\"0.0\" y1=\"291.667\" x2=\"41.667\" y2=\"250.0\" stroke-linecap=\"round\" style=\"stroke:black;stroke-width:5\" /><line x1=\"41.667\" y1=\"291.667\" x2=\"83.333\" y2=\"250.0\" stroke-linecap=\"round\" style=\"stroke:black;stroke-width:5\" /><line x1=\"83.333\" y1=\"291.667\" x2=\"125.0\" y2=\"250.0\" stroke-linecap=\"round\" style=\"stroke:black;stroke-width:5\" /><line x1=\"125.0\" y1=\"291.667\" x2=\"166.667\" y2=\"250.0\" stroke-linecap=\"round\" style=\"stroke:black;stroke-width:5\" /><line x1=\"166.667\" y1=\"291.667\" x2=\"208.333\" y2=\"250.0\" stroke-linecap=\"round\" style=\"stroke:black;stroke-width:5\" /><line x1=\"208.333\" y1=\"291.667\" x2=\"250.0\" y2=\"250.0\" stroke-linecap=\"round\" style=\"stroke:black;stroke-width:5\" /><line x1=\"250.0\" y1=\"291.667\" x2=\"291.667\" y2=\"250.0\" stroke-linecap=\"round\" style=\"stroke:black;stroke-width:5\" /><line x1=\"291.667\" y1=\"291.667\" x2=\"333.333\" y2=\"250.0\" stroke-linecap=\"round\" style=\"stroke:black;stroke-width:5\" /><line x1=\"333.333\" y1=\"291.667\" x2=\"375.0\" y2=\"250.0\" stroke-linecap=\"round\" style=\"stroke:black;stroke-width:5\" /><line x1=\"375.0\" y1=\"291.667\" x2=\"416.667\" y2=\"250.0\" stroke-linecap=\"round\" style=\"stroke:black;stroke-width:5\" /><line x1=\"416.667\" y1=\"291.667\" x2=\"458.333\" y2=\"250.0\" stroke-linecap=\"round\" style=\"stroke:black;stroke-width:5\" /><line x1=\"458.333\" y1=\"291.667\" x2=\"500.0\" y2=\"250.0\" stroke-linecap=\"round\" style=\"stroke:black;stroke-width:5\" /><line x1=\"0.0\" y1=\"250.0\" x2=\"41.667\" y2=\"208.333\" stroke-linecap=\"round\" style=\"stroke:black;stroke-width:5\" /><line x1=\"41.667\" y1=\"250.0\" x2=\"83.333\" y2=\"208.333\" stroke-linecap=\"round\" style=\"stroke:black;stroke-width:5\" /><line x1=\"83.333\" y1=\"250.0\" x2=\"125.0\" y2=\"208.333\" stroke-linecap=\"round\" style=\"stroke:black;stroke-width:5\" /><line x1=\"125.0\" y1=\"250.0\" x2=\"166.667\" y2=\"208.333\" stroke-linecap=\"round\" style=\"stroke:black;stroke-width:5\" /><line x1=\"166.667\" y1=\"250.0\" x2=\"208.333\" y2=\"208.333\" stroke-linecap=\"round\" style=\"stroke:black;stroke-width:5\" /><line x1=\"208.333\" y1=\"250.0\" x2=\"250.0\" y2=\"208.333\" stroke-linecap=\"round\" style=\"stroke:black;stroke-width:5\" /><line x1=\"250.0\" y1=\"250.0\" x2=\"291.667\" y2=\"208.333\" stroke-linecap=\"round\" style=\"stroke:black;stroke-width:5\" /><line x1=\"291.667\" y1=\"250.0\" x2=\"333.333\" y2=\"208.333\" stroke-linecap=\"round\" style=\"stroke:black;stroke-width:5\" /><line x1=\"333.333\" y1=\"250.0\" x2=\"375.0\" y2=\"208.333\" stroke-linecap=\"round\" style=\"stroke:black;stroke-width:5\" /><line x1=\"375.0\" y1=\"250.0\" x2=\"416.667\" y2=\"208.333\" stroke-linecap=\"round\" style=\"stroke:black;stroke-width:5\" /><line x1=\"416.667\" y1=\"250.0\" x2=\"458.333\" y2=\"208.333\" stroke-linecap=\"round\" style=\"stroke:black;stroke-width:5\" /><line x1=\"458.333\" y1=\"250.0\" x2=\"500.0\" y2=\"208.333\" stroke-linecap=\"round\" style=\"stroke:black;stroke-width:5\" /><line x1=\"0.0\" y1=\"208.333\" x2=\"41.667\" y2=\"166.667\" stroke-linecap=\"round\" style=\"stroke:black;stroke-width:5\" /><line x1=\"41.667\" y1=\"208.333\" x2=\"83.333\" y2=\"166.667\" stroke-linecap=\"round\" style=\"stroke:black;stroke-width:5\" /><line x1=\"83.333\" y1=\"208.333\" x2=\"125.0\" y2=\"166.667\" stroke-linecap=\"round\" style=\"stroke:black;stroke-width:5\" /><line x1=\"125.0\" y1=\"208.333\" x2=\"166.667\" y2=\"166.667\" stroke-linecap=\"round\" style=\"stroke:black;stroke-width:5\" /><line x1=\"166.667\" y1=\"208.333\" x2=\"208.333\" y2=\"166.667\" stroke-linecap=\"round\" style=\"stroke:black;stroke-width:5\" /><line x1=\"208.333\" y1=\"208.333\" x2=\"250.0\" y2=\"166.667\" stroke-linecap=\"round\" style=\"stroke:black;stroke-width:5\" /><line x1=\"250.0\" y1=\"208.333\" x2=\"291.667\" y2=\"166.667\" stroke-linecap=\"round\" style=\"stroke:black;stroke-width:5\" /><line x1=\"291.667\" y1=\"208.333\" x2=\"333.333\" y2=\"166.667\" stroke-linecap=\"round\" style=\"stroke:black;stroke-width:5\" /><line x1=\"333.333\" y1=\"208.333\" x2=\"375.0\" y2=\"166.667\" stroke-linecap=\"round\" style=\"stroke:black;stroke-width:5\" /><line x1=\"375.0\" y1=\"208.333\" x2=\"416.667\" y2=\"166.667\" stroke-linecap=\"round\" style=\"stroke:black;stroke-width:5\" /><line x1=\"416.667\" y1=\"208.333\" x2=\"458.333\" y2=\"166.667\" stroke-linecap=\"round\" style=\"stroke:black;stroke-width:5\" /><line x1=\"458.333\" y1=\"208.333\" x2=\"500.0\" y2=\"166.667\" stroke-linecap=\"round\" style=\"stroke:black;stroke-width:5\" /><line x1=\"0.0\" y1=\"166.667\" x2=\"41.667\" y2=\"125.0\" stroke-linecap=\"round\" style=\"stroke:black;stroke-width:5\" /><line x1=\"41.667\" y1=\"166.667\" x2=\"83.333\" y2=\"125.0\" stroke-linecap=\"round\" style=\"stroke:black;stroke-width:5\" /><line x1=\"83.333\" y1=\"166.667\" x2=\"125.0\" y2=\"125.0\" stroke-linecap=\"round\" style=\"stroke:black;stroke-width:5\" /><line x1=\"125.0\" y1=\"166.667\" x2=\"166.667\" y2=\"125.0\" stroke-linecap=\"round\" style=\"stroke:black;stroke-width:5\" /><line x1=\"166.667\" y1=\"166.667\" x2=\"208.333\" y2=\"125.0\" stroke-linecap=\"round\" style=\"stroke:black;stroke-width:5\" /><line x1=\"208.333\" y1=\"166.667\" x2=\"250.0\" y2=\"125.0\" stroke-linecap=\"round\" style=\"stroke:black;stroke-width:5\" /><line x1=\"250.0\" y1=\"166.667\" x2=\"291.667\" y2=\"125.0\" stroke-linecap=\"round\" style=\"stroke:black;stroke-width:5\" /><line x1=\"291.667\" y1=\"166.667\" x2=\"333.333\" y2=\"125.0\" stroke-linecap=\"round\" style=\"stroke:black;stroke-width:5\" /><line x1=\"333.333\" y1=\"166.667\" x2=\"375.0\" y2=\"125.0\" stroke-linecap=\"round\" style=\"stroke:black;stroke-width:5\" /><line x1=\"375.0\" y1=\"166.667\" x2=\"416.667\" y2=\"125.0\" stroke-linecap=\"round\" style=\"stroke:black;stroke-width:5\" /><line x1=\"416.667\" y1=\"166.667\" x2=\"458.333\" y2=\"125.0\" stroke-linecap=\"round\" style=\"stroke:black;stroke-width:5\" /><line x1=\"458.333\" y1=\"166.667\" x2=\"500.0\" y2=\"125.0\" stroke-linecap=\"round\" style=\"stroke:black;stroke-width:5\" /><line x1=\"0.0\" y1=\"125.0\" x2=\"41.667\" y2=\"83.333\" stroke-linecap=\"round\" style=\"stroke:black;stroke-width:5\" /><line x1=\"41.667\" y1=\"125.0\" x2=\"83.333\" y2=\"83.333\" stroke-linecap=\"round\" style=\"stroke:black;stroke-width:5\" /><line x1=\"83.333\" y1=\"125.0\" x2=\"125.0\" y2=\"83.333\" stroke-linecap=\"round\" style=\"stroke:black;stroke-width:5\" /><line x1=\"125.0\" y1=\"125.0\" x2=\"166.667\" y2=\"83.333\" stroke-linecap=\"round\" style=\"stroke:black;stroke-width:5\" /><line x1=\"166.667\" y1=\"125.0\" x2=\"208.333\" y2=\"83.333\" stroke-linecap=\"round\" style=\"stroke:black;stroke-width:5\" /><line x1=\"208.333\" y1=\"125.0\" x2=\"250.0\" y2=\"83.333\" stroke-linecap=\"round\" style=\"stroke:black;stroke-width:5\" /><line x1=\"250.0\" y1=\"125.0\" x2=\"291.667\" y2=\"83.333\" stroke-linecap=\"round\" style=\"stroke:black;stroke-width:5\" /><line x1=\"291.667\" y1=\"125.0\" x2=\"333.333\" y2=\"83.333\" stroke-linecap=\"round\" style=\"stroke:black;stroke-width:5\" /><line x1=\"333.333\" y1=\"125.0\" x2=\"375.0\" y2=\"83.333\" stroke-linecap=\"round\" style=\"stroke:black;stroke-width:5\" /><line x1=\"375.0\" y1=\"125.0\" x2=\"416.667\" y2=\"83.333\" stroke-linecap=\"round\" style=\"stroke:black;stroke-width:5\" /><line x1=\"416.667\" y1=\"125.0\" x2=\"458.333\" y2=\"83.333\" stroke-linecap=\"round\" style=\"stroke:black;stroke-width:5\" /><line x1=\"458.333\" y1=\"125.0\" x2=\"500.0\" y2=\"83.333\" stroke-linecap=\"round\" style=\"stroke:black;stroke-width:5\" /><line x1=\"0.0\" y1=\"83.333\" x2=\"41.667\" y2=\"41.667\" stroke-linecap=\"round\" style=\"stroke:black;stroke-width:5\" /><line x1=\"41.667\" y1=\"83.333\" x2=\"83.333\" y2=\"41.667\" stroke-linecap=\"round\" style=\"stroke:black;stroke-width:5\" /><line x1=\"83.333\" y1=\"83.333\" x2=\"125.0\" y2=\"41.667\" stroke-linecap=\"round\" style=\"stroke:black;stroke-width:5\" /><line x1=\"125.0\" y1=\"83.333\" x2=\"166.667\" y2=\"41.667\" stroke-linecap=\"round\" style=\"stroke:black;stroke-width:5\" /><line x1=\"166.667\" y1=\"83.333\" x2=\"208.333\" y2=\"41.667\" stroke-linecap=\"round\" style=\"stroke:black;stroke-width:5\" /><line x1=\"208.333\" y1=\"83.333\" x2=\"250.0\" y2=\"41.667\" stroke-linecap=\"round\" style=\"stroke:black;stroke-width:5\" /><line x1=\"250.0\" y1=\"83.333\" x2=\"291.667\" y2=\"41.667\" stroke-linecap=\"round\" style=\"stroke:black;stroke-width:5\" /><line x1=\"291.667\" y1=\"83.333\" x2=\"333.333\" y2=\"41.667\" stroke-linecap=\"round\" style=\"stroke:black;stroke-width:5\" /><line x1=\"333.333\" y1=\"83.333\" x2=\"375.0\" y2=\"41.667\" stroke-linecap=\"round\" style=\"stroke:black;stroke-width:5\" /><line x1=\"375.0\" y1=\"83.333\" x2=\"416.667\" y2=\"41.667\" stroke-linecap=\"round\" style=\"stroke:black;stroke-width:5\" /><line x1=\"416.667\" y1=\"83.333\" x2=\"458.333\" y2=\"41.667\" stroke-linecap=\"round\" style=\"stroke:black;stroke-width:5\" /><line x1=\"458.333\" y1=\"83.333\" x2=\"500.0\" y2=\"41.667\" stroke-linecap=\"round\" style=\"stroke:black;stroke-width:5\" /><line x1=\"0.0\" y1=\"41.667\" x2=\"41.667\" y2=\"0.0\" stroke-linecap=\"round\" style=\"stroke:black;stroke-width:5\" /><line x1=\"41.667\" y1=\"41.667\" x2=\"83.333\" y2=\"0.0\" stroke-linecap=\"round\" style=\"stroke:black;stroke-width:5\" /><line x1=\"83.333\" y1=\"41.667\" x2=\"125.0\" y2=\"0.0\" stroke-linecap=\"round\" style=\"stroke:black;stroke-width:5\" /><line x1=\"125.0\" y1=\"41.667\" x2=\"166.667\" y2=\"0.0\" stroke-linecap=\"round\" style=\"stroke:black;stroke-width:5\" /><line x1=\"166.667\" y1=\"41.667\" x2=\"208.333\" y2=\"0.0\" stroke-linecap=\"round\" style=\"stroke:black;stroke-width:5\" /><line x1=\"208.333\" y1=\"41.667\" x2=\"250.0\" y2=\"0.0\" stroke-linecap=\"round\" style=\"stroke:black;stroke-width:5\" /><line x1=\"250.0\" y1=\"41.667\" x2=\"291.667\" y2=\"0.0\" stroke-linecap=\"round\" style=\"stroke:black;stroke-width:5\" /><line x1=\"291.667\" y1=\"41.667\" x2=\"333.333\" y2=\"0.0\" stroke-linecap=\"round\" style=\"stroke:black;stroke-width:5\" /><line x1=\"333.333\" y1=\"41.667\" x2=\"375.0\" y2=\"0.0\" stroke-linecap=\"round\" style=\"stroke:black;stroke-width:5\" /><line x1=\"375.0\" y1=\"41.667\" x2=\"416.667\" y2=\"0.0\" stroke-linecap=\"round\" style=\"stroke:black;stroke-width:5\" /><line x1=\"416.667\" y1=\"41.667\" x2=\"458.333\" y2=\"0.0\" stroke-linecap=\"round\" style=\"stroke:black;stroke-width:5\" /><line x1=\"458.333\" y1=\"41.667\" x2=\"500.0\" y2=\"0.0\" stroke-linecap=\"round\" style=\"stroke:black;stroke-width:5\" />\n",
              "        \n",
              "        \n",
              "        <g id=\"classic\" visibility=\"visible\" transform=\"rotate(-90.0,500.0,0.0) translate(500.0, 0.0)\">\n",
              "<polygon points=\"-5,-4.5 0,-2.5 5,-4.5 0,4.5\" transform=\"skewX(0) scale(1,1)\" style=\"stroke:black;fill:black;stroke-width:1\" />\n",
              "</g>\n",
              "      </svg>\n",
              "    "
            ]
          },
          "metadata": {}
        }
      ]
    },
    {
      "cell_type": "code",
      "source": [
        "import random\n",
        "def draw_line_3(row, col):\n",
        "    lower_left = (\n",
        "        (col * CANVAS_SIZE / DENSITY) - CANVAS_SIZE / 2,\n",
        "        (row * CANVAS_SIZE / DENSITY) - CANVAS_SIZE / 2\n",
        "    )\n",
        "    upper_right = (\n",
        "        ((col + 1) * CANVAS_SIZE / DENSITY) - CANVAS_SIZE / 2,\n",
        "        ((row + 1) * CANVAS_SIZE / DENSITY) - CANVAS_SIZE / 2\n",
        "    )\n",
        "    lower_right = (\n",
        "        ((col + 1) * CANVAS_SIZE / DENSITY) - CANVAS_SIZE / 2,\n",
        "        (row * CANVAS_SIZE / DENSITY) - CANVAS_SIZE / 2\n",
        "    )\n",
        "    upper_left = (\n",
        "        (col * CANVAS_SIZE / DENSITY) - CANVAS_SIZE / 2,\n",
        "        ((row + 1) * CANVAS_SIZE / DENSITY) - CANVAS_SIZE / 2\n",
        "    )\n",
        "\n",
        "    return lower_left, upper_right, lower_right, upper_left"
      ],
      "metadata": {
        "id": "StQJioBpIoNz"
      },
      "execution_count": null,
      "outputs": []
    }
  ]
}