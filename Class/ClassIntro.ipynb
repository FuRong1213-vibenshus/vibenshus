{
  "nbformat": 4,
  "nbformat_minor": 0,
  "metadata": {
    "colab": {
      "provenance": [],
      "collapsed_sections": [],
      "authorship_tag": "ABX9TyNWRFiZawqXUoECjjAFh3ew",
      "include_colab_link": true
    },
    "kernelspec": {
      "name": "python3",
      "display_name": "Python 3"
    },
    "language_info": {
      "name": "python"
    }
  },
  "cells": [
    {
      "cell_type": "markdown",
      "metadata": {
        "id": "view-in-github",
        "colab_type": "text"
      },
      "source": [
        "<a href=\"https://colab.research.google.com/github/FuRong1213-vibenshus/vibenshus/blob/master/ClassIntro.ipynb\" target=\"_parent\"><img src=\"https://colab.research.google.com/assets/colab-badge.svg\" alt=\"Open In Colab\"/></a>"
      ]
    },
    {
      "cell_type": "markdown",
      "source": [
        "#Creating class#\n",
        "\n",
        "\n",
        "> Class names should normally use the CapWords convention.\n",
        "\n",
        "> **\\_\\_init\\_\\_()**: The self parameter is required in the method definition, and it \n",
        "must come first before the other parameters. It must be included in the definition because when Python calls this \\_\\_init__(), the method call will automatically pass the self argument. \n",
        "Every method call associated with a class automatically passes self, which \n",
        "is a reference to the instance itself; it gives the individual instance access to the attributes and methods in the class.\n",
        "\n",
        "> **Prefix self**: Any variable \n",
        "prefixed with self is available to every method in the class, and we’ll also be \n",
        "able to access these variables through any instance created from the class.\n",
        "\n",
        "> Always use **self** for the first argument to instance methods.\n"
      ],
      "metadata": {
        "id": "q-RM4IED9VZ0"
      }
    },
    {
      "cell_type": "code",
      "execution_count": 2,
      "metadata": {
        "id": "aofQtH109Ljw"
      },
      "outputs": [],
      "source": [
        "class Dog():\n",
        "  \"\"\" A simple attempt to model a dog.\"\"\"\n",
        "  def __init__(self, name, age):\n",
        "    \"\"\" Initialize name and age attributes.\"\"\"\n",
        "    self.name = name\n",
        "    self.age = age\n",
        "  \n",
        "  def sit(self):\n",
        "    \"\"\"Simulate a dog sitting in response to a command.\"\"\"\n",
        "    print(self.name.title() + \" is now sitting.\")\n",
        "  def roll_over(self):\n",
        "    \"\"\"Simulate rolling over in response to a command.\"\"\"\n",
        "    print(self.name.title() + \" rolled over!\")"
      ]
    },
    {
      "cell_type": "markdown",
      "source": [
        ">Function names should be lowercase, with words separated by underscores as necessary to improve readability.\n",
        "\n",
        ">Variable names follow the same convention as function names."
      ],
      "metadata": {
        "id": "RqVWdiPwDFvp"
      }
    },
    {
      "cell_type": "markdown",
      "source": [
        "##Accessing Attributes##"
      ],
      "metadata": {
        "id": "3NN7zep7Dfvp"
      }
    },
    {
      "cell_type": "code",
      "source": [
        "my_dog = Dog('whille', 6)"
      ],
      "metadata": {
        "id": "9MWSPi5WCNvY"
      },
      "execution_count": 3,
      "outputs": []
    },
    {
      "cell_type": "code",
      "source": [
        "print(\"My dog's name is\", my_dog.name.title(), '.')"
      ],
      "metadata": {
        "colab": {
          "base_uri": "https://localhost:8080/"
        },
        "id": "9AiKX5NrCQ37",
        "outputId": "a4da1af6-7f29-49e7-8a97-cb48bd4821ad"
      },
      "execution_count": 6,
      "outputs": [
        {
          "output_type": "stream",
          "name": "stdout",
          "text": [
            "My dog's name is Whille .\n"
          ]
        }
      ]
    },
    {
      "cell_type": "code",
      "source": [
        "print(\"My dog is \" + str(my_dog.age) + \" years old.\" )"
      ],
      "metadata": {
        "colab": {
          "base_uri": "https://localhost:8080/"
        },
        "id": "XzqA2r6rCYzs",
        "outputId": "a6da3641-320f-4ed4-aeaf-acb3664f9cf1"
      },
      "execution_count": 7,
      "outputs": [
        {
          "output_type": "stream",
          "name": "stdout",
          "text": [
            "My dog is 6years old.\n"
          ]
        }
      ]
    },
    {
      "cell_type": "markdown",
      "source": [
        "##Calling Methods##"
      ],
      "metadata": {
        "id": "PqcIpcnvDosX"
      }
    },
    {
      "cell_type": "code",
      "source": [
        "my_dog.sit()"
      ],
      "metadata": {
        "colab": {
          "base_uri": "https://localhost:8080/"
        },
        "id": "l0VDWIAbCt94",
        "outputId": "ffe72092-c4af-42a1-e0bc-e950ad09fabf"
      },
      "execution_count": 8,
      "outputs": [
        {
          "output_type": "stream",
          "name": "stdout",
          "text": [
            "Whilleis now sitting.\n"
          ]
        }
      ]
    },
    {
      "cell_type": "code",
      "source": [
        "my_dog.roll_over()"
      ],
      "metadata": {
        "colab": {
          "base_uri": "https://localhost:8080/"
        },
        "id": "p0JE-fQEDska",
        "outputId": "b28d03c0-32da-403b-f613-31128821a9b5"
      },
      "execution_count": 10,
      "outputs": [
        {
          "output_type": "stream",
          "name": "stdout",
          "text": [
            "Whillerolled over!\n"
          ]
        }
      ]
    },
    {
      "cell_type": "markdown",
      "source": [
        "#Creating Multiple Instances#"
      ],
      "metadata": {
        "id": "uDaA5-2ND324"
      }
    },
    {
      "cell_type": "code",
      "source": [
        "your_dog = Dog('lucy', 3)"
      ],
      "metadata": {
        "id": "G58qGP0nDuUB"
      },
      "execution_count": 11,
      "outputs": []
    },
    {
      "cell_type": "markdown",
      "source": [
        "**Try it yourself**\n",
        "9-1, 9-2, 9-3"
      ],
      "metadata": {
        "id": "HxBTkdywECcY"
      }
    },
    {
      "cell_type": "markdown",
      "source": [
        "> Modifying an Attribute’s Value Directly\n",
        "\n",
        "> Modifying an Attribute’s Value Through a Method"
      ],
      "metadata": {
        "id": "mcE03poDE5wZ"
      }
    },
    {
      "cell_type": "code",
      "source": [
        "\"\"\"A class that can be used to represent a car.\"\"\"\n",
        "\n",
        "class Car():\n",
        "    \"\"\"A simple attempt to represent a car.\"\"\"\n",
        "\n",
        "    def __init__(self, manufacturer, model, year):\n",
        "        \"\"\"Initialize attributes to describe a car.\"\"\"\n",
        "        self.manufacturer = manufacturer\n",
        "        self.model = model\n",
        "        self.year = year\n",
        "        self.odometer_reading = 0\n",
        "        \n",
        "    def get_descriptive_name(self):\n",
        "        \"\"\"Return a neatly formatted descriptive name.\"\"\"\n",
        "        long_name = str(self.year) + ' ' + self.manufacturer + ' ' + self.model\n",
        "        return long_name.title()\n",
        "    \n",
        "    def read_odometer(self):\n",
        "        \"\"\"Print a statement showing the car's mileage.\"\"\"\n",
        "        print(\"This car has \" + str(self.odometer_reading) + \" miles on it.\")\n",
        "        \n",
        "    def update_odometer(self, mileage):\n",
        "        \"\"\"\n",
        "        Set the odometer reading to the given value.\n",
        "        Reject the change if it attempts to roll the odometer back.\n",
        "        \"\"\"\n",
        "        if mileage >= self.odometer_reading:\n",
        "            self.odometer_reading = mileage\n",
        "        else:\n",
        "            print(\"You can't roll back an odometer!\")\n",
        "    \n",
        "    def increment_odometer(self, miles):\n",
        "        \"\"\"Add the given amount to the odometer reading.\"\"\"\n",
        "        self.odometer_reading += miles\n",
        "\n"
      ],
      "metadata": {
        "id": "SncAgHwVD963"
      },
      "execution_count": 12,
      "outputs": []
    },
    {
      "cell_type": "markdown",
      "source": [
        "**Try it yourself**\n",
        "9-4"
      ],
      "metadata": {
        "id": "MQKz5PzbH4Ip"
      }
    },
    {
      "cell_type": "markdown",
      "source": [
        "##Inheritance##"
      ],
      "metadata": {
        "id": "Kpy3555sIHrJ"
      }
    },
    {
      "cell_type": "code",
      "source": [
        "\"\"\"A set of classes that can be used to represent electric cars.\"\"\"\n",
        "class Battery():\n",
        "    \"\"\"A simple attempt to model a battery for an electric car.\"\"\"\n",
        "\n",
        "    def __init__(self, battery_size=60):\n",
        "        \"\"\"Initialize the batteery's attributes.\"\"\"\n",
        "        self.battery_size = battery_size\n",
        "\n",
        "    def describe_battery(self):\n",
        "        \"\"\"Print a statement describing the battery size.\"\"\"\n",
        "        print(\"This car has a \" + str(self.battery_size) + \"-kWh battery.\")  \n",
        "        \n",
        "    def get_range(self):\n",
        "        \"\"\"Print a statement about the range this battery provides.\"\"\"\n",
        "        if self.battery_size == 60:\n",
        "            range = 140\n",
        "        elif self.battery_size == 85:\n",
        "            range = 185\n",
        "            \n",
        "        message = \"This car can go approximately \" + str(range)\n",
        "        message += \" miles on a full charge.\"\n",
        "        print(message)\n",
        "    \n",
        "        \n",
        "class ElectricCar(Car):\n",
        "    \"\"\"Models aspects of a car, specific to electric vehicles.\"\"\"\n",
        "\n",
        "    def __init__(self, manufacturer, model, year):\n",
        "        \"\"\"\n",
        "        Initialize attributes of the parent class.\n",
        "        Then initialize attributes specific to an electric car.\n",
        "        \"\"\"\n",
        "        super().__init__(manufacturer, model, year)\n",
        "        self.battery_size=70\n",
        "        self.battery = Battery()\n",
        "    def describe_battery(self):\n",
        "      \"\"\"Print a statement describing the battery size.\"\"\"\n",
        "      print(\"This car has a \" + str(self.battery_size) + \"-kwh battery.\")"
      ],
      "metadata": {
        "id": "gY5_ISwoIDNR"
      },
      "execution_count": 28,
      "outputs": []
    },
    {
      "cell_type": "markdown",
      "source": [
        ">  When you create a child class, the parent class must be part of the current file and must appear before the child class in \n",
        "the file.\n",
        "\n",
        "> The name of the **parent \n",
        "class** must be included in parentheses in the definition of the child class. \n",
        "\n",
        "> The **super() function** is a special function that helps Python make \n",
        "connections between the parent and child class. \n",
        "\n",
        "> The name super\n",
        "comes from a convention of calling the parent class a **superclass** and the \n",
        "child class a **subclass**.\n",
        "\n",
        "> **Overriding** Methods from the Parent Class"
      ],
      "metadata": {
        "id": "E7HZ1ju2I96p"
      }
    },
    {
      "cell_type": "code",
      "source": [
        "my_tesla=ElectricCar('tesla', 'model s', 2016 )"
      ],
      "metadata": {
        "id": "YjzIbEzWIij3"
      },
      "execution_count": 30,
      "outputs": []
    },
    {
      "cell_type": "code",
      "source": [
        "print(my_tesla.get_descriptive_name())"
      ],
      "metadata": {
        "colab": {
          "base_uri": "https://localhost:8080/"
        },
        "id": "LrrJcjRPeFlN",
        "outputId": "38786c2d-438b-499d-b507-a38886331e05"
      },
      "execution_count": 31,
      "outputs": [
        {
          "output_type": "stream",
          "name": "stdout",
          "text": [
            "2016 Tesla Model S\n"
          ]
        }
      ]
    },
    {
      "cell_type": "code",
      "source": [
        "my_tesla.describe_battery()"
      ],
      "metadata": {
        "colab": {
          "base_uri": "https://localhost:8080/"
        },
        "id": "4JGyjkKNeKHL",
        "outputId": "11a96d96-3088-4767-f6df-436b7d3495be"
      },
      "execution_count": 32,
      "outputs": [
        {
          "output_type": "stream",
          "name": "stdout",
          "text": [
            "This car has a 70-kwh battery.\n"
          ]
        }
      ]
    },
    {
      "cell_type": "code",
      "source": [
        "my_tesla.battery.describe_battery()"
      ],
      "metadata": {
        "colab": {
          "base_uri": "https://localhost:8080/"
        },
        "id": "WAXyLzYAeOsZ",
        "outputId": "d8932a8b-ea3f-46c2-fe0f-e7993d1ecec6"
      },
      "execution_count": 33,
      "outputs": [
        {
          "output_type": "stream",
          "name": "stdout",
          "text": [
            "This car has a 60-kWh battery.\n"
          ]
        }
      ]
    },
    {
      "cell_type": "markdown",
      "source": [
        "This brings you to an interesting point in your growth as a programmer. When you wrestle with questions like these, you’re thinking at a higher \n",
        "logical level rather than a syntax-focused level. You’re thinking not about \n",
        "Python, but about how to represent the real world in code. When you reach \n",
        "this point, you’ll realize there are often no right or wrong approaches to \n",
        "modeling real-world situations. Some approaches are more efficient than \n",
        "others, but it takes practice to find the most efficient representations.\n",
        "\n",
        "**Try it yourself** 9-6, 9-7"
      ],
      "metadata": {
        "id": "-vxqoUF1gUYa"
      }
    },
    {
      "cell_type": "code",
      "source": [],
      "metadata": {
        "id": "DTO-EH7CfO9Q"
      },
      "execution_count": null,
      "outputs": []
    }
  ]
}
