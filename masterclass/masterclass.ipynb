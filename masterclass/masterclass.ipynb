{
  "cells": [
    {
      "cell_type": "markdown",
      "metadata": {
        "colab_type": "text",
        "id": "view-in-github"
      },
      "source": [
        "<a href=\"https://colab.research.google.com/github/FuRong1213-vibenshus/vibenshus/blob/master/masterclass.ipynb\" target=\"_parent\"><img src=\"https://colab.research.google.com/assets/colab-badge.svg\" alt=\"Open In Colab\"/></a>"
      ]
    },
    {
      "cell_type": "code",
      "execution_count": 2,
      "metadata": {
        "colab": {
          "base_uri": "https://localhost:8080/"
        },
        "id": "6_F7orGcbIt3",
        "outputId": "a0356547-354a-4d46-f1c4-67d726a555ee"
      },
      "outputs": [
        {
          "name": "stdout",
          "output_type": "stream",
          "text": [
            "Collecting ColabTurtlePlus==1.5\n",
            "  Downloading ColabTurtlePlus-1.5-py3-none-any.whl (28 kB)\n",
            "Installing collected packages: ColabTurtlePlus\n",
            "Successfully installed ColabTurtlePlus-1.5\n"
          ]
        },
        {
          "name": "stderr",
          "output_type": "stream",
          "text": [
            "\n",
            "[notice] A new release of pip available: 22.2.2 -> 23.0.1\n",
            "[notice] To update, run: python.exe -m pip install --upgrade pip\n"
          ]
        }
      ],
      "source": [
        "!pip install ColabTurtlePlus==1.5"
      ]
    },
    {
      "cell_type": "code",
      "execution_count": 4,
      "metadata": {
        "colab": {
          "base_uri": "https://localhost:8080/",
          "height": 421
        },
        "id": "t86BRWfqbJbh",
        "outputId": "ebf5f956-32bb-46cd-ebc8-8376f5d59b98"
      },
      "outputs": [
        {
          "data": {
            "text/html": [
              "\n",
              "      <svg width=\"400\" height=\"400\">  \n",
              "        <rect width=\"100%\" height=\"100%\" style=\"fill:white;stroke:;stroke-width:1\"/>\n",
              "        \n",
              "        \n",
              "        \n",
              "        \n",
              "        <g id=\"classic\" visibility=\"visible\" transform=\"rotate(-90,200.0,200.0) translate(200.0, 200.0)\">\n",
              "<polygon points=\"-5,-4.5 0,-2.5 5,-4.5 0,4.5\" transform=\"skewX(0) scale(1,1)\" style=\"stroke:black;fill:black;stroke-width:1\" />\n",
              "</g>\n",
              "      </svg>\n",
              "    "
            ],
            "text/plain": [
              "<IPython.core.display.HTML object>"
            ]
          },
          "metadata": {},
          "output_type": "display_data"
        },
        {
          "ename": "AttributeError",
          "evalue": "module 'ColabTurtlePlus.Turtle' has no attribute 'bgpic'",
          "output_type": "error",
          "traceback": [
            "\u001b[1;31m---------------------------------------------------------------------------\u001b[0m",
            "\u001b[1;31mAttributeError\u001b[0m                            Traceback (most recent call last)",
            "Cell \u001b[1;32mIn[4], line 8\u001b[0m\n\u001b[0;32m      6\u001b[0m CANVAS_SIZE \u001b[39m=\u001b[39m \u001b[39m400\u001b[39m\n\u001b[0;32m      7\u001b[0m turtle\u001b[39m.\u001b[39minitializeTurtle(window\u001b[39m=\u001b[39m(CANVAS_SIZE, CANVAS_SIZE), speed\u001b[39m=\u001b[39m\u001b[39m4\u001b[39m)\n\u001b[1;32m----> 8\u001b[0m turtle\u001b[39m.\u001b[39;49mbgpic(\u001b[39m\"\u001b[39m\u001b[39mmars-path-1.png\u001b[39m\u001b[39m\"\u001b[39m)\n\u001b[0;32m     10\u001b[0m \u001b[39m# Initialise the rover...\u001b[39;00m\n\u001b[0;32m     11\u001b[0m rover \u001b[39m=\u001b[39m turtle\n",
            "\u001b[1;31mAttributeError\u001b[0m: module 'ColabTurtlePlus.Turtle' has no attribute 'bgpic'"
          ]
        }
      ],
      "source": [
        "\n",
        "#Mars Perseverance Rover - Challenge #1 - www.101computing.net/mars-perseverance-rover/\n",
        "import ColabTurtlePlus.Turtle as turtle\n",
        "#screen = turtle.Screen()\n",
        "\n",
        "# this assures that the size of the screen will always be 400x400 ...\n",
        "CANVAS_SIZE = 400\n",
        "turtle.initializeTurtle(window=(CANVAS_SIZE, CANVAS_SIZE), speed=4)\n",
        "turtle.bgpic(\"mars-path-1.png\")\n",
        "\n",
        "# Initialise the rover...\n",
        "rover = turtle\n",
        "#screen.addshape(\"rover.png\")\n",
        "#rover.shape(\"rover.png\")\n",
        "rover.speed(100)\n",
        "\n",
        "rover.color(\"#810000\")\n",
        "rover.pensize(4)\n",
        "rover.penup()\n",
        "rover.goto(-165,-165)\n",
        "rover.pendown()\n",
        "\n",
        "#Implement Rover Path...\n",
        "rover.forward(330)\n",
        "rover.left(90)\n",
        "rover.forward(330)\n",
        "rover.left(90)\n",
        "rover.forward(330)\n",
        "rover.left(90)\n",
        "rover.forward(330)\n",
        "\n",
        "\n",
        "\n",
        "\n"
      ]
    },
    {
      "cell_type": "code",
      "execution_count": null,
      "metadata": {
        "id": "phl3dfmucN2o"
      },
      "outputs": [],
      "source": []
    }
  ],
  "metadata": {
    "colab": {
      "authorship_tag": "ABX9TyPw70/mkWkMissFBP3BPy0n",
      "include_colab_link": true,
      "provenance": []
    },
    "kernelspec": {
      "display_name": "Python 3",
      "name": "python3"
    },
    "language_info": {
      "codemirror_mode": {
        "name": "ipython",
        "version": 3
      },
      "file_extension": ".py",
      "mimetype": "text/x-python",
      "name": "python",
      "nbconvert_exporter": "python",
      "pygments_lexer": "ipython3",
      "version": "3.10.10"
    }
  },
  "nbformat": 4,
  "nbformat_minor": 0
}
