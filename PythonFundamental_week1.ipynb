{
  "cells": [
    {
      "cell_type": "markdown",
      "metadata": {
        "id": "view-in-github",
        "colab_type": "text"
      },
      "source": [
        "<a href=\"https://colab.research.google.com/github/FuRong1213-vibenshus/vibenshus/blob/master/PythonFundamental_week1.ipynb\" target=\"_parent\"><img src=\"https://colab.research.google.com/assets/colab-badge.svg\" alt=\"Open In Colab\"/></a>"
      ]
    },
    {
      "cell_type": "markdown",
      "metadata": {
        "id": "4hGQgMOPNaJy"
      },
      "source": [
        "---\n",
        "\n",
        "_You are currently looking at **version 1.1** of this notebook. To download notebooks and datafiles, as well as get help on Jupyter notebooks in the Coursera platform, visit the [Jupyter Notebook FAQ](https://www.coursera.org/learn/python-data-analysis/resources/0dhYG) course resource._\n",
        "\n",
        "---"
      ]
    },
    {
      "cell_type": "markdown",
      "metadata": {
        "id": "HxYAX8upNaJ3"
      },
      "source": [
        "# The Python Programming Language: Functions"
      ]
    },
    {
      "cell_type": "markdown",
      "metadata": {
        "id": "RJoJRRcnNaJ4"
      },
      "source": [
        "<br>\n",
        "`add_numbers` is a function that takes two numbers and adds them together."
      ]
    },
    {
      "cell_type": "code",
      "execution_count": null,
      "metadata": {
        "collapsed": true,
        "id": "dVuw0s2HNaJ5"
      },
      "outputs": [],
      "source": [
        "def add_numbers(x, y):\n",
        "    return x + y\n",
        "\n",
        "add_numbers(1, 2)"
      ]
    },
    {
      "cell_type": "markdown",
      "metadata": {
        "id": "7hmSo1QiNaJ6"
      },
      "source": [
        "<br>\n",
        "`add_numbers` updated to take an optional 3rd parameter. Using `print` allows printing of multiple expressions within a single cell."
      ]
    },
    {
      "cell_type": "code",
      "execution_count": null,
      "metadata": {
        "collapsed": true,
        "id": "12SF2v-ONaJ6"
      },
      "outputs": [],
      "source": [
        "def add_numbers(x,y,z=None):\n",
        "    if (z==None):\n",
        "        return x+y\n",
        "    else:\n",
        "        return x+y+z\n",
        "\n",
        "print(add_numbers(1, 2))\n",
        "print(add_numbers(1, 2, 3))"
      ]
    },
    {
      "cell_type": "markdown",
      "metadata": {
        "id": "78wtzfwxNaJ7"
      },
      "source": [
        "<br>\n",
        "`add_numbers` updated to take an optional flag parameter."
      ]
    },
    {
      "cell_type": "code",
      "execution_count": null,
      "metadata": {
        "id": "XcAjo3xBNaJ8",
        "outputId": "949b0118-f526-461d-e2e6-1b1478c438a8"
      },
      "outputs": [
        {
          "name": "stdout",
          "output_type": "stream",
          "text": [
            "Flag is true!\n",
            "3\n"
          ]
        }
      ],
      "source": [
        "def add_numbers(x, y, z=None, flag=False):\n",
        "    if (flag):\n",
        "        print('Flag is true!')\n",
        "    if (z==None):\n",
        "        return x + y\n",
        "    else:\n",
        "        return x + y + z\n",
        "    \n",
        "print(add_numbers(1, 2, flag=True))"
      ]
    },
    {
      "cell_type": "markdown",
      "metadata": {
        "id": "awiu9jfwNaJ9"
      },
      "source": [
        "<br>\n",
        "Assign function `add_numbers` to variable `a`."
      ]
    },
    {
      "cell_type": "code",
      "execution_count": null,
      "metadata": {
        "collapsed": true,
        "id": "Y9OiTCF_NaJ-"
      },
      "outputs": [],
      "source": [
        "def add_numbers(x,y):\n",
        "    return x+y\n",
        "\n",
        "a = add_numbers\n",
        "a(1,2)"
      ]
    },
    {
      "cell_type": "markdown",
      "metadata": {
        "id": "s-XH1mKSNaJ-"
      },
      "source": [
        "<br>\n",
        "# The Python Programming Language: Types and Sequences"
      ]
    },
    {
      "cell_type": "markdown",
      "metadata": {
        "id": "trUQSNxzNaJ_"
      },
      "source": [
        "<br>\n",
        "Use `type` to return the object's type."
      ]
    },
    {
      "cell_type": "code",
      "execution_count": null,
      "metadata": {
        "id": "JklH60XlNaJ_",
        "outputId": "cb99d031-0f44-405b-fa55-7d01bb094681"
      },
      "outputs": [
        {
          "data": {
            "text/plain": [
              "str"
            ]
          },
          "execution_count": 1,
          "metadata": {},
          "output_type": "execute_result"
        }
      ],
      "source": [
        "type('This is a string')"
      ]
    },
    {
      "cell_type": "code",
      "execution_count": null,
      "metadata": {
        "id": "YVK1sKkfNaJ_",
        "outputId": "cb8b776e-4087-4202-c0e7-cf712dec0fbf"
      },
      "outputs": [
        {
          "data": {
            "text/plain": [
              "NoneType"
            ]
          },
          "execution_count": 2,
          "metadata": {},
          "output_type": "execute_result"
        }
      ],
      "source": [
        "type(None)"
      ]
    },
    {
      "cell_type": "code",
      "execution_count": null,
      "metadata": {
        "id": "bWMtSuH1NaKA",
        "outputId": "214a1afb-f1be-440d-aa4c-56ce879d71cc"
      },
      "outputs": [
        {
          "data": {
            "text/plain": [
              "int"
            ]
          },
          "execution_count": 3,
          "metadata": {},
          "output_type": "execute_result"
        }
      ],
      "source": [
        "type(1)"
      ]
    },
    {
      "cell_type": "code",
      "execution_count": null,
      "metadata": {
        "id": "EhdpkTcnNaKA",
        "outputId": "4bd7241c-0b9b-402e-f8a4-21f04aaa9ac6"
      },
      "outputs": [
        {
          "data": {
            "text/plain": [
              "float"
            ]
          },
          "execution_count": 4,
          "metadata": {},
          "output_type": "execute_result"
        }
      ],
      "source": [
        "type(1.0)"
      ]
    },
    {
      "cell_type": "code",
      "execution_count": null,
      "metadata": {
        "id": "6mAXt0vmNaKB",
        "outputId": "f596660b-9209-4717-e103-641410e8cc0b"
      },
      "outputs": [
        {
          "data": {
            "text/plain": [
              "function"
            ]
          },
          "execution_count": 7,
          "metadata": {},
          "output_type": "execute_result"
        }
      ],
      "source": [
        "type(add_numbers)"
      ]
    },
    {
      "cell_type": "markdown",
      "metadata": {
        "id": "MRcKb1QbNaKB"
      },
      "source": [
        "<br>\n",
        "Tuples are an immutable data structure (cannot be altered)."
      ]
    },
    {
      "cell_type": "code",
      "execution_count": null,
      "metadata": {
        "collapsed": true,
        "id": "xIMmtyJ6NaKB"
      },
      "outputs": [],
      "source": [
        "x = (1, 'a', 2, 'b')\n",
        "type(x)"
      ]
    },
    {
      "cell_type": "markdown",
      "metadata": {
        "id": "G0Kw-Dk5NaKB"
      },
      "source": [
        "<br>\n",
        "Lists are a mutable data structure."
      ]
    },
    {
      "cell_type": "code",
      "execution_count": null,
      "metadata": {
        "collapsed": true,
        "id": "EYOFz3-aNaKC"
      },
      "outputs": [],
      "source": [
        "x = [1, 'a', 2, 'b']\n",
        "type(x)"
      ]
    },
    {
      "cell_type": "markdown",
      "metadata": {
        "id": "FSLwvG5gNaKC"
      },
      "source": [
        "<br>\n",
        "Use `append` to append an object to a list."
      ]
    },
    {
      "cell_type": "code",
      "execution_count": null,
      "metadata": {
        "collapsed": true,
        "id": "vG07EBIDNaKC"
      },
      "outputs": [],
      "source": [
        "x.append(3.3)\n",
        "print(x)"
      ]
    },
    {
      "cell_type": "markdown",
      "metadata": {
        "id": "ZMJ_PT7TNaKC"
      },
      "source": [
        "<br>\n",
        "This is an example of how to loop through each item in the list."
      ]
    },
    {
      "cell_type": "code",
      "execution_count": null,
      "metadata": {
        "collapsed": true,
        "id": "0_0qs0OcNaKD"
      },
      "outputs": [],
      "source": [
        "for item in x:\n",
        "    print(item)"
      ]
    },
    {
      "cell_type": "markdown",
      "metadata": {
        "id": "4da-1k2xNaKD"
      },
      "source": [
        "<br>\n",
        "Or using the indexing operator:"
      ]
    },
    {
      "cell_type": "code",
      "execution_count": null,
      "metadata": {
        "collapsed": true,
        "id": "--jzqBdhNaKD"
      },
      "outputs": [],
      "source": [
        "i=0\n",
        "while( i != len(x) ):\n",
        "    print(x[i])\n",
        "    i = i + 1"
      ]
    },
    {
      "cell_type": "markdown",
      "metadata": {
        "id": "2S-4eX7LNaKD"
      },
      "source": [
        "<br>\n",
        "Use `+` to concatenate lists."
      ]
    },
    {
      "cell_type": "code",
      "execution_count": null,
      "metadata": {
        "collapsed": true,
        "id": "hpPMynthNaKD"
      },
      "outputs": [],
      "source": [
        "[1,2] + [3,4]"
      ]
    },
    {
      "cell_type": "markdown",
      "metadata": {
        "id": "z820LQ3ONaKE"
      },
      "source": [
        "<br>\n",
        "Use `*` to repeat lists."
      ]
    },
    {
      "cell_type": "code",
      "execution_count": null,
      "metadata": {
        "collapsed": true,
        "id": "_SrfMoLONaKE"
      },
      "outputs": [],
      "source": [
        "[1]*3"
      ]
    },
    {
      "cell_type": "markdown",
      "metadata": {
        "id": "46jjFAqdNaKE"
      },
      "source": [
        "<br>\n",
        "Use the `in` operator to check if something is inside a list."
      ]
    },
    {
      "cell_type": "code",
      "execution_count": null,
      "metadata": {
        "collapsed": true,
        "id": "fzrTHBYxNaKE"
      },
      "outputs": [],
      "source": [
        "1 in [1, 2, 3]"
      ]
    },
    {
      "cell_type": "markdown",
      "metadata": {
        "id": "0ey_Xt0cNaKE"
      },
      "source": [
        "<br>\n",
        "Now let's look at strings. Use bracket notation to slice a string."
      ]
    },
    {
      "cell_type": "code",
      "execution_count": null,
      "metadata": {
        "collapsed": true,
        "id": "QjZ4QiMgNaKE"
      },
      "outputs": [],
      "source": [
        "x = 'This is a string'\n",
        "print(x[0]) #first character\n",
        "print(x[0:1]) #first character, but we have explicitly set the end character\n",
        "print(x[0:2]) #first two characters\n"
      ]
    },
    {
      "cell_type": "markdown",
      "metadata": {
        "id": "KXSnNDMlNaKF"
      },
      "source": [
        "<br>\n",
        "This will return the last element of the string."
      ]
    },
    {
      "cell_type": "code",
      "execution_count": null,
      "metadata": {
        "collapsed": true,
        "id": "TlHVIkySNaKF"
      },
      "outputs": [],
      "source": [
        "x[-1]"
      ]
    },
    {
      "cell_type": "markdown",
      "metadata": {
        "id": "sXYg737dNaKF"
      },
      "source": [
        "<br>\n",
        "This will return the slice starting from the 4th element from the end and stopping before the 2nd element from the end."
      ]
    },
    {
      "cell_type": "code",
      "execution_count": null,
      "metadata": {
        "collapsed": true,
        "id": "9OLGLwzGNaKF"
      },
      "outputs": [],
      "source": [
        "x[-4:-2]"
      ]
    },
    {
      "cell_type": "markdown",
      "metadata": {
        "id": "QTAAeipWNaKF"
      },
      "source": [
        "<br>\n",
        "This is a slice from the beginning of the string and stopping before the 3rd element."
      ]
    },
    {
      "cell_type": "code",
      "execution_count": null,
      "metadata": {
        "collapsed": true,
        "id": "0k66j7coNaKF"
      },
      "outputs": [],
      "source": [
        "x[:3]"
      ]
    },
    {
      "cell_type": "markdown",
      "metadata": {
        "id": "aaCLN1FZNaKG"
      },
      "source": [
        "<br>\n",
        "And this is a slice starting from the 4th element of the string and going all the way to the end."
      ]
    },
    {
      "cell_type": "code",
      "execution_count": null,
      "metadata": {
        "collapsed": true,
        "id": "0-6VDtdONaKG"
      },
      "outputs": [],
      "source": [
        "x[3:]"
      ]
    },
    {
      "cell_type": "code",
      "execution_count": null,
      "metadata": {
        "collapsed": true,
        "id": "mFQ-vSCFNaKG"
      },
      "outputs": [],
      "source": [
        "firstname = 'Christopher'\n",
        "lastname = 'Brooks'\n",
        "\n",
        "print(firstname + ' ' + lastname)\n",
        "print(firstname*3)\n",
        "print('Chris' in firstname)\n"
      ]
    },
    {
      "cell_type": "markdown",
      "metadata": {
        "id": "Ei7y4Ht5NaKG"
      },
      "source": [
        "<br>\n",
        "`split` returns a list of all the words in a string, or a list split on a specific character."
      ]
    },
    {
      "cell_type": "code",
      "execution_count": null,
      "metadata": {
        "collapsed": true,
        "id": "DsiD9kecNaKG"
      },
      "outputs": [],
      "source": [
        "firstname = 'Christopher Arthur Hansen Brooks'.split(' ')[0] # [0] selects the first element of the list\n",
        "lastname = 'Christopher Arthur Hansen Brooks'.split(' ')[-1] # [-1] selects the last element of the list\n",
        "print(firstname)\n",
        "print(lastname)"
      ]
    },
    {
      "cell_type": "markdown",
      "metadata": {
        "id": "TdTGms77NaKG"
      },
      "source": [
        "<br>\n",
        "Make sure you convert objects to strings before concatenating."
      ]
    },
    {
      "cell_type": "code",
      "execution_count": null,
      "metadata": {
        "collapsed": true,
        "id": "K39hxlcINaKH"
      },
      "outputs": [],
      "source": [
        "'Chris' + 2"
      ]
    },
    {
      "cell_type": "code",
      "execution_count": null,
      "metadata": {
        "collapsed": true,
        "id": "o0-pMx62NaKH"
      },
      "outputs": [],
      "source": [
        "'Chris' + str(2)"
      ]
    },
    {
      "cell_type": "markdown",
      "metadata": {
        "id": "IQXp3Q0FNaKH"
      },
      "source": [
        "<br>\n",
        "Dictionaries associate keys with values."
      ]
    },
    {
      "cell_type": "code",
      "execution_count": null,
      "metadata": {
        "collapsed": true,
        "id": "UAsVFj64NaKH"
      },
      "outputs": [],
      "source": [
        "x = {'Christopher Brooks': 'brooksch@umich.edu', 'Bill Gates': 'billg@microsoft.com'}\n",
        "x['Christopher Brooks'] # Retrieve a value by using the indexing operator\n"
      ]
    },
    {
      "cell_type": "code",
      "execution_count": null,
      "metadata": {
        "collapsed": true,
        "id": "zABwkku6NaKH"
      },
      "outputs": [],
      "source": [
        "x['Kevyn Collins-Thompson'] = None\n",
        "x['Kevyn Collins-Thompson']"
      ]
    },
    {
      "cell_type": "markdown",
      "metadata": {
        "id": "fzuzdK3wNaKH"
      },
      "source": [
        "<br>\n",
        "Iterate over all of the keys:"
      ]
    },
    {
      "cell_type": "code",
      "execution_count": null,
      "metadata": {
        "collapsed": true,
        "scrolled": true,
        "id": "DFt1zxKtNaKI"
      },
      "outputs": [],
      "source": [
        "for name in x:\n",
        "    print(x[name])"
      ]
    },
    {
      "cell_type": "markdown",
      "metadata": {
        "id": "PuAcRcd1NaKI"
      },
      "source": [
        "<br>\n",
        "Iterate over all of the values:"
      ]
    },
    {
      "cell_type": "code",
      "execution_count": null,
      "metadata": {
        "collapsed": true,
        "id": "epe-tNf0NaKI"
      },
      "outputs": [],
      "source": [
        "for email in x.values():\n",
        "    print(email)"
      ]
    },
    {
      "cell_type": "markdown",
      "metadata": {
        "id": "uvnrwm4JNaKI"
      },
      "source": [
        "<br>\n",
        "Iterate over all of the items in the list:"
      ]
    },
    {
      "cell_type": "code",
      "execution_count": null,
      "metadata": {
        "collapsed": true,
        "id": "SHSEyk7NNaKI"
      },
      "outputs": [],
      "source": [
        "for name, email in x.items():\n",
        "    print(name)\n",
        "    print(email)"
      ]
    },
    {
      "cell_type": "markdown",
      "metadata": {
        "id": "-dX3smzFNaKI"
      },
      "source": [
        "<br>\n",
        "You can unpack a sequence into different variables:"
      ]
    },
    {
      "cell_type": "code",
      "execution_count": null,
      "metadata": {
        "collapsed": true,
        "id": "gbRfx8MgNaKI"
      },
      "outputs": [],
      "source": [
        "x = ('Christopher', 'Brooks', 'brooksch@umich.edu')\n",
        "fname, lname, email = x"
      ]
    },
    {
      "cell_type": "code",
      "execution_count": null,
      "metadata": {
        "collapsed": true,
        "id": "UAWVBTPgNaKJ"
      },
      "outputs": [],
      "source": [
        "fname"
      ]
    },
    {
      "cell_type": "code",
      "execution_count": null,
      "metadata": {
        "collapsed": true,
        "id": "toyRytKvNaKJ"
      },
      "outputs": [],
      "source": [
        "lname"
      ]
    },
    {
      "cell_type": "markdown",
      "metadata": {
        "id": "DnxNTVv2NaKJ"
      },
      "source": [
        "<br>\n",
        "Make sure the number of values you are unpacking matches the number of variables being assigned."
      ]
    },
    {
      "cell_type": "code",
      "execution_count": null,
      "metadata": {
        "collapsed": true,
        "id": "OJiy7gN0NaKJ"
      },
      "outputs": [],
      "source": [
        "x = ('Christopher', 'Brooks', 'brooksch@umich.edu', 'Ann Arbor')\n",
        "fname, lname, email = x"
      ]
    },
    {
      "cell_type": "markdown",
      "metadata": {
        "id": "V5DGN6qeNaKJ"
      },
      "source": [
        "<br>\n",
        "# The Python Programming Language: More on Strings"
      ]
    },
    {
      "cell_type": "code",
      "execution_count": null,
      "metadata": {
        "collapsed": true,
        "id": "4IjGaATFNaKJ"
      },
      "outputs": [],
      "source": [
        "print('Chris' + 2)"
      ]
    },
    {
      "cell_type": "code",
      "execution_count": null,
      "metadata": {
        "collapsed": true,
        "id": "qFOz7cCYNaKJ"
      },
      "outputs": [],
      "source": [
        "print('Chris' + str(2))"
      ]
    },
    {
      "cell_type": "markdown",
      "metadata": {
        "id": "iR3OONCmNaKK"
      },
      "source": [
        "<br>\n",
        "Python has a built in method for convenient string formatting."
      ]
    },
    {
      "cell_type": "code",
      "execution_count": null,
      "metadata": {
        "collapsed": true,
        "id": "UXZ-TYhNNaKK"
      },
      "outputs": [],
      "source": [
        "sales_record = {\n",
        "'price': 3.24,\n",
        "'num_items': 4,\n",
        "'person': 'Chris'}\n",
        "\n",
        "sales_statement = '{} bought {} item(s) at a price of {} each for a total of {}'\n",
        "\n",
        "print(sales_statement.format(sales_record['person'],\n",
        "                             sales_record['num_items'],\n",
        "                             sales_record['price'],\n",
        "                             sales_record['num_items']*sales_record['price']))\n"
      ]
    },
    {
      "cell_type": "markdown",
      "metadata": {
        "id": "XNrhCHfFNaKK"
      },
      "source": [
        "<br>\n",
        "# Reading and Writing CSV files"
      ]
    },
    {
      "cell_type": "markdown",
      "metadata": {
        "id": "0LK7YXhUNaKK"
      },
      "source": [
        "<br>\n",
        "Let's import our datafile mpg.csv, which contains fuel economy data for 234 cars.\n",
        "\n",
        "* mpg : miles per gallon\n",
        "* class : car classification\n",
        "* cty : city mpg\n",
        "* cyl : # of cylinders\n",
        "* displ : engine displacement in liters\n",
        "* drv : f = front-wheel drive, r = rear wheel drive, 4 = 4wd\n",
        "* fl : fuel (e = ethanol E85, d = diesel, r = regular, p = premium, c = CNG)\n",
        "* hwy : highway mpg\n",
        "* manufacturer : automobile manufacturer\n",
        "* model : model of car\n",
        "* trans : type of transmission\n",
        "* year : model year"
      ]
    },
    {
      "cell_type": "code",
      "execution_count": null,
      "metadata": {
        "collapsed": true,
        "scrolled": true,
        "id": "vxuqBSgVNaKK"
      },
      "outputs": [],
      "source": [
        "import csv\n",
        "\n",
        "%precision 2\n",
        "\n",
        "with open('mpg.csv') as csvfile:\n",
        "    mpg = list(csv.DictReader(csvfile))\n",
        "    \n",
        "mpg[:3] # The first three dictionaries in our list."
      ]
    },
    {
      "cell_type": "markdown",
      "metadata": {
        "id": "FKgaqR8GNaKK"
      },
      "source": [
        "<br>\n",
        "`csv.Dictreader` has read in each row of our csv file as a dictionary. `len` shows that our list is comprised of 234 dictionaries."
      ]
    },
    {
      "cell_type": "code",
      "execution_count": null,
      "metadata": {
        "collapsed": true,
        "id": "742LzfcNNaKK"
      },
      "outputs": [],
      "source": [
        "len(mpg)"
      ]
    },
    {
      "cell_type": "markdown",
      "metadata": {
        "id": "-hraxKKjNaKL"
      },
      "source": [
        "<br>\n",
        "`keys` gives us the column names of our csv."
      ]
    },
    {
      "cell_type": "code",
      "execution_count": null,
      "metadata": {
        "collapsed": true,
        "id": "EOErsnkyNaKL"
      },
      "outputs": [],
      "source": [
        "mpg[0].keys()"
      ]
    },
    {
      "cell_type": "markdown",
      "metadata": {
        "id": "xfK1fhPwNaKL"
      },
      "source": [
        "<br>\n",
        "This is how to find the average cty fuel economy across all cars. All values in the dictionaries are strings, so we need to convert to float."
      ]
    },
    {
      "cell_type": "code",
      "execution_count": null,
      "metadata": {
        "collapsed": true,
        "id": "-AJ9N1wXNaKL"
      },
      "outputs": [],
      "source": [
        "sum(float(d['cty']) for d in mpg) / len(mpg)"
      ]
    },
    {
      "cell_type": "markdown",
      "metadata": {
        "id": "78PoGIA2NaKL"
      },
      "source": [
        "<br>\n",
        "Similarly this is how to find the average hwy fuel economy across all cars."
      ]
    },
    {
      "cell_type": "code",
      "execution_count": null,
      "metadata": {
        "collapsed": true,
        "id": "mpgsbyLFNaKL"
      },
      "outputs": [],
      "source": [
        "sum(float(d['hwy']) for d in mpg) / len(mpg)"
      ]
    },
    {
      "cell_type": "markdown",
      "metadata": {
        "id": "z7avg2grNaKL"
      },
      "source": [
        "<br>\n",
        "Use `set` to return the unique values for the number of cylinders the cars in our dataset have."
      ]
    },
    {
      "cell_type": "code",
      "execution_count": null,
      "metadata": {
        "collapsed": true,
        "id": "g05ptSp-NaKL"
      },
      "outputs": [],
      "source": [
        "cylinders = set(d['cyl'] for d in mpg)\n",
        "cylinders"
      ]
    },
    {
      "cell_type": "markdown",
      "metadata": {
        "id": "Qfh6RGSINaKM"
      },
      "source": [
        "<br>\n",
        "Here's a more complex example where we are grouping the cars by number of cylinder, and finding the average cty mpg for each group."
      ]
    },
    {
      "cell_type": "code",
      "execution_count": null,
      "metadata": {
        "collapsed": true,
        "id": "vtfy-o2XNaKM"
      },
      "outputs": [],
      "source": [
        "CtyMpgByCyl = []\n",
        "\n",
        "for c in cylinders: # iterate over all the cylinder levels\n",
        "    summpg = 0\n",
        "    cyltypecount = 0\n",
        "    for d in mpg: # iterate over all dictionaries\n",
        "        if d['cyl'] == c: # if the cylinder level type matches,\n",
        "            summpg += float(d['cty']) # add the cty mpg\n",
        "            cyltypecount += 1 # increment the count\n",
        "    CtyMpgByCyl.append((c, summpg / cyltypecount)) # append the tuple ('cylinder', 'avg mpg')\n",
        "\n",
        "CtyMpgByCyl.sort(key=lambda x: x[0])\n",
        "CtyMpgByCyl"
      ]
    },
    {
      "cell_type": "markdown",
      "metadata": {
        "id": "WbW9fwcsNaKM"
      },
      "source": [
        "<br>\n",
        "Use `set` to return the unique values for the class types in our dataset."
      ]
    },
    {
      "cell_type": "code",
      "execution_count": null,
      "metadata": {
        "collapsed": true,
        "id": "toFDf5UyNaKM"
      },
      "outputs": [],
      "source": [
        "vehicleclass = set(d['class'] for d in mpg) # what are the class types\n",
        "vehicleclass"
      ]
    },
    {
      "cell_type": "markdown",
      "metadata": {
        "id": "YY1MXNlLNaKM"
      },
      "source": [
        "<br>\n",
        "And here's an example of how to find the average hwy mpg for each class of vehicle in our dataset."
      ]
    },
    {
      "cell_type": "code",
      "execution_count": null,
      "metadata": {
        "collapsed": true,
        "id": "jbZKrn9xNaKM"
      },
      "outputs": [],
      "source": [
        "HwyMpgByClass = []\n",
        "\n",
        "for t in vehicleclass: # iterate over all the vehicle classes\n",
        "    summpg = 0\n",
        "    vclasscount = 0\n",
        "    for d in mpg: # iterate over all dictionaries\n",
        "        if d['class'] == t: # if the cylinder amount type matches,\n",
        "            summpg += float(d['hwy']) # add the hwy mpg\n",
        "            vclasscount += 1 # increment the count\n",
        "    HwyMpgByClass.append((t, summpg / vclasscount)) # append the tuple ('class', 'avg mpg')\n",
        "\n",
        "HwyMpgByClass.sort(key=lambda x: x[1])\n",
        "HwyMpgByClass"
      ]
    },
    {
      "cell_type": "markdown",
      "metadata": {
        "id": "y4hVcWKGNaKM"
      },
      "source": [
        "<br>\n",
        "# The Python Programming Language: Dates and Times"
      ]
    },
    {
      "cell_type": "code",
      "execution_count": null,
      "metadata": {
        "collapsed": true,
        "id": "6v3i_UxcNaKM"
      },
      "outputs": [],
      "source": [
        "import datetime as dt\n",
        "import time as tm"
      ]
    },
    {
      "cell_type": "markdown",
      "metadata": {
        "id": "uvJRvO_DNaKN"
      },
      "source": [
        "<br>\n",
        "`time` returns the current time in seconds since the Epoch. (January 1st, 1970)"
      ]
    },
    {
      "cell_type": "code",
      "execution_count": null,
      "metadata": {
        "collapsed": true,
        "id": "RaJb5wNhNaKN"
      },
      "outputs": [],
      "source": [
        "tm.time()"
      ]
    },
    {
      "cell_type": "markdown",
      "metadata": {
        "id": "KBknJ6wtNaKN"
      },
      "source": [
        "<br>\n",
        "Convert the timestamp to datetime."
      ]
    },
    {
      "cell_type": "code",
      "execution_count": null,
      "metadata": {
        "collapsed": true,
        "id": "QoblO3E7NaKN"
      },
      "outputs": [],
      "source": [
        "dtnow = dt.datetime.fromtimestamp(tm.time())\n",
        "dtnow"
      ]
    },
    {
      "cell_type": "markdown",
      "metadata": {
        "id": "BjtkZbufNaKN"
      },
      "source": [
        "<br>\n",
        "Handy datetime attributes:"
      ]
    },
    {
      "cell_type": "code",
      "execution_count": null,
      "metadata": {
        "collapsed": true,
        "id": "H7W4BJnqNaKN"
      },
      "outputs": [],
      "source": [
        "dtnow.year, dtnow.month, dtnow.day, dtnow.hour, dtnow.minute, dtnow.second # get year, month, day, etc.from a datetime"
      ]
    },
    {
      "cell_type": "markdown",
      "metadata": {
        "id": "6EWJ7iWhNaKN"
      },
      "source": [
        "<br>\n",
        "`timedelta` is a duration expressing the difference between two dates."
      ]
    },
    {
      "cell_type": "code",
      "execution_count": null,
      "metadata": {
        "collapsed": true,
        "id": "6Z1EkU94NaKN"
      },
      "outputs": [],
      "source": [
        "delta = dt.timedelta(days = 100) # create a timedelta of 100 days\n",
        "delta"
      ]
    },
    {
      "cell_type": "markdown",
      "metadata": {
        "id": "yf7xOex1NaKO"
      },
      "source": [
        "<br>\n",
        "`date.today` returns the current local date."
      ]
    },
    {
      "cell_type": "code",
      "execution_count": null,
      "metadata": {
        "collapsed": true,
        "id": "dj60QlXdNaKO"
      },
      "outputs": [],
      "source": [
        "today = dt.date.today()"
      ]
    },
    {
      "cell_type": "code",
      "execution_count": null,
      "metadata": {
        "collapsed": true,
        "id": "nNO8y07YNaKO"
      },
      "outputs": [],
      "source": [
        "today - delta # the date 100 days ago"
      ]
    },
    {
      "cell_type": "code",
      "execution_count": null,
      "metadata": {
        "collapsed": true,
        "id": "t64s254pNaKO"
      },
      "outputs": [],
      "source": [
        "today > today-delta # compare dates"
      ]
    },
    {
      "cell_type": "markdown",
      "metadata": {
        "id": "wVMbQlnnNaKO"
      },
      "source": [
        "<br>\n",
        "# The Python Programming Language: Objects and map()"
      ]
    },
    {
      "cell_type": "markdown",
      "metadata": {
        "id": "Bl5zdoeYNaKO"
      },
      "source": [
        "<br>\n",
        "An example of a class in python:"
      ]
    },
    {
      "cell_type": "code",
      "execution_count": null,
      "metadata": {
        "collapsed": true,
        "id": "Tj43LpxxNaKO"
      },
      "outputs": [],
      "source": [
        "class Person:\n",
        "    department = 'School of Information' #a class variable\n",
        "\n",
        "    def set_name(self, new_name): #a method\n",
        "        self.name = new_name\n",
        "    def set_location(self, new_location):\n",
        "        self.location = new_location"
      ]
    },
    {
      "cell_type": "code",
      "execution_count": null,
      "metadata": {
        "collapsed": true,
        "id": "fhodHt-GNaKO"
      },
      "outputs": [],
      "source": [
        "person = Person()\n",
        "person.set_name('Christopher Brooks')\n",
        "person.set_location('Ann Arbor, MI, USA')\n",
        "print('{} live in {} and works in the department {}'.format(person.name, person.location, person.department))"
      ]
    },
    {
      "cell_type": "markdown",
      "metadata": {
        "id": "hAWOrkfUNaKP"
      },
      "source": [
        "<br>\n",
        "Here's an example of mapping the `min` function between two lists."
      ]
    },
    {
      "cell_type": "code",
      "execution_count": null,
      "metadata": {
        "collapsed": true,
        "id": "57hxId4tNaKP"
      },
      "outputs": [],
      "source": [
        "store1 = [10.00, 11.00, 12.34, 2.34]\n",
        "store2 = [9.00, 11.10, 12.34, 2.01]\n",
        "cheapest = map(min, store1, store2)\n",
        "cheapest"
      ]
    },
    {
      "cell_type": "markdown",
      "metadata": {
        "id": "X7VphbTUNaKP"
      },
      "source": [
        "<br>\n",
        "Now let's iterate through the map object to see the values."
      ]
    },
    {
      "cell_type": "code",
      "execution_count": null,
      "metadata": {
        "collapsed": true,
        "scrolled": true,
        "id": "8nu3LV1QNaKP"
      },
      "outputs": [],
      "source": [
        "for item in cheapest:\n",
        "    print(item)"
      ]
    },
    {
      "cell_type": "markdown",
      "metadata": {
        "id": "67TeeI-mNaKP"
      },
      "source": [
        "<br>\n",
        "# The Python Programming Language: Lambda and List Comprehensions"
      ]
    },
    {
      "cell_type": "markdown",
      "metadata": {
        "id": "CXukSUr1NaKP"
      },
      "source": [
        "<br>\n",
        "Here's an example of lambda that takes in three parameters and adds the first two."
      ]
    },
    {
      "cell_type": "code",
      "execution_count": null,
      "metadata": {
        "collapsed": true,
        "id": "YWv07veONaKP"
      },
      "outputs": [],
      "source": [
        "my_function = lambda a, b, c : a + b"
      ]
    },
    {
      "cell_type": "code",
      "execution_count": null,
      "metadata": {
        "collapsed": true,
        "id": "sI12CXLLNaKP"
      },
      "outputs": [],
      "source": [
        "my_function(1, 2, 3)"
      ]
    },
    {
      "cell_type": "markdown",
      "metadata": {
        "id": "C2mkmM7DNaKQ"
      },
      "source": [
        "<br>\n",
        "Let's iterate from 0 to 999 and return the even numbers."
      ]
    },
    {
      "cell_type": "code",
      "execution_count": null,
      "metadata": {
        "collapsed": true,
        "id": "pJwsCklgNaKQ"
      },
      "outputs": [],
      "source": [
        "my_list = []\n",
        "for number in range(0, 1000):\n",
        "    if number % 2 == 0:\n",
        "        my_list.append(number)\n",
        "my_list"
      ]
    },
    {
      "cell_type": "markdown",
      "metadata": {
        "id": "WZv87xLeNaKQ"
      },
      "source": [
        "<br>\n",
        "Now the same thing but with list comprehension."
      ]
    },
    {
      "cell_type": "code",
      "execution_count": null,
      "metadata": {
        "collapsed": true,
        "id": "1K5Yr559NaKQ"
      },
      "outputs": [],
      "source": [
        "my_list = [number for number in range(0,1000) if number % 2 == 0]\n",
        "my_list"
      ]
    },
    {
      "cell_type": "markdown",
      "metadata": {
        "collapsed": true,
        "id": "a6gvbz4tNaKQ"
      },
      "source": [
        "<br>\n",
        "# The Python Programming Language: Numerical Python (NumPy)"
      ]
    },
    {
      "cell_type": "code",
      "execution_count": null,
      "metadata": {
        "collapsed": true,
        "id": "SGeyQzlhNaKQ"
      },
      "outputs": [],
      "source": [
        "import numpy as np"
      ]
    },
    {
      "cell_type": "markdown",
      "metadata": {
        "id": "_yyHT3eYNaKQ"
      },
      "source": [
        "<br>\n",
        "## Creating Arrays"
      ]
    },
    {
      "cell_type": "markdown",
      "metadata": {
        "id": "7bgF6HHSNaKQ"
      },
      "source": [
        "Create a list and convert it to a numpy array"
      ]
    },
    {
      "cell_type": "code",
      "execution_count": null,
      "metadata": {
        "collapsed": true,
        "id": "3-DWMbwbNaKR"
      },
      "outputs": [],
      "source": [
        "mylist = [1, 2, 3]\n",
        "x = np.array(mylist)\n",
        "x"
      ]
    },
    {
      "cell_type": "markdown",
      "metadata": {
        "id": "xYsOUkKcNaKR"
      },
      "source": [
        "<br>\n",
        "Or just pass in a list directly"
      ]
    },
    {
      "cell_type": "code",
      "execution_count": null,
      "metadata": {
        "collapsed": true,
        "id": "gNkU-XYmNaKR"
      },
      "outputs": [],
      "source": [
        "y = np.array([4, 5, 6])\n",
        "y"
      ]
    },
    {
      "cell_type": "markdown",
      "metadata": {
        "id": "55gP128iNaKR"
      },
      "source": [
        "<br>\n",
        "Pass in a list of lists to create a multidimensional array."
      ]
    },
    {
      "cell_type": "code",
      "execution_count": null,
      "metadata": {
        "collapsed": true,
        "id": "bwiII2yQNaKR"
      },
      "outputs": [],
      "source": [
        "m = np.array([[7, 8, 9], [10, 11, 12]])\n",
        "m"
      ]
    },
    {
      "cell_type": "markdown",
      "metadata": {
        "id": "nOXXNyanNaKR"
      },
      "source": [
        "<br>\n",
        "Use the shape method to find the dimensions of the array. (rows, columns)"
      ]
    },
    {
      "cell_type": "code",
      "execution_count": null,
      "metadata": {
        "collapsed": true,
        "id": "cqb-hWA4NaKR"
      },
      "outputs": [],
      "source": [
        "m.shape"
      ]
    },
    {
      "cell_type": "markdown",
      "metadata": {
        "id": "-j5H9PdQNaKR"
      },
      "source": [
        "<br>\n",
        "`arange` returns evenly spaced values within a given interval."
      ]
    },
    {
      "cell_type": "code",
      "execution_count": null,
      "metadata": {
        "collapsed": true,
        "id": "bomi_TZoNaKR"
      },
      "outputs": [],
      "source": [
        "n = np.arange(0, 30, 2) # start at 0 count up by 2, stop before 30\n",
        "n"
      ]
    },
    {
      "cell_type": "markdown",
      "metadata": {
        "id": "r9m_OM0MNaKS"
      },
      "source": [
        "<br>\n",
        "`reshape` returns an array with the same data with a new shape."
      ]
    },
    {
      "cell_type": "code",
      "execution_count": null,
      "metadata": {
        "collapsed": true,
        "id": "P1jSoUjtNaKS"
      },
      "outputs": [],
      "source": [
        "n = n.reshape(3, 5) # reshape array to be 3x5\n",
        "n"
      ]
    },
    {
      "cell_type": "markdown",
      "metadata": {
        "id": "GXPHLBl4NaKS"
      },
      "source": [
        "<br>\n",
        "`linspace` returns evenly spaced numbers over a specified interval."
      ]
    },
    {
      "cell_type": "code",
      "execution_count": null,
      "metadata": {
        "collapsed": true,
        "id": "Ma08Fj6aNaKS"
      },
      "outputs": [],
      "source": [
        "o = np.linspace(0, 4, 9) # return 9 evenly spaced values from 0 to 4\n",
        "o"
      ]
    },
    {
      "cell_type": "markdown",
      "metadata": {
        "id": "52iEnOk3NaKS"
      },
      "source": [
        "<br>\n",
        "`resize` changes the shape and size of array in-place."
      ]
    },
    {
      "cell_type": "code",
      "execution_count": null,
      "metadata": {
        "collapsed": true,
        "id": "rhyE38fGNaKS"
      },
      "outputs": [],
      "source": [
        "o.resize(3, 3)\n",
        "o"
      ]
    },
    {
      "cell_type": "markdown",
      "metadata": {
        "id": "_bJEfneiNaKS"
      },
      "source": [
        "<br>\n",
        "`ones` returns a new array of given shape and type, filled with ones."
      ]
    },
    {
      "cell_type": "code",
      "execution_count": null,
      "metadata": {
        "collapsed": true,
        "id": "neqJgD_8NaKS"
      },
      "outputs": [],
      "source": [
        "np.ones((3, 2))"
      ]
    },
    {
      "cell_type": "markdown",
      "metadata": {
        "id": "XhPRC3kUNaKT"
      },
      "source": [
        "<br>\n",
        "`zeros` returns a new array of given shape and type, filled with zeros."
      ]
    },
    {
      "cell_type": "code",
      "execution_count": null,
      "metadata": {
        "collapsed": true,
        "id": "EwRefeCCNaKT"
      },
      "outputs": [],
      "source": [
        "np.zeros((2, 3))"
      ]
    },
    {
      "cell_type": "markdown",
      "metadata": {
        "id": "giMhmxY0NaKT"
      },
      "source": [
        "<br>\n",
        "`eye` returns a 2-D array with ones on the diagonal and zeros elsewhere."
      ]
    },
    {
      "cell_type": "code",
      "execution_count": null,
      "metadata": {
        "collapsed": true,
        "id": "_RRKIiYwNaKT"
      },
      "outputs": [],
      "source": [
        "np.eye(3)"
      ]
    },
    {
      "cell_type": "markdown",
      "metadata": {
        "id": "N8Nw2FkuNaKT"
      },
      "source": [
        "<br>\n",
        "`diag` extracts a diagonal or constructs a diagonal array."
      ]
    },
    {
      "cell_type": "code",
      "execution_count": null,
      "metadata": {
        "collapsed": true,
        "id": "I6L0MIhpNaKT"
      },
      "outputs": [],
      "source": [
        "np.diag(y)"
      ]
    },
    {
      "cell_type": "markdown",
      "metadata": {
        "id": "n0M8HeRPNaKT"
      },
      "source": [
        "<br>\n",
        "Create an array using repeating list (or see `np.tile`)"
      ]
    },
    {
      "cell_type": "code",
      "execution_count": null,
      "metadata": {
        "collapsed": true,
        "id": "guKl4ew1NaKT"
      },
      "outputs": [],
      "source": [
        "np.array([1, 2, 3] * 3)"
      ]
    },
    {
      "cell_type": "markdown",
      "metadata": {
        "id": "9qI1Y-ZNNaKU"
      },
      "source": [
        "<br>\n",
        "Repeat elements of an array using `repeat`."
      ]
    },
    {
      "cell_type": "code",
      "execution_count": null,
      "metadata": {
        "collapsed": true,
        "id": "rc771eCHNaKU"
      },
      "outputs": [],
      "source": [
        "np.repeat([1, 2, 3], 3)"
      ]
    },
    {
      "cell_type": "markdown",
      "metadata": {
        "id": "oImmnAR7NaKU"
      },
      "source": [
        "<br>\n",
        "#### Combining Arrays"
      ]
    },
    {
      "cell_type": "code",
      "execution_count": null,
      "metadata": {
        "collapsed": true,
        "id": "lpcxRm18NaKU"
      },
      "outputs": [],
      "source": [
        "p = np.ones([2, 3], int)\n",
        "p"
      ]
    },
    {
      "cell_type": "markdown",
      "metadata": {
        "id": "IJwLd0ugNaKU"
      },
      "source": [
        "<br>\n",
        "Use `vstack` to stack arrays in sequence vertically (row wise)."
      ]
    },
    {
      "cell_type": "code",
      "execution_count": null,
      "metadata": {
        "collapsed": true,
        "id": "zUwtbZPGNaKU"
      },
      "outputs": [],
      "source": [
        "np.vstack([p, 2*p])"
      ]
    },
    {
      "cell_type": "markdown",
      "metadata": {
        "id": "h2gx-3oxNaKU"
      },
      "source": [
        "<br>\n",
        "Use `hstack` to stack arrays in sequence horizontally (column wise)."
      ]
    },
    {
      "cell_type": "code",
      "execution_count": null,
      "metadata": {
        "collapsed": true,
        "id": "TEZwsaZkNaKU"
      },
      "outputs": [],
      "source": [
        "np.hstack([p, 2*p])"
      ]
    },
    {
      "cell_type": "markdown",
      "metadata": {
        "id": "MoCGwhjmNaKV"
      },
      "source": [
        "<br>\n",
        "## Operations"
      ]
    },
    {
      "cell_type": "markdown",
      "metadata": {
        "id": "pE2KZk4-NaKV"
      },
      "source": [
        "Use `+`, `-`, `*`, `/` and `**` to perform element wise addition, subtraction, multiplication, division and power."
      ]
    },
    {
      "cell_type": "code",
      "execution_count": null,
      "metadata": {
        "collapsed": true,
        "id": "m6sJphq5NaKV"
      },
      "outputs": [],
      "source": [
        "print(x + y) # elementwise addition     [1 2 3] + [4 5 6] = [5  7  9]\n",
        "print(x - y) # elementwise subtraction  [1 2 3] - [4 5 6] = [-3 -3 -3]"
      ]
    },
    {
      "cell_type": "code",
      "execution_count": null,
      "metadata": {
        "collapsed": true,
        "id": "GWy_jlz5NaKV"
      },
      "outputs": [],
      "source": [
        "print(x * y) # elementwise multiplication  [1 2 3] * [4 5 6] = [4  10  18]\n",
        "print(x / y) # elementwise divison         [1 2 3] / [4 5 6] = [0.25  0.4  0.5]"
      ]
    },
    {
      "cell_type": "code",
      "execution_count": null,
      "metadata": {
        "collapsed": true,
        "id": "l3UqUREENaKV"
      },
      "outputs": [],
      "source": [
        "print(x**2) # elementwise power  [1 2 3] ^2 =  [1 4 9]"
      ]
    },
    {
      "cell_type": "markdown",
      "metadata": {
        "id": "9iAF8VNgNaKV"
      },
      "source": [
        "<br>\n",
        "**Dot Product:**  \n",
        "\n",
        "$ \\begin{bmatrix}x_1 \\ x_2 \\ x_3\\end{bmatrix}\n",
        "\\cdot\n",
        "\\begin{bmatrix}y_1 \\\\ y_2 \\\\ y_3\\end{bmatrix}\n",
        "= x_1 y_1 + x_2 y_2 + x_3 y_3$"
      ]
    },
    {
      "cell_type": "code",
      "execution_count": null,
      "metadata": {
        "collapsed": true,
        "id": "9G-69mXtNaKV"
      },
      "outputs": [],
      "source": [
        "x.dot(y) # dot product  1*4 + 2*5 + 3*6"
      ]
    },
    {
      "cell_type": "code",
      "execution_count": null,
      "metadata": {
        "collapsed": true,
        "id": "-665v0KSNaKW"
      },
      "outputs": [],
      "source": [
        "z = np.array([y, y**2])\n",
        "print(len(z)) # number of rows of array"
      ]
    },
    {
      "cell_type": "markdown",
      "metadata": {
        "id": "r8Cd3kiqNaKW"
      },
      "source": [
        "<br>\n",
        "Let's look at transposing arrays. Transposing permutes the dimensions of the array."
      ]
    },
    {
      "cell_type": "code",
      "execution_count": null,
      "metadata": {
        "collapsed": true,
        "id": "LC23r_l4NaKW"
      },
      "outputs": [],
      "source": [
        "z = np.array([y, y**2])\n",
        "z"
      ]
    },
    {
      "cell_type": "markdown",
      "metadata": {
        "id": "G2cP2O_XNaKW"
      },
      "source": [
        "<br>\n",
        "The shape of array `z` is `(2,3)` before transposing."
      ]
    },
    {
      "cell_type": "code",
      "execution_count": null,
      "metadata": {
        "collapsed": true,
        "id": "PxzlrHXrNaKW"
      },
      "outputs": [],
      "source": [
        "z.shape"
      ]
    },
    {
      "cell_type": "markdown",
      "metadata": {
        "id": "SPf2zj_ONaKW"
      },
      "source": [
        "<br>\n",
        "Use `.T` to get the transpose."
      ]
    },
    {
      "cell_type": "code",
      "execution_count": null,
      "metadata": {
        "collapsed": true,
        "id": "pk8dNPAENaKW"
      },
      "outputs": [],
      "source": [
        "z.T"
      ]
    },
    {
      "cell_type": "markdown",
      "metadata": {
        "id": "fMOmvkhCNaKW"
      },
      "source": [
        "<br>\n",
        "The number of rows has swapped with the number of columns."
      ]
    },
    {
      "cell_type": "code",
      "execution_count": null,
      "metadata": {
        "collapsed": true,
        "id": "ycJrR-fQNaKX"
      },
      "outputs": [],
      "source": [
        "z.T.shape"
      ]
    },
    {
      "cell_type": "markdown",
      "metadata": {
        "id": "PkEBJWajNaKX"
      },
      "source": [
        "<br>\n",
        "Use `.dtype` to see the data type of the elements in the array."
      ]
    },
    {
      "cell_type": "code",
      "execution_count": null,
      "metadata": {
        "collapsed": true,
        "id": "TzpyLGqeNaKX"
      },
      "outputs": [],
      "source": [
        "z.dtype"
      ]
    },
    {
      "cell_type": "markdown",
      "metadata": {
        "id": "mvbawOW-NaKX"
      },
      "source": [
        "<br>\n",
        "Use `.astype` to cast to a specific type."
      ]
    },
    {
      "cell_type": "code",
      "execution_count": null,
      "metadata": {
        "collapsed": true,
        "id": "3PUKzd0-NaKX"
      },
      "outputs": [],
      "source": [
        "z = z.astype('f')\n",
        "z.dtype"
      ]
    },
    {
      "cell_type": "markdown",
      "metadata": {
        "id": "b6sI3l4oNaKX"
      },
      "source": [
        "<br>\n",
        "## Math Functions"
      ]
    },
    {
      "cell_type": "markdown",
      "metadata": {
        "id": "DNG8DzlKNaKX"
      },
      "source": [
        "Numpy has many built in math functions that can be performed on arrays."
      ]
    },
    {
      "cell_type": "code",
      "execution_count": null,
      "metadata": {
        "collapsed": true,
        "id": "g66oL08FNaKX"
      },
      "outputs": [],
      "source": [
        "a = np.array([-4, -2, 1, 3, 5])"
      ]
    },
    {
      "cell_type": "code",
      "execution_count": null,
      "metadata": {
        "collapsed": true,
        "id": "8lVcXRwONaKX"
      },
      "outputs": [],
      "source": [
        "a.sum()"
      ]
    },
    {
      "cell_type": "code",
      "execution_count": null,
      "metadata": {
        "collapsed": true,
        "id": "REAbIOXvNaKX"
      },
      "outputs": [],
      "source": [
        "a.max()"
      ]
    },
    {
      "cell_type": "code",
      "execution_count": null,
      "metadata": {
        "collapsed": true,
        "id": "aMXfOFxkNaKY"
      },
      "outputs": [],
      "source": [
        "a.min()"
      ]
    },
    {
      "cell_type": "code",
      "execution_count": null,
      "metadata": {
        "collapsed": true,
        "id": "k_PiHHCdNaKY"
      },
      "outputs": [],
      "source": [
        "a.mean()"
      ]
    },
    {
      "cell_type": "code",
      "execution_count": null,
      "metadata": {
        "collapsed": true,
        "id": "6E3wHeUfNaKY"
      },
      "outputs": [],
      "source": [
        "a.std()"
      ]
    },
    {
      "cell_type": "markdown",
      "metadata": {
        "id": "YlggrTBJNaKY"
      },
      "source": [
        "<br>\n",
        "`argmax` and `argmin` return the index of the maximum and minimum values in the array."
      ]
    },
    {
      "cell_type": "code",
      "execution_count": null,
      "metadata": {
        "collapsed": true,
        "id": "ZmXe5qVhNaKY"
      },
      "outputs": [],
      "source": [
        "a.argmax()"
      ]
    },
    {
      "cell_type": "code",
      "execution_count": null,
      "metadata": {
        "collapsed": true,
        "id": "iclANvfRNaKY"
      },
      "outputs": [],
      "source": [
        "a.argmin()"
      ]
    },
    {
      "cell_type": "markdown",
      "metadata": {
        "id": "e6aiRq7sNaKY"
      },
      "source": [
        "<br>\n",
        "## Indexing / Slicing"
      ]
    },
    {
      "cell_type": "code",
      "execution_count": null,
      "metadata": {
        "id": "kgLlK7z2NaKY",
        "outputId": "c6fb2e8a-00be-4bde-978d-56bf703acdfc"
      },
      "outputs": [
        {
          "ename": "NameError",
          "evalue": "name 'np' is not defined",
          "output_type": "error",
          "traceback": [
            "\u001b[0;31m---------------------------------------------------------------------------\u001b[0m",
            "\u001b[0;31mNameError\u001b[0m                                 Traceback (most recent call last)",
            "\u001b[0;32m<ipython-input-8-808318f9e057>\u001b[0m in \u001b[0;36m<module>\u001b[0;34m()\u001b[0m\n\u001b[0;32m----> 1\u001b[0;31m \u001b[0ms\u001b[0m \u001b[0;34m=\u001b[0m \u001b[0mnp\u001b[0m\u001b[0;34m.\u001b[0m\u001b[0marange\u001b[0m\u001b[0;34m(\u001b[0m\u001b[0;36m13\u001b[0m\u001b[0;34m)\u001b[0m\u001b[0;34m**\u001b[0m\u001b[0;36m2\u001b[0m\u001b[0;34m\u001b[0m\u001b[0m\n\u001b[0m\u001b[1;32m      2\u001b[0m \u001b[0ms\u001b[0m\u001b[0;34m\u001b[0m\u001b[0m\n",
            "\u001b[0;31mNameError\u001b[0m: name 'np' is not defined"
          ]
        }
      ],
      "source": [
        "s = np.arange(13)**2\n",
        "s"
      ]
    },
    {
      "cell_type": "markdown",
      "metadata": {
        "id": "QNwFn8L7NaKZ"
      },
      "source": [
        "<br>\n",
        "Use bracket notation to get the value at a specific index. Remember that indexing starts at 0."
      ]
    },
    {
      "cell_type": "code",
      "execution_count": null,
      "metadata": {
        "collapsed": true,
        "id": "6TcVzxhmNaKZ"
      },
      "outputs": [],
      "source": [
        "s[0], s[4], s[-1]"
      ]
    },
    {
      "cell_type": "markdown",
      "metadata": {
        "id": "qgvXzUgoNaKZ"
      },
      "source": [
        "<br>\n",
        "Use `:` to indicate a range. `array[start:stop]`\n",
        "\n",
        "\n",
        "Leaving `start` or `stop` empty will default to the beginning/end of the array."
      ]
    },
    {
      "cell_type": "code",
      "execution_count": null,
      "metadata": {
        "collapsed": true,
        "id": "e4gW3_Y_NaKZ"
      },
      "outputs": [],
      "source": [
        "s[1:5]"
      ]
    },
    {
      "cell_type": "markdown",
      "metadata": {
        "id": "EjMoFfZxNaKZ"
      },
      "source": [
        "<br>\n",
        "Use negatives to count from the back."
      ]
    },
    {
      "cell_type": "code",
      "execution_count": null,
      "metadata": {
        "collapsed": true,
        "id": "kxGBkyPgNaKZ"
      },
      "outputs": [],
      "source": [
        "s[-4:]"
      ]
    },
    {
      "cell_type": "markdown",
      "metadata": {
        "id": "Vjdw4kGdNaKZ"
      },
      "source": [
        "<br>\n",
        "A second `:` can be used to indicate step-size. `array[start:stop:stepsize]`\n",
        "\n",
        "Here we are starting 5th element from the end, and counting backwards by 2 until the beginning of the array is reached."
      ]
    },
    {
      "cell_type": "code",
      "execution_count": null,
      "metadata": {
        "collapsed": true,
        "id": "uvzxj1a2NaKZ"
      },
      "outputs": [],
      "source": [
        "s[-5::-2]"
      ]
    },
    {
      "cell_type": "markdown",
      "metadata": {
        "id": "q6ciij9LNaKZ"
      },
      "source": [
        "<br>\n",
        "Let's look at a multidimensional array."
      ]
    },
    {
      "cell_type": "code",
      "execution_count": null,
      "metadata": {
        "collapsed": true,
        "id": "fjEYCI95NaKa"
      },
      "outputs": [],
      "source": [
        "r = np.arange(36)\n",
        "r.resize((6, 6))\n",
        "r"
      ]
    },
    {
      "cell_type": "markdown",
      "metadata": {
        "id": "x40P5sS2NaKa"
      },
      "source": [
        "<br>\n",
        "Use bracket notation to slice: `array[row, column]`"
      ]
    },
    {
      "cell_type": "code",
      "execution_count": null,
      "metadata": {
        "collapsed": true,
        "id": "4wxOnFiINaKa"
      },
      "outputs": [],
      "source": [
        "r[2, 2]"
      ]
    },
    {
      "cell_type": "markdown",
      "metadata": {
        "id": "pwOKKXF1NaKa"
      },
      "source": [
        "<br>\n",
        "And use : to select a range of rows or columns"
      ]
    },
    {
      "cell_type": "code",
      "execution_count": null,
      "metadata": {
        "collapsed": true,
        "id": "-jkLVDm7NaKa"
      },
      "outputs": [],
      "source": [
        "r[3, 3:6]"
      ]
    },
    {
      "cell_type": "markdown",
      "metadata": {
        "id": "kD1rJrIqNaKa"
      },
      "source": [
        "<br>\n",
        "Here we are selecting all the rows up to (and not including) row 2, and all the columns up to (and not including) the last column."
      ]
    },
    {
      "cell_type": "code",
      "execution_count": null,
      "metadata": {
        "collapsed": true,
        "id": "q9XqgDthNaKa"
      },
      "outputs": [],
      "source": [
        "r[:2, :-1]"
      ]
    },
    {
      "cell_type": "markdown",
      "metadata": {
        "id": "DkNsLOvPNaKa"
      },
      "source": [
        "<br>\n",
        "This is a slice of the last row, and only every other element."
      ]
    },
    {
      "cell_type": "code",
      "execution_count": null,
      "metadata": {
        "collapsed": true,
        "id": "DuWZCUHWNaKb"
      },
      "outputs": [],
      "source": [
        "r[-1, ::2]"
      ]
    },
    {
      "cell_type": "markdown",
      "metadata": {
        "id": "nGxgkqjQNaKb"
      },
      "source": [
        "<br>\n",
        "We can also perform conditional indexing. Here we are selecting values from the array that are greater than 30. (Also see `np.where`)"
      ]
    },
    {
      "cell_type": "code",
      "execution_count": null,
      "metadata": {
        "collapsed": true,
        "id": "4IgdFxtENaKb"
      },
      "outputs": [],
      "source": [
        "r[r > 30]"
      ]
    },
    {
      "cell_type": "markdown",
      "metadata": {
        "id": "mXnv2XAKNaKb"
      },
      "source": [
        "<br>\n",
        "Here we are assigning all values in the array that are greater than 30 to the value of 30."
      ]
    },
    {
      "cell_type": "code",
      "execution_count": null,
      "metadata": {
        "collapsed": true,
        "id": "sL6Bm2CFNaKb"
      },
      "outputs": [],
      "source": [
        "r[r > 30] = 30\n",
        "r"
      ]
    },
    {
      "cell_type": "markdown",
      "metadata": {
        "id": "c7MyB9l3NaKb"
      },
      "source": [
        "<br>\n",
        "## Copying Data"
      ]
    },
    {
      "cell_type": "markdown",
      "metadata": {
        "id": "SZC-SURnNaKb"
      },
      "source": [
        "Be careful with copying and modifying arrays in NumPy!\n",
        "\n",
        "\n",
        "`r2` is a slice of `r`"
      ]
    },
    {
      "cell_type": "code",
      "execution_count": null,
      "metadata": {
        "collapsed": true,
        "id": "zakt1_s7NaKb"
      },
      "outputs": [],
      "source": [
        "r2 = r[:3,:3]\n",
        "r2"
      ]
    },
    {
      "cell_type": "markdown",
      "metadata": {
        "id": "tbttwovcNaKc"
      },
      "source": [
        "<br>\n",
        "Set this slice's values to zero ([:] selects the entire array)"
      ]
    },
    {
      "cell_type": "code",
      "execution_count": null,
      "metadata": {
        "collapsed": true,
        "id": "1NEX2kpBNaKc"
      },
      "outputs": [],
      "source": [
        "r2[:] = 0\n",
        "r2"
      ]
    },
    {
      "cell_type": "markdown",
      "metadata": {
        "id": "CZqn5TZbNaKc"
      },
      "source": [
        "<br>\n",
        "`r` has also been changed!"
      ]
    },
    {
      "cell_type": "code",
      "execution_count": null,
      "metadata": {
        "collapsed": true,
        "id": "J4GxHx8TNaKc"
      },
      "outputs": [],
      "source": [
        "r"
      ]
    },
    {
      "cell_type": "markdown",
      "metadata": {
        "id": "iK8mLv8bNaKc"
      },
      "source": [
        "<br>\n",
        "To avoid this, use `r.copy` to create a copy that will not affect the original array"
      ]
    },
    {
      "cell_type": "code",
      "execution_count": null,
      "metadata": {
        "collapsed": true,
        "id": "KbEbQhYmNaKc"
      },
      "outputs": [],
      "source": [
        "r_copy = r.copy()\n",
        "r_copy"
      ]
    },
    {
      "cell_type": "markdown",
      "metadata": {
        "id": "s96jCjdDNaKc"
      },
      "source": [
        "<br>\n",
        "Now when r_copy is modified, r will not be changed."
      ]
    },
    {
      "cell_type": "code",
      "execution_count": null,
      "metadata": {
        "collapsed": true,
        "id": "4v_AvIm_NaKc"
      },
      "outputs": [],
      "source": [
        "r_copy[:] = 10\n",
        "print(r_copy, '\\n')\n",
        "print(r)"
      ]
    },
    {
      "cell_type": "markdown",
      "metadata": {
        "id": "LEsW7Q4fNaKc"
      },
      "source": [
        "<br>\n",
        "### Iterating Over Arrays"
      ]
    },
    {
      "cell_type": "markdown",
      "metadata": {
        "id": "2Cj6c28TNaKd"
      },
      "source": [
        "Let's create a new 4 by 3 array of random numbers 0-9."
      ]
    },
    {
      "cell_type": "code",
      "execution_count": null,
      "metadata": {
        "collapsed": true,
        "id": "N93EPsmINaKd"
      },
      "outputs": [],
      "source": [
        "test = np.random.randint(0, 10, (4,3))\n",
        "test"
      ]
    },
    {
      "cell_type": "markdown",
      "metadata": {
        "id": "xvHXe28RNaKd"
      },
      "source": [
        "<br>\n",
        "Iterate by row:"
      ]
    },
    {
      "cell_type": "code",
      "execution_count": null,
      "metadata": {
        "collapsed": true,
        "id": "uytD2O_INaKd"
      },
      "outputs": [],
      "source": [
        "for row in test:\n",
        "    print(row)"
      ]
    },
    {
      "cell_type": "markdown",
      "metadata": {
        "id": "0yM-Q00TNaKd"
      },
      "source": [
        "<br>\n",
        "Iterate by index:"
      ]
    },
    {
      "cell_type": "code",
      "execution_count": null,
      "metadata": {
        "collapsed": true,
        "id": "A-4itBDHNaKd"
      },
      "outputs": [],
      "source": [
        "for i in range(len(test)):\n",
        "    print(test[i])"
      ]
    },
    {
      "cell_type": "markdown",
      "metadata": {
        "id": "WuBix7MUNaKd"
      },
      "source": [
        "<br>\n",
        "Iterate by row and index:"
      ]
    },
    {
      "cell_type": "code",
      "execution_count": null,
      "metadata": {
        "collapsed": true,
        "id": "FyyWDZqENaKd"
      },
      "outputs": [],
      "source": [
        "for i, row in enumerate(test):\n",
        "    print('row', i, 'is', row)"
      ]
    },
    {
      "cell_type": "markdown",
      "metadata": {
        "id": "-Np2YtphNaKe"
      },
      "source": [
        "<br>\n",
        "Use `zip` to iterate over multiple iterables."
      ]
    },
    {
      "cell_type": "code",
      "execution_count": null,
      "metadata": {
        "collapsed": true,
        "id": "Wo9hlNTdNaKe"
      },
      "outputs": [],
      "source": [
        "test2 = test**2\n",
        "test2"
      ]
    },
    {
      "cell_type": "code",
      "execution_count": null,
      "metadata": {
        "collapsed": true,
        "id": "rXvfp45qNaKe"
      },
      "outputs": [],
      "source": [
        "for i, j in zip(test, test2):\n",
        "    print(i,'+',j,'=',i+j)"
      ]
    }
  ],
  "metadata": {
    "kernelspec": {
      "display_name": "Python 3 (UM)",
      "language": "python",
      "name": "logging"
    },
    "language_info": {
      "file_extension": ".py",
      "mimetype": "text/x-python",
      "name": "python"
    },
    "colab": {
      "name": "Week 1.ipynb",
      "provenance": [],
      "include_colab_link": true
    }
  },
  "nbformat": 4,
  "nbformat_minor": 0
}