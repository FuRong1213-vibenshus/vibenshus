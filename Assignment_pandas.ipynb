{
  "cells": [
    {
      "cell_type": "markdown",
      "metadata": {
        "id": "view-in-github",
        "colab_type": "text"
      },
      "source": [
        "<a href=\"https://colab.research.google.com/github/FuRong1213-vibenshus/vibenshus/blob/master/Assignment_pandas.ipynb\" target=\"_parent\"><img src=\"https://colab.research.google.com/assets/colab-badge.svg\" alt=\"Open In Colab\"/></a>"
      ]
    },
    {
      "cell_type": "markdown",
      "metadata": {
        "id": "CIq-yb4bO3Cw"
      },
      "source": [
        "---\n",
        "\n",
        "_You are currently looking at **version 1.2** of this notebook. To download notebooks and datafiles, as well as get help on Jupyter notebooks in the Coursera platform, visit the [Jupyter Notebook FAQ](https://www.coursera.org/learn/python-data-analysis/resources/0dhYG) course resource._\n",
        "\n",
        "---"
      ]
    },
    {
      "cell_type": "markdown",
      "metadata": {
        "id": "bZ7eqjZ3O3C1"
      },
      "source": [
        "# Assignment 2 - Pandas Introduction\n",
        "All questions are weighted the same in this assignment.\n",
        "## Part 1\n",
        "The following code loads the olympics dataset (olympics.csv), which was derrived from the Wikipedia entry on [All Time Olympic Games Medals](https://en.wikipedia.org/wiki/All-time_Olympic_Games_medal_table), and does some basic data cleaning. \n",
        "\n",
        "The columns are organized as # of Summer games, Summer medals, # of Winter games, Winter medals, total # number of games, total # of medals. Use this dataset to answer the questions below."
      ]
    },
    {
      "cell_type": "code",
      "source": [
        "from google.colab import files\n",
        "uploaded = files.upload()"
      ],
      "metadata": {
        "colab": {
          "resources": {
            "http://localhost:8080/nbextensions/google.colab/files.js": {
              "data": "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",
              "ok": true,
              "headers": [
                [
                  "content-type",
                  "application/javascript"
                ]
              ],
              "status": 200,
              "status_text": ""
            }
          },
          "base_uri": "https://localhost:8080/",
          "height": 74
        },
        "id": "dWoDaKtBPif2",
        "outputId": "8f3a7657-f8f9-4f94-9397-70f5d831e7be"
      },
      "execution_count": 2,
      "outputs": [
        {
          "output_type": "display_data",
          "data": {
            "text/plain": [
              "<IPython.core.display.HTML object>"
            ],
            "text/html": [
              "\n",
              "     <input type=\"file\" id=\"files-d899714e-2adf-40a4-b040-d5249a95534f\" name=\"files[]\" multiple disabled\n",
              "        style=\"border:none\" />\n",
              "     <output id=\"result-d899714e-2adf-40a4-b040-d5249a95534f\">\n",
              "      Upload widget is only available when the cell has been executed in the\n",
              "      current browser session. Please rerun this cell to enable.\n",
              "      </output>\n",
              "      <script src=\"/nbextensions/google.colab/files.js\"></script> "
            ]
          },
          "metadata": {}
        },
        {
          "output_type": "stream",
          "name": "stdout",
          "text": [
            "Saving olympics.csv to olympics.csv\n"
          ]
        }
      ]
    },
    {
      "cell_type": "code",
      "execution_count": 3,
      "metadata": {
        "nbgrader": {
          "grade": false,
          "grade_id": "1",
          "locked": false,
          "solution": false
        },
        "umich_question": "prolog-000",
        "colab": {
          "base_uri": "https://localhost:8080/",
          "height": 287
        },
        "id": "ZrBJGlnsO3C2",
        "outputId": "9744161a-754d-486f-c3ba-8d0d76ac81e4"
      },
      "outputs": [
        {
          "output_type": "execute_result",
          "data": {
            "text/plain": [
              "             # Summer  Gold  Silver  Bronze  Total  # Winter  Gold.1  \\\n",
              "Afghanistan        13     0       0       2      2         0       0   \n",
              "Algeria            12     5       2       8     15         3       0   \n",
              "Argentina          23    18      24      28     70        18       0   \n",
              "Armenia             5     1       2       9     12         6       0   \n",
              "Australasia         2     3       4       5     12         0       0   \n",
              "\n",
              "             Silver.1  Bronze.1  Total.1  # Games  Gold.2  Silver.2  Bronze.2  \\\n",
              "Afghanistan         0         0        0       13       0         0         2   \n",
              "Algeria             0         0        0       15       5         2         8   \n",
              "Argentina           0         0        0       41      18        24        28   \n",
              "Armenia             0         0        0       11       1         2         9   \n",
              "Australasia         0         0        0        2       3         4         5   \n",
              "\n",
              "             Combined total   ID  \n",
              "Afghanistan               2  AFG  \n",
              "Algeria                  15  ALG  \n",
              "Argentina                70  ARG  \n",
              "Armenia                  12  ARM  \n",
              "Australasia              12  ANZ  "
            ],
            "text/html": [
              "\n",
              "  <div id=\"df-799c5eee-a46d-48c0-a459-644a7a88606e\">\n",
              "    <div class=\"colab-df-container\">\n",
              "      <div>\n",
              "<style scoped>\n",
              "    .dataframe tbody tr th:only-of-type {\n",
              "        vertical-align: middle;\n",
              "    }\n",
              "\n",
              "    .dataframe tbody tr th {\n",
              "        vertical-align: top;\n",
              "    }\n",
              "\n",
              "    .dataframe thead th {\n",
              "        text-align: right;\n",
              "    }\n",
              "</style>\n",
              "<table border=\"1\" class=\"dataframe\">\n",
              "  <thead>\n",
              "    <tr style=\"text-align: right;\">\n",
              "      <th></th>\n",
              "      <th># Summer</th>\n",
              "      <th>Gold</th>\n",
              "      <th>Silver</th>\n",
              "      <th>Bronze</th>\n",
              "      <th>Total</th>\n",
              "      <th># Winter</th>\n",
              "      <th>Gold.1</th>\n",
              "      <th>Silver.1</th>\n",
              "      <th>Bronze.1</th>\n",
              "      <th>Total.1</th>\n",
              "      <th># Games</th>\n",
              "      <th>Gold.2</th>\n",
              "      <th>Silver.2</th>\n",
              "      <th>Bronze.2</th>\n",
              "      <th>Combined total</th>\n",
              "      <th>ID</th>\n",
              "    </tr>\n",
              "  </thead>\n",
              "  <tbody>\n",
              "    <tr>\n",
              "      <th>Afghanistan</th>\n",
              "      <td>13</td>\n",
              "      <td>0</td>\n",
              "      <td>0</td>\n",
              "      <td>2</td>\n",
              "      <td>2</td>\n",
              "      <td>0</td>\n",
              "      <td>0</td>\n",
              "      <td>0</td>\n",
              "      <td>0</td>\n",
              "      <td>0</td>\n",
              "      <td>13</td>\n",
              "      <td>0</td>\n",
              "      <td>0</td>\n",
              "      <td>2</td>\n",
              "      <td>2</td>\n",
              "      <td>AFG</td>\n",
              "    </tr>\n",
              "    <tr>\n",
              "      <th>Algeria</th>\n",
              "      <td>12</td>\n",
              "      <td>5</td>\n",
              "      <td>2</td>\n",
              "      <td>8</td>\n",
              "      <td>15</td>\n",
              "      <td>3</td>\n",
              "      <td>0</td>\n",
              "      <td>0</td>\n",
              "      <td>0</td>\n",
              "      <td>0</td>\n",
              "      <td>15</td>\n",
              "      <td>5</td>\n",
              "      <td>2</td>\n",
              "      <td>8</td>\n",
              "      <td>15</td>\n",
              "      <td>ALG</td>\n",
              "    </tr>\n",
              "    <tr>\n",
              "      <th>Argentina</th>\n",
              "      <td>23</td>\n",
              "      <td>18</td>\n",
              "      <td>24</td>\n",
              "      <td>28</td>\n",
              "      <td>70</td>\n",
              "      <td>18</td>\n",
              "      <td>0</td>\n",
              "      <td>0</td>\n",
              "      <td>0</td>\n",
              "      <td>0</td>\n",
              "      <td>41</td>\n",
              "      <td>18</td>\n",
              "      <td>24</td>\n",
              "      <td>28</td>\n",
              "      <td>70</td>\n",
              "      <td>ARG</td>\n",
              "    </tr>\n",
              "    <tr>\n",
              "      <th>Armenia</th>\n",
              "      <td>5</td>\n",
              "      <td>1</td>\n",
              "      <td>2</td>\n",
              "      <td>9</td>\n",
              "      <td>12</td>\n",
              "      <td>6</td>\n",
              "      <td>0</td>\n",
              "      <td>0</td>\n",
              "      <td>0</td>\n",
              "      <td>0</td>\n",
              "      <td>11</td>\n",
              "      <td>1</td>\n",
              "      <td>2</td>\n",
              "      <td>9</td>\n",
              "      <td>12</td>\n",
              "      <td>ARM</td>\n",
              "    </tr>\n",
              "    <tr>\n",
              "      <th>Australasia</th>\n",
              "      <td>2</td>\n",
              "      <td>3</td>\n",
              "      <td>4</td>\n",
              "      <td>5</td>\n",
              "      <td>12</td>\n",
              "      <td>0</td>\n",
              "      <td>0</td>\n",
              "      <td>0</td>\n",
              "      <td>0</td>\n",
              "      <td>0</td>\n",
              "      <td>2</td>\n",
              "      <td>3</td>\n",
              "      <td>4</td>\n",
              "      <td>5</td>\n",
              "      <td>12</td>\n",
              "      <td>ANZ</td>\n",
              "    </tr>\n",
              "  </tbody>\n",
              "</table>\n",
              "</div>\n",
              "      <button class=\"colab-df-convert\" onclick=\"convertToInteractive('df-799c5eee-a46d-48c0-a459-644a7a88606e')\"\n",
              "              title=\"Convert this dataframe to an interactive table.\"\n",
              "              style=\"display:none;\">\n",
              "        \n",
              "  <svg xmlns=\"http://www.w3.org/2000/svg\" height=\"24px\"viewBox=\"0 0 24 24\"\n",
              "       width=\"24px\">\n",
              "    <path d=\"M0 0h24v24H0V0z\" fill=\"none\"/>\n",
              "    <path d=\"M18.56 5.44l.94 2.06.94-2.06 2.06-.94-2.06-.94-.94-2.06-.94 2.06-2.06.94zm-11 1L8.5 8.5l.94-2.06 2.06-.94-2.06-.94L8.5 2.5l-.94 2.06-2.06.94zm10 10l.94 2.06.94-2.06 2.06-.94-2.06-.94-.94-2.06-.94 2.06-2.06.94z\"/><path d=\"M17.41 7.96l-1.37-1.37c-.4-.4-.92-.59-1.43-.59-.52 0-1.04.2-1.43.59L10.3 9.45l-7.72 7.72c-.78.78-.78 2.05 0 2.83L4 21.41c.39.39.9.59 1.41.59.51 0 1.02-.2 1.41-.59l7.78-7.78 2.81-2.81c.8-.78.8-2.07 0-2.86zM5.41 20L4 18.59l7.72-7.72 1.47 1.35L5.41 20z\"/>\n",
              "  </svg>\n",
              "      </button>\n",
              "      \n",
              "  <style>\n",
              "    .colab-df-container {\n",
              "      display:flex;\n",
              "      flex-wrap:wrap;\n",
              "      gap: 12px;\n",
              "    }\n",
              "\n",
              "    .colab-df-convert {\n",
              "      background-color: #E8F0FE;\n",
              "      border: none;\n",
              "      border-radius: 50%;\n",
              "      cursor: pointer;\n",
              "      display: none;\n",
              "      fill: #1967D2;\n",
              "      height: 32px;\n",
              "      padding: 0 0 0 0;\n",
              "      width: 32px;\n",
              "    }\n",
              "\n",
              "    .colab-df-convert:hover {\n",
              "      background-color: #E2EBFA;\n",
              "      box-shadow: 0px 1px 2px rgba(60, 64, 67, 0.3), 0px 1px 3px 1px rgba(60, 64, 67, 0.15);\n",
              "      fill: #174EA6;\n",
              "    }\n",
              "\n",
              "    [theme=dark] .colab-df-convert {\n",
              "      background-color: #3B4455;\n",
              "      fill: #D2E3FC;\n",
              "    }\n",
              "\n",
              "    [theme=dark] .colab-df-convert:hover {\n",
              "      background-color: #434B5C;\n",
              "      box-shadow: 0px 1px 3px 1px rgba(0, 0, 0, 0.15);\n",
              "      filter: drop-shadow(0px 1px 2px rgba(0, 0, 0, 0.3));\n",
              "      fill: #FFFFFF;\n",
              "    }\n",
              "  </style>\n",
              "\n",
              "      <script>\n",
              "        const buttonEl =\n",
              "          document.querySelector('#df-799c5eee-a46d-48c0-a459-644a7a88606e button.colab-df-convert');\n",
              "        buttonEl.style.display =\n",
              "          google.colab.kernel.accessAllowed ? 'block' : 'none';\n",
              "\n",
              "        async function convertToInteractive(key) {\n",
              "          const element = document.querySelector('#df-799c5eee-a46d-48c0-a459-644a7a88606e');\n",
              "          const dataTable =\n",
              "            await google.colab.kernel.invokeFunction('convertToInteractive',\n",
              "                                                     [key], {});\n",
              "          if (!dataTable) return;\n",
              "\n",
              "          const docLinkHtml = 'Like what you see? Visit the ' +\n",
              "            '<a target=\"_blank\" href=https://colab.research.google.com/notebooks/data_table.ipynb>data table notebook</a>'\n",
              "            + ' to learn more about interactive tables.';\n",
              "          element.innerHTML = '';\n",
              "          dataTable['output_type'] = 'display_data';\n",
              "          await google.colab.output.renderOutput(dataTable, element);\n",
              "          const docLink = document.createElement('div');\n",
              "          docLink.innerHTML = docLinkHtml;\n",
              "          element.appendChild(docLink);\n",
              "        }\n",
              "      </script>\n",
              "    </div>\n",
              "  </div>\n",
              "  "
            ]
          },
          "metadata": {},
          "execution_count": 3
        }
      ],
      "source": [
        "import pandas as pd\n",
        "\n",
        "df = pd.read_csv('olympics.csv', index_col=0, skiprows=1)\n",
        "\n",
        "for col in df.columns:\n",
        "    if col[:2]=='01':\n",
        "        df.rename(columns={col:'Gold'+col[4:]}, inplace=True)\n",
        "    if col[:2]=='02':\n",
        "        df.rename(columns={col:'Silver'+col[4:]}, inplace=True)\n",
        "    if col[:2]=='03':\n",
        "        df.rename(columns={col:'Bronze'+col[4:]}, inplace=True)\n",
        "    if col[:1]=='№':\n",
        "        df.rename(columns={col:'#'+col[1:]}, inplace=True)\n",
        "\n",
        "names_ids = df.index.str.split('\\s\\(') # split the index by '('\n",
        "\n",
        "df.index = names_ids.str[0] # the [0] element is the country name (new index) \n",
        "df['ID'] = names_ids.str[1].str[:3] # the [1] element is the abbreviation or ID (take first 3 characters from that)\n",
        "\n",
        "df = df.drop('Totals')\n",
        "df.head()"
      ]
    },
    {
      "cell_type": "markdown",
      "metadata": {
        "id": "S69Jjsj_O3C5"
      },
      "source": [
        "### Question 0 (Example)\n",
        "\n",
        "What is the first country in df?\n",
        "\n",
        "*This function should return a Series.*"
      ]
    },
    {
      "cell_type": "code",
      "execution_count": 4,
      "metadata": {
        "umich_question": "000",
        "colab": {
          "base_uri": "https://localhost:8080/"
        },
        "id": "_uxPNEemO3C6",
        "outputId": "796089e4-77b6-4639-d37d-84e62398369e"
      },
      "outputs": [
        {
          "output_type": "execute_result",
          "data": {
            "text/plain": [
              "# Summer           13\n",
              "Gold                0\n",
              "Silver              0\n",
              "Bronze              2\n",
              "Total               2\n",
              "# Winter            0\n",
              "Gold.1              0\n",
              "Silver.1            0\n",
              "Bronze.1            0\n",
              "Total.1             0\n",
              "# Games            13\n",
              "Gold.2              0\n",
              "Silver.2            0\n",
              "Bronze.2            2\n",
              "Combined total      2\n",
              "ID                AFG\n",
              "Name: Afghanistan, dtype: object"
            ]
          },
          "metadata": {},
          "execution_count": 4
        }
      ],
      "source": [
        "# You should write your whole answer within the function provided. The autograder will call\n",
        "# this function and compare the return value against the correct solution value\n",
        "def answer_zero():\n",
        "    # This function returns the row for Afghanistan, which is a Series object. The assignment\n",
        "    # question description will tell you the general format the autograder is expecting\n",
        "    return df.iloc[0]\n",
        "\n",
        "# You can examine what your function returns by calling it in the cell. If you have questions\n",
        "# about the assignment formats, check out the discussion forums for any FAQs\n",
        "answer_zero() "
      ]
    },
    {
      "cell_type": "markdown",
      "metadata": {
        "id": "sZCJjEjwO3C7"
      },
      "source": [
        "### Question 1\n",
        "Which country has won the most gold medals in summer games?\n",
        "\n",
        "*This function should return a single string value.*"
      ]
    },
    {
      "cell_type": "code",
      "execution_count": null,
      "metadata": {
        "nbgrader": {
          "grade": false,
          "locked": false,
          "solution": false
        },
        "umich_part_id": "001",
        "umich_partlist_id": "001",
        "id": "oLvMR1teO3C8",
        "outputId": "8bf39efe-cca0-49ba-e585-200d0c47c173"
      },
      "outputs": [
        {
          "data": {
            "text/plain": [
              "'United States'"
            ]
          },
          "execution_count": 16,
          "metadata": {},
          "output_type": "execute_result"
        }
      ],
      "source": [
        "def answer_one():\n",
        "    return df.loc[df['Gold'].idxmax()].name"
      ]
    },
    {
      "cell_type": "markdown",
      "metadata": {
        "id": "SuU-0uvPO3C8"
      },
      "source": [
        "### Question 2\n",
        "Which country had the biggest difference between their summer and winter gold medal counts?\n",
        "\n",
        "*This function should return a single string value.*"
      ]
    },
    {
      "cell_type": "code",
      "execution_count": null,
      "metadata": {
        "umich_part_id": "002",
        "umich_partlist_id": "001",
        "id": "kdWj8bTvO3C9",
        "outputId": "7cf361a7-4508-4250-b51f-a3c56a2f0bee"
      },
      "outputs": [
        {
          "data": {
            "text/plain": [
              "'United States'"
            ]
          },
          "execution_count": 17,
          "metadata": {},
          "output_type": "execute_result"
        }
      ],
      "source": [
        "def answer_two():\n",
        "    df['diff'] = abs(df['Gold'] - df['Gold.1'])\n",
        "    return df.loc[df['diff'].idxmax()].name"
      ]
    },
    {
      "cell_type": "markdown",
      "metadata": {
        "id": "yMEW7-tWO3C9"
      },
      "source": [
        "### Question 3\n",
        "Which country has the biggest difference between their summer gold medal counts and winter gold medal counts relative to their total gold medal count? \n",
        "\n",
        "$$\\frac{Summer~Gold - Winter~Gold}{Total~Gold}$$\n",
        "\n",
        "Only include countries that have won at least 1 gold in both summer and winter.\n",
        "\n",
        "*This function should return a single string value.*"
      ]
    },
    {
      "cell_type": "code",
      "execution_count": null,
      "metadata": {
        "umich_part_id": "003",
        "umich_partlist_id": "001",
        "id": "gJHgCATTO3C-",
        "outputId": "329a5d71-5071-44cb-f159-5bdbe4562dec"
      },
      "outputs": [
        {
          "data": {
            "text/plain": [
              "'Bulgaria'"
            ]
          },
          "execution_count": 24,
          "metadata": {},
          "output_type": "execute_result"
        }
      ],
      "source": [
        "def answer_three():\n",
        "    df_gold = df[(df['Gold']>0) & (df['Gold.1']>0)]\n",
        "    df_gold['diff'] = (df['Gold'] - df['Gold.1'])/df['Gold.2']\n",
        "    return df_gold.loc[df_gold['diff'].idxmax()].name"
      ]
    },
    {
      "cell_type": "markdown",
      "metadata": {
        "id": "EwnfpaYtO3C-"
      },
      "source": [
        "### Question 4\n",
        "Write a function that creates a Series called \"Points\" which is a weighted value where each gold medal (`Gold.2`) counts for 3 points, silver medals (`Silver.2`) for 2 points, and bronze medals (`Bronze.2`) for 1 point. The function should return only the column (a Series object) which you created, with the country names as indices.\n",
        "\n",
        "*This function should return a Series named `Points` of length 146*"
      ]
    },
    {
      "cell_type": "code",
      "execution_count": null,
      "metadata": {
        "umich_part_id": "004",
        "umich_partlist_id": "001",
        "id": "Z64t8B2EO3C-",
        "outputId": "f99fe00e-40ac-462d-d5b8-35f8db0dbf07"
      },
      "outputs": [
        {
          "data": {
            "text/plain": [
              "146"
            ]
          },
          "execution_count": 16,
          "metadata": {},
          "output_type": "execute_result"
        }
      ],
      "source": [
        "def answer_four():\n",
        "    pts = df['Gold.2']*3 + df['Silver.2']*2 + df['Bronze.2']*1\n",
        "    Points = pd.Series(pts, index=df.index)\n",
        "    return Points"
      ]
    },
    {
      "cell_type": "markdown",
      "metadata": {
        "id": "306D5_zLO3C_"
      },
      "source": [
        "## Part 2\n",
        "For the next set of questions, we will be using census data from the [United States Census Bureau](http://www.census.gov). Counties are political and geographic subdivisions of states in the United States. This dataset contains population data for counties and states in the US from 2010 to 2015. [See this document](https://www2.census.gov/programs-surveys/popest/technical-documentation/file-layouts/2010-2015/co-est2015-alldata.pdf) for a description of the variable names.\n",
        "\n",
        "The census dataset (census.csv) should be loaded as census_df. Answer questions using this as appropriate.\n",
        "\n",
        "### Question 5\n",
        "Which state has the most counties in it? (hint: consider the sumlevel key carefully! You'll need this for future questions too...)\n",
        "\n",
        "*This function should return a single string value.*"
      ]
    },
    {
      "cell_type": "code",
      "execution_count": null,
      "metadata": {
        "umich_question": "prolog-005",
        "id": "jgPZpnkmO3C_",
        "outputId": "793212bf-08a1-464a-d0bd-bd4327c1774a"
      },
      "outputs": [
        {
          "data": {
            "text/html": [
              "<div>\n",
              "<table border=\"1\" class=\"dataframe\">\n",
              "  <thead>\n",
              "    <tr style=\"text-align: right;\">\n",
              "      <th></th>\n",
              "      <th>SUMLEV</th>\n",
              "      <th>REGION</th>\n",
              "      <th>DIVISION</th>\n",
              "      <th>STATE</th>\n",
              "      <th>COUNTY</th>\n",
              "      <th>STNAME</th>\n",
              "      <th>CTYNAME</th>\n",
              "      <th>CENSUS2010POP</th>\n",
              "      <th>ESTIMATESBASE2010</th>\n",
              "      <th>POPESTIMATE2010</th>\n",
              "      <th>...</th>\n",
              "      <th>RDOMESTICMIG2011</th>\n",
              "      <th>RDOMESTICMIG2012</th>\n",
              "      <th>RDOMESTICMIG2013</th>\n",
              "      <th>RDOMESTICMIG2014</th>\n",
              "      <th>RDOMESTICMIG2015</th>\n",
              "      <th>RNETMIG2011</th>\n",
              "      <th>RNETMIG2012</th>\n",
              "      <th>RNETMIG2013</th>\n",
              "      <th>RNETMIG2014</th>\n",
              "      <th>RNETMIG2015</th>\n",
              "    </tr>\n",
              "  </thead>\n",
              "  <tbody>\n",
              "    <tr>\n",
              "      <th>0</th>\n",
              "      <td>40</td>\n",
              "      <td>3</td>\n",
              "      <td>6</td>\n",
              "      <td>1</td>\n",
              "      <td>0</td>\n",
              "      <td>Alabama</td>\n",
              "      <td>Alabama</td>\n",
              "      <td>4779736</td>\n",
              "      <td>4780127</td>\n",
              "      <td>4785161</td>\n",
              "      <td>...</td>\n",
              "      <td>0.002295</td>\n",
              "      <td>-0.193196</td>\n",
              "      <td>0.381066</td>\n",
              "      <td>0.582002</td>\n",
              "      <td>-0.467369</td>\n",
              "      <td>1.030015</td>\n",
              "      <td>0.826644</td>\n",
              "      <td>1.383282</td>\n",
              "      <td>1.724718</td>\n",
              "      <td>0.712594</td>\n",
              "    </tr>\n",
              "    <tr>\n",
              "      <th>1</th>\n",
              "      <td>50</td>\n",
              "      <td>3</td>\n",
              "      <td>6</td>\n",
              "      <td>1</td>\n",
              "      <td>1</td>\n",
              "      <td>Alabama</td>\n",
              "      <td>Autauga County</td>\n",
              "      <td>54571</td>\n",
              "      <td>54571</td>\n",
              "      <td>54660</td>\n",
              "      <td>...</td>\n",
              "      <td>7.242091</td>\n",
              "      <td>-2.915927</td>\n",
              "      <td>-3.012349</td>\n",
              "      <td>2.265971</td>\n",
              "      <td>-2.530799</td>\n",
              "      <td>7.606016</td>\n",
              "      <td>-2.626146</td>\n",
              "      <td>-2.722002</td>\n",
              "      <td>2.592270</td>\n",
              "      <td>-2.187333</td>\n",
              "    </tr>\n",
              "    <tr>\n",
              "      <th>2</th>\n",
              "      <td>50</td>\n",
              "      <td>3</td>\n",
              "      <td>6</td>\n",
              "      <td>1</td>\n",
              "      <td>3</td>\n",
              "      <td>Alabama</td>\n",
              "      <td>Baldwin County</td>\n",
              "      <td>182265</td>\n",
              "      <td>182265</td>\n",
              "      <td>183193</td>\n",
              "      <td>...</td>\n",
              "      <td>14.832960</td>\n",
              "      <td>17.647293</td>\n",
              "      <td>21.845705</td>\n",
              "      <td>19.243287</td>\n",
              "      <td>17.197872</td>\n",
              "      <td>15.844176</td>\n",
              "      <td>18.559627</td>\n",
              "      <td>22.727626</td>\n",
              "      <td>20.317142</td>\n",
              "      <td>18.293499</td>\n",
              "    </tr>\n",
              "    <tr>\n",
              "      <th>3</th>\n",
              "      <td>50</td>\n",
              "      <td>3</td>\n",
              "      <td>6</td>\n",
              "      <td>1</td>\n",
              "      <td>5</td>\n",
              "      <td>Alabama</td>\n",
              "      <td>Barbour County</td>\n",
              "      <td>27457</td>\n",
              "      <td>27457</td>\n",
              "      <td>27341</td>\n",
              "      <td>...</td>\n",
              "      <td>-4.728132</td>\n",
              "      <td>-2.500690</td>\n",
              "      <td>-7.056824</td>\n",
              "      <td>-3.904217</td>\n",
              "      <td>-10.543299</td>\n",
              "      <td>-4.874741</td>\n",
              "      <td>-2.758113</td>\n",
              "      <td>-7.167664</td>\n",
              "      <td>-3.978583</td>\n",
              "      <td>-10.543299</td>\n",
              "    </tr>\n",
              "    <tr>\n",
              "      <th>4</th>\n",
              "      <td>50</td>\n",
              "      <td>3</td>\n",
              "      <td>6</td>\n",
              "      <td>1</td>\n",
              "      <td>7</td>\n",
              "      <td>Alabama</td>\n",
              "      <td>Bibb County</td>\n",
              "      <td>22915</td>\n",
              "      <td>22919</td>\n",
              "      <td>22861</td>\n",
              "      <td>...</td>\n",
              "      <td>-5.527043</td>\n",
              "      <td>-5.068871</td>\n",
              "      <td>-6.201001</td>\n",
              "      <td>-0.177537</td>\n",
              "      <td>0.177258</td>\n",
              "      <td>-5.088389</td>\n",
              "      <td>-4.363636</td>\n",
              "      <td>-5.403729</td>\n",
              "      <td>0.754533</td>\n",
              "      <td>1.107861</td>\n",
              "    </tr>\n",
              "  </tbody>\n",
              "</table>\n",
              "<p>5 rows × 100 columns</p>\n",
              "</div>"
            ],
            "text/plain": [
              "   SUMLEV  REGION  DIVISION  STATE  COUNTY   STNAME         CTYNAME  \\\n",
              "0      40       3         6      1       0  Alabama         Alabama   \n",
              "1      50       3         6      1       1  Alabama  Autauga County   \n",
              "2      50       3         6      1       3  Alabama  Baldwin County   \n",
              "3      50       3         6      1       5  Alabama  Barbour County   \n",
              "4      50       3         6      1       7  Alabama     Bibb County   \n",
              "\n",
              "   CENSUS2010POP  ESTIMATESBASE2010  POPESTIMATE2010     ...       \\\n",
              "0        4779736            4780127          4785161     ...        \n",
              "1          54571              54571            54660     ...        \n",
              "2         182265             182265           183193     ...        \n",
              "3          27457              27457            27341     ...        \n",
              "4          22915              22919            22861     ...        \n",
              "\n",
              "   RDOMESTICMIG2011  RDOMESTICMIG2012  RDOMESTICMIG2013  RDOMESTICMIG2014  \\\n",
              "0          0.002295         -0.193196          0.381066          0.582002   \n",
              "1          7.242091         -2.915927         -3.012349          2.265971   \n",
              "2         14.832960         17.647293         21.845705         19.243287   \n",
              "3         -4.728132         -2.500690         -7.056824         -3.904217   \n",
              "4         -5.527043         -5.068871         -6.201001         -0.177537   \n",
              "\n",
              "   RDOMESTICMIG2015  RNETMIG2011  RNETMIG2012  RNETMIG2013  RNETMIG2014  \\\n",
              "0         -0.467369     1.030015     0.826644     1.383282     1.724718   \n",
              "1         -2.530799     7.606016    -2.626146    -2.722002     2.592270   \n",
              "2         17.197872    15.844176    18.559627    22.727626    20.317142   \n",
              "3        -10.543299    -4.874741    -2.758113    -7.167664    -3.978583   \n",
              "4          0.177258    -5.088389    -4.363636    -5.403729     0.754533   \n",
              "\n",
              "   RNETMIG2015  \n",
              "0     0.712594  \n",
              "1    -2.187333  \n",
              "2    18.293499  \n",
              "3   -10.543299  \n",
              "4     1.107861  \n",
              "\n",
              "[5 rows x 100 columns]"
            ]
          },
          "execution_count": 3,
          "metadata": {},
          "output_type": "execute_result"
        }
      ],
      "source": [
        "census_df = pd.read_csv('census.csv')\n",
        "census_df.head()"
      ]
    },
    {
      "cell_type": "code",
      "execution_count": null,
      "metadata": {
        "id": "_d4Oi80jO3C_",
        "outputId": "b97ad242-8cef-4bb5-e920-4889192280cb"
      },
      "outputs": [
        {
          "data": {
            "text/plain": [
              "3193"
            ]
          },
          "execution_count": 45,
          "metadata": {},
          "output_type": "execute_result"
        }
      ],
      "source": [
        "len(census_df)"
      ]
    },
    {
      "cell_type": "code",
      "execution_count": null,
      "metadata": {
        "umich_part_id": "005",
        "umich_partlist_id": "002",
        "id": "F5sBnhwEO3C_",
        "outputId": "dfafb139-9ef1-4cb2-bb3d-9032bfc7516c"
      },
      "outputs": [
        {
          "data": {
            "text/plain": [
              "'Texas'"
            ]
          },
          "execution_count": 39,
          "metadata": {},
          "output_type": "execute_result"
        }
      ],
      "source": [
        "def answer_five():\n",
        "    return census_df.groupby(['STNAME']).count()['COUNTY'].idxmax()"
      ]
    },
    {
      "cell_type": "markdown",
      "metadata": {
        "id": "KsQfV_uZO3DA"
      },
      "source": [
        "### Question 6\n",
        "**Only looking at the three most populous counties for each state**, what are the three most populous states (in order of highest population to lowest population)? Use `CENSUS2010POP`.\n",
        "\n",
        "*This function should return a list of string values.*"
      ]
    },
    {
      "cell_type": "code",
      "execution_count": null,
      "metadata": {
        "id": "gb56eQj-O3DA",
        "outputId": "4703a592-ce7b-4035-e359-97e50c5e5168"
      },
      "outputs": [
        {
          "name": "stdout",
          "output_type": "stream",
          "text": [
            "\n",
            "\n",
            "\n",
            "\n",
            "\n",
            "\n",
            "\n",
            "\n",
            "\n",
            "\n",
            "\n",
            "\n",
            "\n",
            "\n",
            "\n",
            "\n",
            "\n",
            "\n",
            "\n",
            "\n",
            "\n",
            "\n",
            "\n",
            "\n",
            "\n",
            "\n",
            "\n",
            "\n",
            "\n",
            "\n",
            "\n",
            "\n",
            "\n",
            "\n",
            "\n",
            "\n",
            "\n",
            "\n",
            "\n",
            "\n",
            "\n",
            "\n",
            "\n",
            "\n",
            "\n",
            "\n",
            "\n",
            "\n",
            "\n",
            "\n",
            "\n"
          ]
        },
        {
          "data": {
            "text/plain": [
              "['California', 'Texas', 'Illinois']"
            ]
          },
          "execution_count": 102,
          "metadata": {},
          "output_type": "execute_result"
        }
      ],
      "source": [
        "\n",
        "\n"
      ]
    },
    {
      "cell_type": "code",
      "execution_count": null,
      "metadata": {
        "umich_part_id": "006",
        "umich_partlist_id": "002",
        "id": "olmxr00rO3DA",
        "outputId": "900ec510-6177-4d71-8e2d-912878025d5f"
      },
      "outputs": [
        {
          "data": {
            "text/plain": [
              "['California', 'Texas', 'Illinois']"
            ]
          },
          "execution_count": 103,
          "metadata": {},
          "output_type": "execute_result"
        }
      ],
      "source": [
        "def answer_six():\n",
        "    import numpy\n",
        "    census_df_copy = census_df[census_df['SUMLEV'] ==50]\n",
        "    census_df_populous= census_df_copy.set_index(['STNAME'])\n",
        "    list_of_states = census_df_populous.index.unique()\n",
        "    sum_of_populous = pd.Series( [0]*len(list_of_states), index=list_of_states)\n",
        "    for state in list_of_states:\n",
        "        s = census_df_populous.loc[state]['CENSUS2010POP']\n",
        "        if isinstance( s, numpy.int64 ):\n",
        "            sum_of_populous[state]=s\n",
        "        else:\n",
        "            if len(s)>=3: \n",
        "                sum_of_populous[state]=s.sort_values(ascending=False)[:3].sum()\n",
        "            else:\n",
        "                sum_of_populous[state]=sum(s)\n",
        "    return list(sum_of_populous.sort_values(ascending=False)[:3].index)\n",
        "answer_six()"
      ]
    },
    {
      "cell_type": "markdown",
      "metadata": {
        "id": "55hJnAOPO3DA"
      },
      "source": [
        "### Question 7\n",
        "Which county has had the largest absolute change in population within the period 2010-2015? (Hint: population values are stored in columns POPESTIMATE2010 through POPESTIMATE2015, you need to consider all six columns.)\n",
        "\n",
        "e.g. If County Population in the 5 year period is 100, 120, 80, 105, 100, 130, then its largest change in the period would be |130-80| = 50.\n",
        "\n",
        "*This function should return a single string value.*"
      ]
    },
    {
      "cell_type": "code",
      "execution_count": null,
      "metadata": {
        "id": "FFoL_7PbO3DB",
        "outputId": "6ffc8ced-5bff-4f2a-86eb-d154c42e5d5a"
      },
      "outputs": [
        {
          "data": {
            "text/plain": [
              "'Texas'"
            ]
          },
          "execution_count": 58,
          "metadata": {},
          "output_type": "execute_result"
        }
      ],
      "source": [
        "\n",
        "\n",
        "\n",
        "\n"
      ]
    },
    {
      "cell_type": "code",
      "execution_count": null,
      "metadata": {
        "umich_part_id": "007",
        "umich_partlist_id": "002",
        "id": "WlMaO_-lO3DB",
        "outputId": "5f06d841-dd5d-45a5-c20c-371a48afe968"
      },
      "outputs": [
        {
          "data": {
            "text/plain": [
              "'Harris County'"
            ]
          },
          "execution_count": 13,
          "metadata": {},
          "output_type": "execute_result"
        }
      ],
      "source": [
        "def answer_seven():\n",
        "    import numpy\n",
        "    census_df_copy = census_df[census_df['SUMLEV'] ==50]\n",
        "    ctyname = list(census_df_copy['CTYNAME'])  \n",
        "    columns_to_keep = ['STNAME',\n",
        "                       'CTYNAME',\n",
        "                       'POPESTIMATE2010',\n",
        "                       'POPESTIMATE2011',\n",
        "                       'POPESTIMATE2012',\n",
        "                       'POPESTIMATE2013',\n",
        "                       'POPESTIMATE2014',\n",
        "                       'POPESTIMATE2015']\n",
        "    cty_populous_df = census_df_copy[columns_to_keep]\n",
        "    cty_populous_df = cty_populous_df.set_index(['STNAME','CTYNAME'])\n",
        "    diff_of_populous = pd.Series( [0]*len(cty_populous_df.index), index=cty_populous_df.index)\n",
        "    for i in cty_populous_df.index:\n",
        "        series1= cty_populous_df.loc[i].values.tolist()\n",
        "        diff_of_populous[i] =  max(series1) - min(series1)\n",
        "    return diff_of_populous.idxmax()[1]\n"
      ]
    },
    {
      "cell_type": "markdown",
      "metadata": {
        "id": "1fsG27R3O3DB"
      },
      "source": [
        "### Question 8\n",
        "In this datafile, the United States is broken up into four regions using the \"REGION\" column. \n",
        "\n",
        "Create a query that finds the counties that belong to regions 1 or 2, whose name starts with 'Washington', and whose POPESTIMATE2015 was greater than their POPESTIMATE 2014.\n",
        "\n",
        "*This function should return a 5x2 DataFrame with the columns = ['STNAME', 'CTYNAME'] and the same index ID as the census_df (sorted ascending by index).*"
      ]
    },
    {
      "cell_type": "code",
      "execution_count": null,
      "metadata": {
        "id": "3PWHSIdaO3DB",
        "outputId": "ad097a2c-9a40-4e3e-c640-f273afae9445"
      },
      "outputs": [
        {
          "name": "stdout",
          "output_type": "stream",
          "text": [
            "            STNAME            CTYNAME\n",
            "896           Iowa  Washington County\n",
            "1419     Minnesota  Washington County\n",
            "2345  Pennsylvania  Washington County\n",
            "2355  Rhode Island  Washington County\n",
            "3163     Wisconsin  Washington County\n"
          ]
        }
      ],
      "source": [
        "census_region12_df = census_df[(census_df['REGION'] == 1 ) | (census_df['REGION'] == 2 )]\n",
        "#census_region12_df['CTYNAME'].iloc[0][0:10]\n",
        "census_region12_df = census_region12_df[census_region12_df['POPESTIMATE2015']>census_region12_df['POPESTIMATE2014']]\n",
        "\n",
        "census_region12_washington_df = census_region12_df[['STNAME', 'CTYNAME']]\n",
        "\n",
        "for idx in census_region12_washington_df.index:\n",
        "    if not(len(census_region12_washington_df['CTYNAME'][idx])>=10 and (census_region12_washington_df['CTYNAME'][idx][0:10] == \"Washington\")): \n",
        "        census_region12_washington_df.drop(idx, inplace=True)\n"
      ]
    },
    {
      "cell_type": "code",
      "execution_count": null,
      "metadata": {
        "umich_part_id": "008",
        "umich_partlist_id": "002",
        "id": "XW4Ghku0O3DC",
        "outputId": "08fb270b-3fee-4c64-d8d8-7408d46fdfe7"
      },
      "outputs": [
        {
          "data": {
            "text/html": [
              "<div>\n",
              "<table border=\"1\" class=\"dataframe\">\n",
              "  <thead>\n",
              "    <tr style=\"text-align: right;\">\n",
              "      <th></th>\n",
              "      <th>STNAME</th>\n",
              "      <th>CTYNAME</th>\n",
              "    </tr>\n",
              "  </thead>\n",
              "  <tbody>\n",
              "    <tr>\n",
              "      <th>896</th>\n",
              "      <td>Iowa</td>\n",
              "      <td>Washington County</td>\n",
              "    </tr>\n",
              "    <tr>\n",
              "      <th>1419</th>\n",
              "      <td>Minnesota</td>\n",
              "      <td>Washington County</td>\n",
              "    </tr>\n",
              "    <tr>\n",
              "      <th>2345</th>\n",
              "      <td>Pennsylvania</td>\n",
              "      <td>Washington County</td>\n",
              "    </tr>\n",
              "    <tr>\n",
              "      <th>2355</th>\n",
              "      <td>Rhode Island</td>\n",
              "      <td>Washington County</td>\n",
              "    </tr>\n",
              "    <tr>\n",
              "      <th>3163</th>\n",
              "      <td>Wisconsin</td>\n",
              "      <td>Washington County</td>\n",
              "    </tr>\n",
              "  </tbody>\n",
              "</table>\n",
              "</div>"
            ],
            "text/plain": [
              "            STNAME            CTYNAME\n",
              "896           Iowa  Washington County\n",
              "1419     Minnesota  Washington County\n",
              "2345  Pennsylvania  Washington County\n",
              "2355  Rhode Island  Washington County\n",
              "3163     Wisconsin  Washington County"
            ]
          },
          "execution_count": 58,
          "metadata": {},
          "output_type": "execute_result"
        }
      ],
      "source": [
        "def answer_eight():\n",
        "    census_region12_df = census_df[(census_df['REGION'] == 1 ) | (census_df['REGION'] == 2 )]\n",
        "    census_region12_df = census_region12_df[census_region12_df['POPESTIMATE2015']>census_region12_df['POPESTIMATE2014']]\n",
        "    census_region12_washington_df = census_region12_df[['STNAME', 'CTYNAME']]\n",
        "\n",
        "    for idx in census_region12_washington_df.index:\n",
        "        if not(len(census_region12_washington_df['CTYNAME'][idx])>=10 and (census_region12_washington_df['CTYNAME'][idx][0:10] == \"Washington\")): \n",
        "            census_region12_washington_df.drop(idx, inplace=True)\n",
        "    return census_region12_washington_df\n",
        "answer_eight()"
      ]
    },
    {
      "cell_type": "code",
      "execution_count": null,
      "metadata": {
        "collapsed": true,
        "id": "zFQqrIDQO3DD"
      },
      "outputs": [],
      "source": []
    }
  ],
  "metadata": {
    "anaconda-cloud": {},
    "coursera": {
      "course_slug": "python-data-analysis",
      "graded_item_id": "tHmgx",
      "launcher_item_id": "Um6Bz",
      "part_id": "OQsnr"
    },
    "kernelspec": {
      "display_name": "Python 3",
      "language": "python",
      "name": "python3"
    },
    "language_info": {
      "codemirror_mode": {
        "name": "ipython",
        "version": 3
      },
      "file_extension": ".py",
      "mimetype": "text/x-python",
      "name": "python",
      "nbconvert_exporter": "python",
      "pygments_lexer": "ipython3",
      "version": "3.6.2"
    },
    "umich": {
      "id": "Assignment 2",
      "version": "1.2"
    },
    "colab": {
      "name": "Assignment 2.ipynb",
      "provenance": [],
      "include_colab_link": true
    }
  },
  "nbformat": 4,
  "nbformat_minor": 0
}