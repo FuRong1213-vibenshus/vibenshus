{
  "nbformat": 4,
  "nbformat_minor": 0,
  "metadata": {
    "colab": {
      "provenance": [],
      "collapsed_sections": [],
      "authorship_tag": "ABX9TyO436n/11hV0fadZKwHtYFo",
      "include_colab_link": true
    },
    "kernelspec": {
      "name": "python3",
      "display_name": "Python 3"
    },
    "language_info": {
      "name": "python"
    }
  },
  "cells": [
    {
      "cell_type": "markdown",
      "metadata": {
        "id": "view-in-github",
        "colab_type": "text"
      },
      "source": [
        "<a href=\"https://colab.research.google.com/github/FuRong1213-vibenshus/vibenshus/blob/master/recursion.ipynb\" target=\"_parent\"><img src=\"https://colab.research.google.com/assets/colab-badge.svg\" alt=\"Open In Colab\"/></a>"
      ]
    },
    {
      "cell_type": "markdown",
      "source": [
        "#Recursion "
      ],
      "metadata": {
        "id": "4KBdtrpWoB4P"
      }
    },
    {
      "cell_type": "markdown",
      "source": [
        "## Divide and conquer algorithm\n",
        "\n",
        "A divide and conquer algorithm is a strategy of solving a large problem by breaking the problem into smaller sub-problems solving the sub-problems, and\n",
        "combining them to get the desired output."
      ],
      "metadata": {
        "id": "zdyBa9i1qzz2"
      }
    },
    {
      "cell_type": "markdown",
      "source": [
        "**Divide** : Divide the given problem into sub-problems using recursion.\n",
        "\n",
        "**Conquer**: Solve the smaller sub-problems recursively. If the subproblem is small enough, then solve it directly.\n",
        "\n",
        "**Combine**: Combine the solutions of the sub-problems that are part of the recursive process to solve the actual problem.\n",
        "\n",
        "https://www.programiz.com/dsa/divide-and-conquer"
      ],
      "metadata": {
        "id": "PWMUnzUjuK3a"
      }
    },
    {
      "cell_type": "code",
      "source": [
        "# Binary Search in python\n",
        "\n",
        "def binarySearch(array, x, low, high):\n",
        "    if high >= low:\n",
        "\n",
        "        mid = low + (high - low)//2\n",
        "\n",
        "        # If found at mid, then return it\n",
        "        if array[mid] == x:\n",
        "            return mid\n",
        "\n",
        "        # Search the left half\n",
        "        elif array[mid] > x:\n",
        "            return binarySearch(array, x, low, mid-1)\n",
        "\n",
        "        # Search the right half\n",
        "        else:\n",
        "            return binarySearch(array, x, mid + 1, high)\n",
        "    else:\n",
        "        return -1\n",
        "\n",
        "\n",
        "array = [3, 4, 5, 6, 7, 8, 9]\n",
        "x = 10\n",
        "\n",
        "result = binarySearch(array, x, 0, len(array)-1)\n",
        "\n",
        "if result != -1:\n",
        "    print(\"Element is present at index \" + str(result))\n",
        "else:\n",
        "    print(\"Not found\")"
      ],
      "metadata": {
        "colab": {
          "base_uri": "https://localhost:8080/"
        },
        "id": "OhrLyKxF60UW",
        "outputId": "07e939c7-8ab2-4b45-985b-df7755781ba8"
      },
      "execution_count": 2,
      "outputs": [
        {
          "output_type": "stream",
          "name": "stdout",
          "text": [
            "Not found\n"
          ]
        }
      ]
    },
    {
      "cell_type": "code",
      "execution_count": null,
      "metadata": {
        "id": "mp7gbdFJoALZ"
      },
      "outputs": [],
      "source": [
        "# Binary Search in python\n",
        "\n",
        "\n",
        "def binarySearch(array, x, low, high):\n",
        "\n",
        "    # Repeat until the pointers low and high meet each other\n",
        "    while low <= high:\n",
        "        mid = low + (high - low)//2\n",
        "        if array[mid] == x:\n",
        "            return mid\n",
        "        elif array[mid] < x:\n",
        "            low = mid + 1\n",
        "        else:\n",
        "            high = mid - 1\n",
        "    return -1\n",
        "\n",
        "array = [3, 4, 5, 6, 7, 8, 9]\n",
        "x = 4\n",
        "\n",
        "result = binarySearch(array, x, 0, len(array)-1)\n",
        "\n",
        "if result != -1:\n",
        "    print(\"Element is present at index \" + str(result))\n",
        "else:\n",
        "    print(\"Not found\")"
      ]
    },
    {
      "cell_type": "code",
      "source": [],
      "metadata": {
        "id": "4FSQ2oMb6QhX"
      },
      "execution_count": null,
      "outputs": []
    },
    {
      "cell_type": "code",
      "source": [
        "# MergeSort in Python\n",
        "\n",
        "\n",
        "def mergeSort(array):\n",
        "    if len(array) > 1:\n",
        "\n",
        "        #  r is the point where the array is divided into two subarrays\n",
        "        r = len(array)//2\n",
        "        L = array[:r]\n",
        "        M = array[r:]\n",
        "\n",
        "        # Sort the two halves\n",
        "        mergeSort(L)\n",
        "        mergeSort(M)\n",
        "\n",
        "        i = j = k = 0\n",
        "\n",
        "        # Until we reach either end of either L or M, pick larger among\n",
        "        # elements L and M and place them in the correct position at A[p..r]\n",
        "        while i < len(L) and j < len(M):\n",
        "            if L[i] < M[j]:\n",
        "                array[k] = L[i]\n",
        "                i += 1\n",
        "            else:\n",
        "                array[k] = M[j]\n",
        "                j += 1\n",
        "            k += 1\n",
        "\n",
        "        # When we run out of elements in either L or M,\n",
        "        # pick up the remaining elements and put in A[p..r]\n",
        "        while i < len(L):\n",
        "            array[k] = L[i]\n",
        "            i += 1\n",
        "            k += 1\n",
        "\n",
        "        while j < len(M):\n",
        "            array[k] = M[j]\n",
        "            j += 1\n",
        "            k += 1\n",
        "\n",
        "# Print the array\n",
        "def printList(array):\n",
        "    for i in range(len(array)):\n",
        "        print(array[i], end=\" \")\n",
        "    print()\n",
        "\n",
        "\n",
        "# Driver program\n",
        "if __name__ == '__main__':\n",
        "    array = [6, 5, 12, 10, 9, 1]\n",
        "\n",
        "    mergeSort(array)\n",
        "\n",
        "    print(\"Sorted array is: \")\n",
        "    printList(array)"
      ],
      "metadata": {
        "colab": {
          "base_uri": "https://localhost:8080/"
        },
        "id": "K9XrcsIaqXx0",
        "outputId": "fb1d8e2d-6919-44c4-f7d5-bda7c603abfa"
      },
      "execution_count": 4,
      "outputs": [
        {
          "output_type": "stream",
          "name": "stdout",
          "text": [
            "Sorted array is: \n",
            "1 5 6 9 10 12 \n"
          ]
        }
      ]
    },
    {
      "cell_type": "markdown",
      "source": [
        "## Greedy algorithm"
      ],
      "metadata": {
        "id": "TY_Enh_RwIw_"
      }
    },
    {
      "cell_type": "code",
      "source": [
        "# A Huffman Tree Node\n",
        "# Heaps are binary trees for which every parent node has a value less than \n",
        "# or equal to any of its children. \n",
        "# This implementation uses arrays for which heap[k] <= heap[2*k+1] \n",
        "# and heap[k] <= heap[2*k+2] for all k, counting elements from zero. \n",
        "import heapq\n",
        "\n",
        "class node:\n",
        "\tdef __init__(self, freq, symbol, left=None, right=None):\n",
        "\t\t# frequency of symbol\n",
        "\t\tself.freq = freq\n",
        "\t\t# symbol name (character)\n",
        "\t\tself.symbol = symbol\n",
        "\t\t# node left of current node\n",
        "\t\tself.left = left\n",
        "\t\t# node right of current node\n",
        "\t\tself.right = right\n",
        "\t\t# tree direction (0/1)\n",
        "\t\tself.huff = ''\n",
        "\t\t\n",
        "\tdef __lt__(self, nxt):\n",
        "\t\treturn self.freq < nxt.freq\n",
        "\t\t\n",
        "# utility function to print huffman\n",
        "# codes for all symbols in the newly\n",
        "# created Huffman tree\n",
        "def printNodes(node, val=''):\n",
        "\t\n",
        "\t# huffman code for current node\n",
        "\tnewVal = val + str(node.huff)\n",
        "\n",
        "\t# if node is not an edge node\n",
        "\t# then traverse inside it\n",
        "\tif(node.left):\n",
        "\t\tprintNodes(node.left, newVal)\n",
        "\tif(node.right):\n",
        "\t\tprintNodes(node.right, newVal)\n",
        "\n",
        "\t\t# if node is edge node then\n",
        "\t\t# display its huffman code\n",
        "\tif(not node.left and not node.right):\n",
        "\t\tprint(f\"{node.symbol} -> {newVal}\")\n",
        "\n",
        "\n",
        "# characters for huffman tree\n",
        "chars = ['a', 'b', 'c', 'd', 'e', 'f']\n",
        "\n",
        "# frequency of characters\n",
        "freq = [ 5, 9, 12, 13, 16, 45]\n",
        "\n",
        "# list containing unused nodes\n",
        "nodes = []\n",
        "\n",
        "# converting characters and frequencies\n",
        "# into huffman tree nodes\n",
        "for x in range(len(chars)):\n",
        "\theapq.heappush(nodes, node(freq[x], chars[x]))\n",
        "\n",
        "while len(nodes) > 1:\n",
        "\t\n",
        "\t# sort all the nodes in ascending order\n",
        "\t# based on their frequency\n",
        "\tleft = heapq.heappop(nodes)\n",
        "\tright = heapq.heappop(nodes)\n",
        "\n",
        "\t# assign directional value to these nodes\n",
        "\tleft.huff = 0\n",
        "\tright.huff = 1\n",
        "\n",
        "\t# combine the 2 smallest nodes to create\n",
        "\t# new node as their parent\n",
        "\tnewNode = node(left.freq+right.freq, left.symbol+right.symbol, left, right)\n",
        "\n",
        "\theapq.heappush(nodes, newNode)\n",
        "\n",
        "# Huffman Tree is ready!\n",
        "printNodes(nodes[0])\n"
      ],
      "metadata": {
        "colab": {
          "base_uri": "https://localhost:8080/"
        },
        "id": "LddT81qcxKRE",
        "outputId": "15563349-393a-4c08-ee7c-77d978076df6"
      },
      "execution_count": 3,
      "outputs": [
        {
          "output_type": "stream",
          "name": "stdout",
          "text": [
            "f -> 0\n",
            "c -> 100\n",
            "d -> 101\n",
            "a -> 1100\n",
            "b -> 1101\n",
            "e -> 111\n"
          ]
        }
      ]
    },
    {
      "cell_type": "code",
      "source": [
        "from collections import Counter\n",
        "\n",
        "class NodeTree(object):\n",
        "    def __init__(self, left=None, right=None):\n",
        "        self.left = left\n",
        "        self.right = right\n",
        "\n",
        "    def children(self):\n",
        "        return self.left, self.right\n",
        "\n",
        "    def __str__(self):\n",
        "        return self.left, self.right\n",
        "\n",
        "def huffman_code_tree(node, binString=''):\n",
        "    '''\n",
        "    Function to find Huffman Code\n",
        "    '''\n",
        "    if type(node) is str:\n",
        "        return {node: binString}\n",
        "    (l, r) = node.children()\n",
        "    d = dict()\n",
        "    d.update(huffman_code_tree(l, binString + '0'))\n",
        "    d.update(huffman_code_tree(r, binString + '1'))\n",
        "    return d\n",
        "\n",
        "def make_tree(nodes):\n",
        "    '''\n",
        "    Function to make tree\n",
        "    :param nodes: Nodes\n",
        "    :return: Root of the tree\n",
        "    '''\n",
        "    while len(nodes) > 1:\n",
        "        (key1, c1) = nodes[-1]\n",
        "        (key2, c2) = nodes[-2]\n",
        "        nodes = nodes[:-2]\n",
        "        node = NodeTree(key1, key2)\n",
        "        nodes.append((node, c1 + c2))\n",
        "        nodes = sorted(nodes, key=lambda x: x[1], reverse=True)\n",
        "    return nodes[0][0]\n",
        "\n",
        "if __name__ == '__main__':\n",
        "    string = 'BCAADDDCCACACAC'\n",
        "    freq = dict(Counter(string))\n",
        "    freq = sorted(freq.items(), key=lambda x: x[1], reverse=True)\n",
        "    node = make_tree(freq)\n",
        "    encoding = huffman_code_tree(node)\n",
        "    for i in encoding:\n",
        "        print(f'{i} : {encoding[i]}')"
      ],
      "metadata": {
        "id": "erEdCGchwLeL"
      },
      "execution_count": null,
      "outputs": []
    },
    {
      "cell_type": "markdown",
      "source": [
        "### Solid Design Principles\n",
        "The broad goal of the SOLID principles is to reduce dependencies so that engineers change one area of software without impacting others. Additionally, they’re intended to make designs easier to understand, maintain, and extend. Ultimately, using these design principles makes it easier for software engineers to avoid issues and to build adaptive, effective, and agile software.\n",
        "\n",
        "While the principles come with many benefits, following the principles generally leads to writing longer and more complex code. This means that it can extend the design process and make development a little more difficult. However, this extra time and effort is well worth it because it makes software so much easier to maintain, test, and extend.\n",
        "\n",
        "> **Single Responsibility Principle**\n",
        "\n",
        "Robert Martin summarizes this principle well by mandating that, “a class should have one, and only one, reason to change.” Following this principle means that each class only does one thing and every class or module only has responsibility for one part of the software’s functionality. More simply, each class should solve only one problem.\n",
        "\n",
        "Utilizing this principle makes code easier to test and maintain, it makes software easier to implement, and it helps to avoid unanticipated side-effects of future changes.\n",
        "\n",
        "You can avoid these problems by asking a simple question before you make any changes: What is the responsibility of your class/component/microservice?\n",
        "\n",
        "If your answer includes the word “and”, you’re most likely breaking the single responsibility principle. Then it’s better to take a step back and rethink your current approach. There is most likely a better way to implement it.\n",
        "\n",
        "> **Open-Closed Principle**\n",
        "\n",
        "The idea of open-closed principle is that existing, well-tested classes will need to be modified when something needs to be added. Yet, changing classes can lead to problems or bugs. Instead of changing the class, you simply want to extend it. With that goal in mind, Martin summarizes this principle, “You should be able to extend a class’s behavior without modifying it.”\n",
        "\n",
        "Open for extension, meaning that the class’s behavior can be extended; and\n",
        "\n",
        "Closed for modification, meaning that the source code is set and cannot be changed.\n"
      ],
      "metadata": {
        "id": "voe7CJUI9FBF"
      }
    },
    {
      "cell_type": "markdown",
      "source": [
        "## Fibonacci"
      ],
      "metadata": {
        "id": "jGvSluAF7yFH"
      }
    },
    {
      "cell_type": "code",
      "source": [
        "\"\"\"Fibonacci Sequence, by Al Sweigart al@inventwithpython.com\n",
        "Calculates numbers of the Fibonacci sequence: 0, 1, 1, 2, 3, 5, 8, 13...\n",
        "View this code at https://nostarch.com/big-book-small-python-projects\n",
        "Tags: short, math\"\"\"\n",
        "\n",
        "import sys\n",
        "\n",
        "print('''Fibonacci Sequence, by Al Sweigart al@inventwithpython.com\n",
        "\n",
        "The Fibonacci sequence begins with 0 and 1, and the next number is the\n",
        "sum of the previous two numbers. The sequence continues forever:\n",
        "\n",
        "0, 1, 1, 2, 3, 5, 8, 13, 21, 34, 55, 89, 144, 233, 377, 610, 987...\n",
        "''')\n",
        "\n",
        "while True:  # Main program loop.\n",
        "    while True:  # Keep asking until the user enters valid input.\n",
        "        print('Enter the Nth Fibonacci number you wish to')\n",
        "        print('calculate (such as 5, 50, 1000, 9999), or QUIT to quit:')\n",
        "        response = input('> ').upper()\n",
        "\n",
        "        if response == 'QUIT':\n",
        "            print('Thanks for playing!')\n",
        "            sys.exit()\n",
        "\n",
        "        if response.isdecimal() and int(response) != 0:\n",
        "            nth = int(response)\n",
        "            break  # Exit the loop when the user enters a valid number.\n",
        "\n",
        "        print('Please enter a number greater than 0, or QUIT.')\n",
        "    print()\n",
        "\n",
        "    # Handle the special cases if the user entered 1 or 2:\n",
        "    if nth == 1:\n",
        "        print('0')\n",
        "        print()\n",
        "        print('The #1 Fibonacci number is 0.')\n",
        "        continue\n",
        "    elif nth == 2:\n",
        "        print('0, 1')\n",
        "        print()\n",
        "        print('The #2 Fibonacci number is 1.')\n",
        "        continue\n",
        "\n",
        "    # Display warning if the user entered a large number:\n",
        "    if nth >= 10000:\n",
        "        print('WARNING: This will take a while to display on the')\n",
        "        print('screen. If you want to quit this program before it is')\n",
        "        print('done, press Ctrl-C.')\n",
        "        input('Press Enter to begin...')\n",
        "\n",
        "    # Calculate the Nth Fibonacci number:\n",
        "    secondToLastNumber = 0\n",
        "    lastNumber = 1\n",
        "    fibNumbersCalculated = 2\n",
        "    print('0, 1, ', end='')  # Display the first two Fibonacci numbers.\n",
        "\n",
        "    # Display all the later numbers of the Fibonacci sequence:\n",
        "    while True:\n",
        "        nextNumber = secondToLastNumber + lastNumber\n",
        "        fibNumbersCalculated += 1\n",
        "\n",
        "        # Display the next number in the sequence:\n",
        "        print(nextNumber, end='')\n",
        "\n",
        "        # Check if we've found the Nth number the user wants:\n",
        "        if fibNumbersCalculated == nth:\n",
        "            print()\n",
        "            print()\n",
        "            print('The #', fibNumbersCalculated, ' Fibonacci ',\n",
        "                  'number is ', nextNumber, sep='')\n",
        "            break\n",
        "\n",
        "        # Print a comma in between the sequence numbers:\n",
        "        print(', ', end='')\n",
        "\n",
        "        # Shift the last two numbers:\n",
        "        secondToLastNumber = lastNumber\n",
        "        lastNumber = nextNumber"
      ],
      "metadata": {
        "colab": {
          "base_uri": "https://localhost:8080/",
          "height": 565
        },
        "id": "NfiyJu7O7xig",
        "outputId": "3bf976d2-74c5-48e1-9506-b4faf1e90e1c"
      },
      "execution_count": 6,
      "outputs": [
        {
          "output_type": "stream",
          "name": "stdout",
          "text": [
            "Fibonacci Sequence, by Al Sweigart al@inventwithpython.com\n",
            "\n",
            "The Fibonacci sequence begins with 0 and 1, and the next number is the\n",
            "sum of the previous two numbers. The sequence continues forever:\n",
            "\n",
            "0, 1, 1, 2, 3, 5, 8, 13, 21, 34, 55, 89, 144, 233, 377, 610, 987...\n",
            "\n",
            "Enter the Nth Fibonacci number you wish to\n",
            "calculate (such as 5, 50, 1000, 9999), or QUIT to quit:\n",
            "> 25\n",
            "\n",
            "0, 1, 1, 2, 3, 5, 8, 13, 21, 34, 55, 89, 144, 233, 377, 610, 987, 1597, 2584, 4181, 6765, 10946, 17711, 28657, 46368\n",
            "\n",
            "The #25 Fibonacci number is 46368\n",
            "Enter the Nth Fibonacci number you wish to\n",
            "calculate (such as 5, 50, 1000, 9999), or QUIT to quit:\n",
            "> aa'\n",
            "Please enter a number greater than 0, or QUIT.\n",
            "Enter the Nth Fibonacci number you wish to\n",
            "calculate (such as 5, 50, 1000, 9999), or QUIT to quit:\n",
            "> quit\n",
            "Thanks for playing!\n"
          ]
        },
        {
          "output_type": "error",
          "ename": "SystemExit",
          "evalue": "ignored",
          "traceback": [
            "An exception has occurred, use %tb to see the full traceback.\n",
            "\u001b[0;31mSystemExit\u001b[0m\n"
          ]
        },
        {
          "output_type": "stream",
          "name": "stderr",
          "text": [
            "/usr/local/lib/python3.7/dist-packages/IPython/core/interactiveshell.py:3334: UserWarning: To exit: use 'exit', 'quit', or Ctrl-D.\n",
            "  warn(\"To exit: use 'exit', 'quit', or Ctrl-D.\", stacklevel=1)\n"
          ]
        }
      ]
    },
    {
      "cell_type": "code",
      "source": [],
      "metadata": {
        "id": "HWh5fbvI72n_"
      },
      "execution_count": null,
      "outputs": []
    }
  ]
}