{
  "nbformat": 4,
  "nbformat_minor": 0,
  "metadata": {
    "colab": {
      "provenance": [],
      "authorship_tag": "ABX9TyPw70/mkWkMissFBP3BPy0n",
      "include_colab_link": true
    },
    "kernelspec": {
      "name": "python3",
      "display_name": "Python 3"
    },
    "language_info": {
      "name": "python"
    }
  },
  "cells": [
    {
      "cell_type": "markdown",
      "metadata": {
        "id": "view-in-github",
        "colab_type": "text"
      },
      "source": [
        "<a href=\"https://colab.research.google.com/github/FuRong1213-vibenshus/vibenshus/blob/master/masterclass.ipynb\" target=\"_parent\"><img src=\"https://colab.research.google.com/assets/colab-badge.svg\" alt=\"Open In Colab\"/></a>"
      ]
    },
    {
      "cell_type": "code",
      "execution_count": null,
      "metadata": {
        "colab": {
          "base_uri": "https://localhost:8080/"
        },
        "id": "6_F7orGcbIt3",
        "outputId": "a0356547-354a-4d46-f1c4-67d726a555ee"
      },
      "outputs": [
        {
          "output_type": "stream",
          "name": "stdout",
          "text": [
            "Looking in indexes: https://pypi.org/simple, https://us-python.pkg.dev/colab-wheels/public/simple/\n",
            "Collecting ColabTurtlePlus==1.5\n",
            "  Downloading ColabTurtlePlus-1.5-py3-none-any.whl (28 kB)\n",
            "Installing collected packages: ColabTurtlePlus\n",
            "Successfully installed ColabTurtlePlus-1.5\n"
          ]
        }
      ],
      "source": [
        "!pip install ColabTurtlePlus==1.5"
      ]
    },
    {
      "cell_type": "code",
      "source": [
        "\n",
        "#Mars Perseverance Rover - Challenge #1 - www.101computing.net/mars-perseverance-rover/\n",
        "import ColabTurtlePlus.Turtle as turtle\n",
        "#screen = turtle.Screen()\n",
        "\n",
        "# this assures that the size of the screen will always be 400x400 ...\n",
        "CANVAS_SIZE = 400\n",
        "turtle.initializeTurtle(window=(CANVAS_SIZE, CANVAS_SIZE), speed=4)\n",
        "#screen.bgpic(\"mars-path-1.png\")\n",
        "\n",
        "# Initialise the rover...\n",
        "rover = turtle\n",
        "#screen.addshape(\"rover.png\")\n",
        "#rover.shape(\"rover.png\")\n",
        "rover.speed(100)\n",
        "\n",
        "rover.color(\"#810000\")\n",
        "rover.pensize(4)\n",
        "rover.penup()\n",
        "rover.goto(-165,-165)\n",
        "rover.pendown()\n",
        "\n",
        "#Implement Rover Path...\n",
        "rover.forward(330)\n",
        "rover.left(90)\n",
        "rover.forward(330)\n",
        "rover.left(90)\n",
        "rover.forward(330)\n",
        "rover.left(90)\n",
        "rover.forward(330)\n",
        "\n",
        "\n",
        "\n",
        "\n"
      ],
      "metadata": {
        "colab": {
          "base_uri": "https://localhost:8080/",
          "height": 421
        },
        "id": "t86BRWfqbJbh",
        "outputId": "ebf5f956-32bb-46cd-ebc8-8376f5d59b98"
      },
      "execution_count": 7,
      "outputs": [
        {
          "output_type": "display_data",
          "data": {
            "text/plain": [
              "<IPython.core.display.HTML object>"
            ],
            "text/html": [
              "\n",
              "      <svg width=\"400\" height=\"400\">  \n",
              "        <rect width=\"100%\" height=\"100%\" style=\"fill:white;stroke:;stroke-width:1\"/>\n",
              "        \n",
              "        <line x1=\"35.0\" y1=\"365.0\" x2=\"365.0\" y2=\"365.0\" stroke-linecap=\"round\" style=\"stroke:#810000;stroke-width:4\" /><line x1=\"365.0\" y1=\"365.0\" x2=\"365.0\" y2=\"35.0\" stroke-linecap=\"round\" style=\"stroke:#810000;stroke-width:4\" /><line x1=\"365.0\" y1=\"35.0\" x2=\"35.0\" y2=\"35.0\" stroke-linecap=\"round\" style=\"stroke:#810000;stroke-width:4\" /><line x1=\"35.0\" y1=\"35.0\" x2=\"35.0\" y2=\"45.0\" stroke-linecap=\"round\" style=\"stroke:#810000;stroke-width:4\" /><line x1=\"35.0\" y1=\"45.0\" x2=\"35.0\" y2=\"55.0\" stroke-linecap=\"round\" style=\"stroke:#810000;stroke-width:4\" /><line x1=\"35.0\" y1=\"55.0\" x2=\"35.0\" y2=\"65.0\" stroke-linecap=\"round\" style=\"stroke:#810000;stroke-width:4\" /><line x1=\"35.0\" y1=\"65.0\" x2=\"35.0\" y2=\"75.0\" stroke-linecap=\"round\" style=\"stroke:#810000;stroke-width:4\" /><line x1=\"35.0\" y1=\"75.0\" x2=\"35.0\" y2=\"85.0\" stroke-linecap=\"round\" style=\"stroke:#810000;stroke-width:4\" /><line x1=\"35.0\" y1=\"85.0\" x2=\"35.0\" y2=\"95.0\" stroke-linecap=\"round\" style=\"stroke:#810000;stroke-width:4\" /><line x1=\"35.0\" y1=\"95.0\" x2=\"35.0\" y2=\"105.0\" stroke-linecap=\"round\" style=\"stroke:#810000;stroke-width:4\" /><line x1=\"35.0\" y1=\"105.0\" x2=\"35.0\" y2=\"115.0\" stroke-linecap=\"round\" style=\"stroke:#810000;stroke-width:4\" /><line x1=\"35.0\" y1=\"115.0\" x2=\"35.0\" y2=\"125.0\" stroke-linecap=\"round\" style=\"stroke:#810000;stroke-width:4\" /><line x1=\"35.0\" y1=\"125.0\" x2=\"35.0\" y2=\"135.0\" stroke-linecap=\"round\" style=\"stroke:#810000;stroke-width:4\" /><line x1=\"35.0\" y1=\"135.0\" x2=\"35.0\" y2=\"145.0\" stroke-linecap=\"round\" style=\"stroke:#810000;stroke-width:4\" /><line x1=\"35.0\" y1=\"145.0\" x2=\"35.0\" y2=\"155.0\" stroke-linecap=\"round\" style=\"stroke:#810000;stroke-width:4\" /><line x1=\"35.0\" y1=\"155.0\" x2=\"35.0\" y2=\"165.0\" stroke-linecap=\"round\" style=\"stroke:#810000;stroke-width:4\" /><line x1=\"35.0\" y1=\"165.0\" x2=\"35.0\" y2=\"175.0\" stroke-linecap=\"round\" style=\"stroke:#810000;stroke-width:4\" /><line x1=\"35.0\" y1=\"175.0\" x2=\"35.0\" y2=\"185.0\" stroke-linecap=\"round\" style=\"stroke:#810000;stroke-width:4\" /><line x1=\"35.0\" y1=\"185.0\" x2=\"35.0\" y2=\"195.0\" stroke-linecap=\"round\" style=\"stroke:#810000;stroke-width:4\" /><line x1=\"35.0\" y1=\"195.0\" x2=\"35.0\" y2=\"205.0\" stroke-linecap=\"round\" style=\"stroke:#810000;stroke-width:4\" /><line x1=\"35.0\" y1=\"205.0\" x2=\"35.0\" y2=\"215.0\" stroke-linecap=\"round\" style=\"stroke:#810000;stroke-width:4\" /><line x1=\"35.0\" y1=\"215.0\" x2=\"35.0\" y2=\"225.0\" stroke-linecap=\"round\" style=\"stroke:#810000;stroke-width:4\" /><line x1=\"35.0\" y1=\"225.0\" x2=\"35.0\" y2=\"235.0\" stroke-linecap=\"round\" style=\"stroke:#810000;stroke-width:4\" /><line x1=\"35.0\" y1=\"235.0\" x2=\"35.0\" y2=\"245.0\" stroke-linecap=\"round\" style=\"stroke:#810000;stroke-width:4\" /><line x1=\"35.0\" y1=\"245.0\" x2=\"35.0\" y2=\"255.0\" stroke-linecap=\"round\" style=\"stroke:#810000;stroke-width:4\" /><line x1=\"35.0\" y1=\"255.0\" x2=\"35.0\" y2=\"265.0\" stroke-linecap=\"round\" style=\"stroke:#810000;stroke-width:4\" /><line x1=\"35.0\" y1=\"265.0\" x2=\"35.0\" y2=\"275.0\" stroke-linecap=\"round\" style=\"stroke:#810000;stroke-width:4\" /><line x1=\"35.0\" y1=\"275.0\" x2=\"35.0\" y2=\"285.0\" stroke-linecap=\"round\" style=\"stroke:#810000;stroke-width:4\" /><line x1=\"35.0\" y1=\"285.0\" x2=\"35.0\" y2=\"295.0\" stroke-linecap=\"round\" style=\"stroke:#810000;stroke-width:4\" /><line x1=\"35.0\" y1=\"295.0\" x2=\"35.0\" y2=\"305.0\" stroke-linecap=\"round\" style=\"stroke:#810000;stroke-width:4\" /><line x1=\"35.0\" y1=\"305.0\" x2=\"35.0\" y2=\"315.0\" stroke-linecap=\"round\" style=\"stroke:#810000;stroke-width:4\" /><line x1=\"35.0\" y1=\"315.0\" x2=\"35.0\" y2=\"325.0\" stroke-linecap=\"round\" style=\"stroke:#810000;stroke-width:4\" /><line x1=\"35.0\" y1=\"325.0\" x2=\"35.0\" y2=\"335.0\" stroke-linecap=\"round\" style=\"stroke:#810000;stroke-width:4\" /><line x1=\"35.0\" y1=\"335.0\" x2=\"35.0\" y2=\"345.0\" stroke-linecap=\"round\" style=\"stroke:#810000;stroke-width:4\" /><line x1=\"35.0\" y1=\"345.0\" x2=\"35.0\" y2=\"355.0\" stroke-linecap=\"round\" style=\"stroke:#810000;stroke-width:4\" /><line x1=\"35.0\" y1=\"355.0\" x2=\"35.0\" y2=\"365.0\" stroke-linecap=\"round\" style=\"stroke:#810000;stroke-width:4\" />\n",
              "        \n",
              "        \n",
              "        <g id=\"classic\" visibility=\"visible\" transform=\"rotate(0,35.0,365.0) translate(35.0, 365.0)\">\n",
              "<polygon points=\"-5,-4.5 0,-2.5 5,-4.5 0,4.5\" transform=\"skewX(0) scale(1,1)\" style=\"stroke:#810000;fill:#810000;stroke-width:1\" />\n",
              "</g>\n",
              "      </svg>\n",
              "    "
            ]
          },
          "metadata": {}
        }
      ]
    },
    {
      "cell_type": "code",
      "source": [],
      "metadata": {
        "id": "phl3dfmucN2o"
      },
      "execution_count": null,
      "outputs": []
    }
  ]
}