{
  "nbformat": 4,
  "nbformat_minor": 0,
  "metadata": {
    "colab": {
      "provenance": [],
      "collapsed_sections": [],
      "authorship_tag": "ABX9TyO01I3xZhOF846HeH46xRuP",
      "include_colab_link": true
    },
    "kernelspec": {
      "name": "python3",
      "display_name": "Python 3"
    },
    "language_info": {
      "name": "python"
    }
  },
  "cells": [
    {
      "cell_type": "markdown",
      "metadata": {
        "id": "view-in-github",
        "colab_type": "text"
      },
      "source": [
        "<a href=\"https://colab.research.google.com/github/FuRong1213-vibenshus/vibenshus/blob/master/testing.ipynb\" target=\"_parent\"><img src=\"https://colab.research.google.com/assets/colab-badge.svg\" alt=\"Open In Colab\"/></a>"
      ]
    },
    {
      "cell_type": "markdown",
      "source": [
        "Repetition: \n",
        "\n",
        "* Recursive programming\n",
        "\n",
        "  * Explain: MergeSort and binary tree\n",
        "\n",
        "  * Try it yourself: make a function, which takes input of a number n and output a series of Fibonacci number of length n\n",
        "\n",
        "      * Before you start, try to think about a stop condition for the recursive loop"
      ],
      "metadata": {
        "id": "4AHoy9yTPQzB"
      }
    },
    {
      "cell_type": "markdown",
      "source": [
        "# Test and Project structure (week 40, 2022)\n",
        "\n",
        "Testing: Systematic method of finding errors of code wrt. their specification by executing the code.\n",
        "\n",
        "Systematic: Methodical design of test suite (test design method)\n",
        "\n",
        "- Specification-driven testing (black-box testing): Derive test suite from analysis of specification\n",
        "\n",
        "- Code-driven testing (white-box testing): Derive test\n",
        "suite from analysis of code\n",
        "\n",
        "-  In both cases you need both specification and code!\n",
        "\n",
        "  - Black-box testing: Analyze specification to derive test cases (inputs) and expected results (outputs), run code.\n",
        "  - White-box testing: Analyze code to derive test cases (inputs), consult specification to derive expected results (output), run\n",
        "code. \n",
        "\n"
      ],
      "metadata": {
        "id": "HLgIrLCT_CiJ"
      }
    },
    {
      "cell_type": "code",
      "execution_count": null,
      "metadata": {
        "id": "Y8n0NXOH_Bsn"
      },
      "outputs": [],
      "source": []
    },
    {
      "cell_type": "markdown",
      "source": [
        " ## Unit test\n",
        " A *unit test* verifies that one specific aspect of a function’s \n",
        "behavior is correct. A *test case* is a collection of unit tests that together prove \n",
        "that a function behaves as it’s supposed to, within the full range of situations you expect it to handle. A good test case considers all the possible \n",
        "kinds of input a function could receive and includes tests to represent each \n",
        "of these situations. A test case with full coverage includes a *full range* of unit \n",
        "tests covering all the possible ways you can use a function. Achieving full \n",
        "coverage on a large project can be daunting. It’s often good enough to write \n",
        "tests for your code’s critical behaviors and then aim for full coverage only if \n",
        "the project starts to see widespread use.\n",
        "\n",
        "https://docs.python.org/3/library/unittest.html\n"
      ],
      "metadata": {
        "id": "7OdaojpkEXVD"
      }
    },
    {
      "cell_type": "markdown",
      "source": [
        "- Testing a function"
      ],
      "metadata": {
        "id": "EIUjOl8sH69b"
      }
    },
    {
      "cell_type": "markdown",
      "source": [
        "try it yourself 11.1, 11.2"
      ],
      "metadata": {
        "id": "fIJSBrOCHxJy"
      }
    },
    {
      "cell_type": "markdown",
      "source": [
        "- Testing a class: is similar to testing a function—much of your work involves testing the behavior of the methods in the class.\n",
        "\n",
        "- when a test case is running, Python prints one character for each unit test as it is \n",
        "completed. A passing test prints a dot, a test that results in an error prints an E, and \n",
        "a test that results in a failed assertion prints an F. This is why you’ll see a different \n",
        "number of dots and characters on the first line of output when you run your test cases. \n"
      ],
      "metadata": {
        "id": "qMyQGct_H-hR"
      }
    },
    {
      "cell_type": "markdown",
      "source": [
        "try it yourself 11.3"
      ],
      "metadata": {
        "id": "aAgu50cvOMqJ"
      }
    },
    {
      "cell_type": "code",
      "source": [],
      "metadata": {
        "id": "_G52Td5LEY-s"
      },
      "execution_count": null,
      "outputs": []
    }
  ]
}